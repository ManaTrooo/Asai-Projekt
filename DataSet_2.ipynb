{
 "cells": [
  {
   "cell_type": "code",
   "id": "initial_id",
   "metadata": {
    "collapsed": true,
    "ExecuteTime": {
     "end_time": "2025-07-04T14:05:38.080455Z",
     "start_time": "2025-07-04T14:05:38.077929Z"
    }
   },
   "source": [
    "import pandas as pd\n",
    "import matplotlib.pyplot as plt\n",
    "import seaborn as sns"
   ],
   "outputs": [],
   "execution_count": 44
  },
  {
   "metadata": {
    "ExecuteTime": {
     "end_time": "2025-07-04T14:05:38.111723Z",
     "start_time": "2025-07-04T14:05:38.106956Z"
    }
   },
   "cell_type": "code",
   "source": [
    "#Datei einlesen\n",
    "df = pd.read_csv(\"heart3.csv\")\n",
    "#df = pd.read_csv(\"/Users/aurelia/Documents/GitHub/Asai-Projekt/heart3.csv\")\n",
    "df_orginal = df.copy()"
   ],
   "id": "abed7a2aff939da",
   "outputs": [],
   "execution_count": 45
  },
  {
   "metadata": {
    "ExecuteTime": {
     "end_time": "2025-07-04T14:05:38.151814Z",
     "start_time": "2025-07-04T14:05:38.141587Z"
    }
   },
   "cell_type": "code",
   "source": [
    "#DataFrame-Beispiel Daten\n",
    "styled_df = df.head(10).style.set_table_styles([\n",
    "    {'selector': 'thead th', 'props': [('background-color', '#1f77b4'), ('color', 'white'), ('font-weight', 'bold')]},\n",
    "    {'selector': 'tbody td', 'props': [('border', '1px solid #ddd'), ('text-align', 'center')]}\n",
    "]).set_properties(**{'text-align': 'center'})\n",
    "\n",
    "styled_df"
   ],
   "id": "fdbe57a7e7e7f0c4",
   "outputs": [
    {
     "data": {
      "text/plain": [
       "<pandas.io.formats.style.Styler at 0x1736a696350>"
      ],
      "text/html": [
       "<style type=\"text/css\">\n",
       "#T_7f7e3 thead th {\n",
       "  background-color: #1f77b4;\n",
       "  color: white;\n",
       "  font-weight: bold;\n",
       "}\n",
       "#T_7f7e3 tbody td {\n",
       "  border: 1px solid #ddd;\n",
       "  text-align: center;\n",
       "}\n",
       "#T_7f7e3_row0_col0, #T_7f7e3_row0_col1, #T_7f7e3_row0_col2, #T_7f7e3_row0_col3, #T_7f7e3_row0_col4, #T_7f7e3_row0_col5, #T_7f7e3_row0_col6, #T_7f7e3_row0_col7, #T_7f7e3_row0_col8, #T_7f7e3_row0_col9, #T_7f7e3_row0_col10, #T_7f7e3_row0_col11, #T_7f7e3_row1_col0, #T_7f7e3_row1_col1, #T_7f7e3_row1_col2, #T_7f7e3_row1_col3, #T_7f7e3_row1_col4, #T_7f7e3_row1_col5, #T_7f7e3_row1_col6, #T_7f7e3_row1_col7, #T_7f7e3_row1_col8, #T_7f7e3_row1_col9, #T_7f7e3_row1_col10, #T_7f7e3_row1_col11, #T_7f7e3_row2_col0, #T_7f7e3_row2_col1, #T_7f7e3_row2_col2, #T_7f7e3_row2_col3, #T_7f7e3_row2_col4, #T_7f7e3_row2_col5, #T_7f7e3_row2_col6, #T_7f7e3_row2_col7, #T_7f7e3_row2_col8, #T_7f7e3_row2_col9, #T_7f7e3_row2_col10, #T_7f7e3_row2_col11, #T_7f7e3_row3_col0, #T_7f7e3_row3_col1, #T_7f7e3_row3_col2, #T_7f7e3_row3_col3, #T_7f7e3_row3_col4, #T_7f7e3_row3_col5, #T_7f7e3_row3_col6, #T_7f7e3_row3_col7, #T_7f7e3_row3_col8, #T_7f7e3_row3_col9, #T_7f7e3_row3_col10, #T_7f7e3_row3_col11, #T_7f7e3_row4_col0, #T_7f7e3_row4_col1, #T_7f7e3_row4_col2, #T_7f7e3_row4_col3, #T_7f7e3_row4_col4, #T_7f7e3_row4_col5, #T_7f7e3_row4_col6, #T_7f7e3_row4_col7, #T_7f7e3_row4_col8, #T_7f7e3_row4_col9, #T_7f7e3_row4_col10, #T_7f7e3_row4_col11, #T_7f7e3_row5_col0, #T_7f7e3_row5_col1, #T_7f7e3_row5_col2, #T_7f7e3_row5_col3, #T_7f7e3_row5_col4, #T_7f7e3_row5_col5, #T_7f7e3_row5_col6, #T_7f7e3_row5_col7, #T_7f7e3_row5_col8, #T_7f7e3_row5_col9, #T_7f7e3_row5_col10, #T_7f7e3_row5_col11, #T_7f7e3_row6_col0, #T_7f7e3_row6_col1, #T_7f7e3_row6_col2, #T_7f7e3_row6_col3, #T_7f7e3_row6_col4, #T_7f7e3_row6_col5, #T_7f7e3_row6_col6, #T_7f7e3_row6_col7, #T_7f7e3_row6_col8, #T_7f7e3_row6_col9, #T_7f7e3_row6_col10, #T_7f7e3_row6_col11, #T_7f7e3_row7_col0, #T_7f7e3_row7_col1, #T_7f7e3_row7_col2, #T_7f7e3_row7_col3, #T_7f7e3_row7_col4, #T_7f7e3_row7_col5, #T_7f7e3_row7_col6, #T_7f7e3_row7_col7, #T_7f7e3_row7_col8, #T_7f7e3_row7_col9, #T_7f7e3_row7_col10, #T_7f7e3_row7_col11, #T_7f7e3_row8_col0, #T_7f7e3_row8_col1, #T_7f7e3_row8_col2, #T_7f7e3_row8_col3, #T_7f7e3_row8_col4, #T_7f7e3_row8_col5, #T_7f7e3_row8_col6, #T_7f7e3_row8_col7, #T_7f7e3_row8_col8, #T_7f7e3_row8_col9, #T_7f7e3_row8_col10, #T_7f7e3_row8_col11, #T_7f7e3_row9_col0, #T_7f7e3_row9_col1, #T_7f7e3_row9_col2, #T_7f7e3_row9_col3, #T_7f7e3_row9_col4, #T_7f7e3_row9_col5, #T_7f7e3_row9_col6, #T_7f7e3_row9_col7, #T_7f7e3_row9_col8, #T_7f7e3_row9_col9, #T_7f7e3_row9_col10, #T_7f7e3_row9_col11 {\n",
       "  text-align: center;\n",
       "}\n",
       "</style>\n",
       "<table id=\"T_7f7e3\">\n",
       "  <thead>\n",
       "    <tr>\n",
       "      <th class=\"blank level0\" >&nbsp;</th>\n",
       "      <th id=\"T_7f7e3_level0_col0\" class=\"col_heading level0 col0\" >Age</th>\n",
       "      <th id=\"T_7f7e3_level0_col1\" class=\"col_heading level0 col1\" >Sex</th>\n",
       "      <th id=\"T_7f7e3_level0_col2\" class=\"col_heading level0 col2\" >ChestPainType</th>\n",
       "      <th id=\"T_7f7e3_level0_col3\" class=\"col_heading level0 col3\" >RestingBP</th>\n",
       "      <th id=\"T_7f7e3_level0_col4\" class=\"col_heading level0 col4\" >Cholesterol</th>\n",
       "      <th id=\"T_7f7e3_level0_col5\" class=\"col_heading level0 col5\" >FastingBS</th>\n",
       "      <th id=\"T_7f7e3_level0_col6\" class=\"col_heading level0 col6\" >RestingECG</th>\n",
       "      <th id=\"T_7f7e3_level0_col7\" class=\"col_heading level0 col7\" >MaxHR</th>\n",
       "      <th id=\"T_7f7e3_level0_col8\" class=\"col_heading level0 col8\" >ExerciseAngina</th>\n",
       "      <th id=\"T_7f7e3_level0_col9\" class=\"col_heading level0 col9\" >Oldpeak</th>\n",
       "      <th id=\"T_7f7e3_level0_col10\" class=\"col_heading level0 col10\" >ST_Slope</th>\n",
       "      <th id=\"T_7f7e3_level0_col11\" class=\"col_heading level0 col11\" >HeartDisease</th>\n",
       "    </tr>\n",
       "  </thead>\n",
       "  <tbody>\n",
       "    <tr>\n",
       "      <th id=\"T_7f7e3_level0_row0\" class=\"row_heading level0 row0\" >0</th>\n",
       "      <td id=\"T_7f7e3_row0_col0\" class=\"data row0 col0\" >40</td>\n",
       "      <td id=\"T_7f7e3_row0_col1\" class=\"data row0 col1\" >M</td>\n",
       "      <td id=\"T_7f7e3_row0_col2\" class=\"data row0 col2\" >ATA</td>\n",
       "      <td id=\"T_7f7e3_row0_col3\" class=\"data row0 col3\" >140</td>\n",
       "      <td id=\"T_7f7e3_row0_col4\" class=\"data row0 col4\" >289</td>\n",
       "      <td id=\"T_7f7e3_row0_col5\" class=\"data row0 col5\" >0</td>\n",
       "      <td id=\"T_7f7e3_row0_col6\" class=\"data row0 col6\" >Normal</td>\n",
       "      <td id=\"T_7f7e3_row0_col7\" class=\"data row0 col7\" >172</td>\n",
       "      <td id=\"T_7f7e3_row0_col8\" class=\"data row0 col8\" >N</td>\n",
       "      <td id=\"T_7f7e3_row0_col9\" class=\"data row0 col9\" >0.000000</td>\n",
       "      <td id=\"T_7f7e3_row0_col10\" class=\"data row0 col10\" >Up</td>\n",
       "      <td id=\"T_7f7e3_row0_col11\" class=\"data row0 col11\" >0</td>\n",
       "    </tr>\n",
       "    <tr>\n",
       "      <th id=\"T_7f7e3_level0_row1\" class=\"row_heading level0 row1\" >1</th>\n",
       "      <td id=\"T_7f7e3_row1_col0\" class=\"data row1 col0\" >49</td>\n",
       "      <td id=\"T_7f7e3_row1_col1\" class=\"data row1 col1\" >F</td>\n",
       "      <td id=\"T_7f7e3_row1_col2\" class=\"data row1 col2\" >NAP</td>\n",
       "      <td id=\"T_7f7e3_row1_col3\" class=\"data row1 col3\" >160</td>\n",
       "      <td id=\"T_7f7e3_row1_col4\" class=\"data row1 col4\" >180</td>\n",
       "      <td id=\"T_7f7e3_row1_col5\" class=\"data row1 col5\" >0</td>\n",
       "      <td id=\"T_7f7e3_row1_col6\" class=\"data row1 col6\" >Normal</td>\n",
       "      <td id=\"T_7f7e3_row1_col7\" class=\"data row1 col7\" >156</td>\n",
       "      <td id=\"T_7f7e3_row1_col8\" class=\"data row1 col8\" >N</td>\n",
       "      <td id=\"T_7f7e3_row1_col9\" class=\"data row1 col9\" >1.000000</td>\n",
       "      <td id=\"T_7f7e3_row1_col10\" class=\"data row1 col10\" >Flat</td>\n",
       "      <td id=\"T_7f7e3_row1_col11\" class=\"data row1 col11\" >1</td>\n",
       "    </tr>\n",
       "    <tr>\n",
       "      <th id=\"T_7f7e3_level0_row2\" class=\"row_heading level0 row2\" >2</th>\n",
       "      <td id=\"T_7f7e3_row2_col0\" class=\"data row2 col0\" >37</td>\n",
       "      <td id=\"T_7f7e3_row2_col1\" class=\"data row2 col1\" >M</td>\n",
       "      <td id=\"T_7f7e3_row2_col2\" class=\"data row2 col2\" >ATA</td>\n",
       "      <td id=\"T_7f7e3_row2_col3\" class=\"data row2 col3\" >130</td>\n",
       "      <td id=\"T_7f7e3_row2_col4\" class=\"data row2 col4\" >283</td>\n",
       "      <td id=\"T_7f7e3_row2_col5\" class=\"data row2 col5\" >0</td>\n",
       "      <td id=\"T_7f7e3_row2_col6\" class=\"data row2 col6\" >ST</td>\n",
       "      <td id=\"T_7f7e3_row2_col7\" class=\"data row2 col7\" >98</td>\n",
       "      <td id=\"T_7f7e3_row2_col8\" class=\"data row2 col8\" >N</td>\n",
       "      <td id=\"T_7f7e3_row2_col9\" class=\"data row2 col9\" >0.000000</td>\n",
       "      <td id=\"T_7f7e3_row2_col10\" class=\"data row2 col10\" >Up</td>\n",
       "      <td id=\"T_7f7e3_row2_col11\" class=\"data row2 col11\" >0</td>\n",
       "    </tr>\n",
       "    <tr>\n",
       "      <th id=\"T_7f7e3_level0_row3\" class=\"row_heading level0 row3\" >3</th>\n",
       "      <td id=\"T_7f7e3_row3_col0\" class=\"data row3 col0\" >48</td>\n",
       "      <td id=\"T_7f7e3_row3_col1\" class=\"data row3 col1\" >F</td>\n",
       "      <td id=\"T_7f7e3_row3_col2\" class=\"data row3 col2\" >ASY</td>\n",
       "      <td id=\"T_7f7e3_row3_col3\" class=\"data row3 col3\" >138</td>\n",
       "      <td id=\"T_7f7e3_row3_col4\" class=\"data row3 col4\" >214</td>\n",
       "      <td id=\"T_7f7e3_row3_col5\" class=\"data row3 col5\" >0</td>\n",
       "      <td id=\"T_7f7e3_row3_col6\" class=\"data row3 col6\" >Normal</td>\n",
       "      <td id=\"T_7f7e3_row3_col7\" class=\"data row3 col7\" >108</td>\n",
       "      <td id=\"T_7f7e3_row3_col8\" class=\"data row3 col8\" >Y</td>\n",
       "      <td id=\"T_7f7e3_row3_col9\" class=\"data row3 col9\" >1.500000</td>\n",
       "      <td id=\"T_7f7e3_row3_col10\" class=\"data row3 col10\" >Flat</td>\n",
       "      <td id=\"T_7f7e3_row3_col11\" class=\"data row3 col11\" >1</td>\n",
       "    </tr>\n",
       "    <tr>\n",
       "      <th id=\"T_7f7e3_level0_row4\" class=\"row_heading level0 row4\" >4</th>\n",
       "      <td id=\"T_7f7e3_row4_col0\" class=\"data row4 col0\" >54</td>\n",
       "      <td id=\"T_7f7e3_row4_col1\" class=\"data row4 col1\" >M</td>\n",
       "      <td id=\"T_7f7e3_row4_col2\" class=\"data row4 col2\" >NAP</td>\n",
       "      <td id=\"T_7f7e3_row4_col3\" class=\"data row4 col3\" >150</td>\n",
       "      <td id=\"T_7f7e3_row4_col4\" class=\"data row4 col4\" >195</td>\n",
       "      <td id=\"T_7f7e3_row4_col5\" class=\"data row4 col5\" >0</td>\n",
       "      <td id=\"T_7f7e3_row4_col6\" class=\"data row4 col6\" >Normal</td>\n",
       "      <td id=\"T_7f7e3_row4_col7\" class=\"data row4 col7\" >122</td>\n",
       "      <td id=\"T_7f7e3_row4_col8\" class=\"data row4 col8\" >N</td>\n",
       "      <td id=\"T_7f7e3_row4_col9\" class=\"data row4 col9\" >0.000000</td>\n",
       "      <td id=\"T_7f7e3_row4_col10\" class=\"data row4 col10\" >Up</td>\n",
       "      <td id=\"T_7f7e3_row4_col11\" class=\"data row4 col11\" >0</td>\n",
       "    </tr>\n",
       "    <tr>\n",
       "      <th id=\"T_7f7e3_level0_row5\" class=\"row_heading level0 row5\" >5</th>\n",
       "      <td id=\"T_7f7e3_row5_col0\" class=\"data row5 col0\" >39</td>\n",
       "      <td id=\"T_7f7e3_row5_col1\" class=\"data row5 col1\" >M</td>\n",
       "      <td id=\"T_7f7e3_row5_col2\" class=\"data row5 col2\" >NAP</td>\n",
       "      <td id=\"T_7f7e3_row5_col3\" class=\"data row5 col3\" >120</td>\n",
       "      <td id=\"T_7f7e3_row5_col4\" class=\"data row5 col4\" >339</td>\n",
       "      <td id=\"T_7f7e3_row5_col5\" class=\"data row5 col5\" >0</td>\n",
       "      <td id=\"T_7f7e3_row5_col6\" class=\"data row5 col6\" >Normal</td>\n",
       "      <td id=\"T_7f7e3_row5_col7\" class=\"data row5 col7\" >170</td>\n",
       "      <td id=\"T_7f7e3_row5_col8\" class=\"data row5 col8\" >N</td>\n",
       "      <td id=\"T_7f7e3_row5_col9\" class=\"data row5 col9\" >0.000000</td>\n",
       "      <td id=\"T_7f7e3_row5_col10\" class=\"data row5 col10\" >Up</td>\n",
       "      <td id=\"T_7f7e3_row5_col11\" class=\"data row5 col11\" >0</td>\n",
       "    </tr>\n",
       "    <tr>\n",
       "      <th id=\"T_7f7e3_level0_row6\" class=\"row_heading level0 row6\" >6</th>\n",
       "      <td id=\"T_7f7e3_row6_col0\" class=\"data row6 col0\" >45</td>\n",
       "      <td id=\"T_7f7e3_row6_col1\" class=\"data row6 col1\" >F</td>\n",
       "      <td id=\"T_7f7e3_row6_col2\" class=\"data row6 col2\" >ATA</td>\n",
       "      <td id=\"T_7f7e3_row6_col3\" class=\"data row6 col3\" >130</td>\n",
       "      <td id=\"T_7f7e3_row6_col4\" class=\"data row6 col4\" >237</td>\n",
       "      <td id=\"T_7f7e3_row6_col5\" class=\"data row6 col5\" >0</td>\n",
       "      <td id=\"T_7f7e3_row6_col6\" class=\"data row6 col6\" >Normal</td>\n",
       "      <td id=\"T_7f7e3_row6_col7\" class=\"data row6 col7\" >170</td>\n",
       "      <td id=\"T_7f7e3_row6_col8\" class=\"data row6 col8\" >N</td>\n",
       "      <td id=\"T_7f7e3_row6_col9\" class=\"data row6 col9\" >0.000000</td>\n",
       "      <td id=\"T_7f7e3_row6_col10\" class=\"data row6 col10\" >Up</td>\n",
       "      <td id=\"T_7f7e3_row6_col11\" class=\"data row6 col11\" >0</td>\n",
       "    </tr>\n",
       "    <tr>\n",
       "      <th id=\"T_7f7e3_level0_row7\" class=\"row_heading level0 row7\" >7</th>\n",
       "      <td id=\"T_7f7e3_row7_col0\" class=\"data row7 col0\" >54</td>\n",
       "      <td id=\"T_7f7e3_row7_col1\" class=\"data row7 col1\" >M</td>\n",
       "      <td id=\"T_7f7e3_row7_col2\" class=\"data row7 col2\" >ATA</td>\n",
       "      <td id=\"T_7f7e3_row7_col3\" class=\"data row7 col3\" >110</td>\n",
       "      <td id=\"T_7f7e3_row7_col4\" class=\"data row7 col4\" >208</td>\n",
       "      <td id=\"T_7f7e3_row7_col5\" class=\"data row7 col5\" >0</td>\n",
       "      <td id=\"T_7f7e3_row7_col6\" class=\"data row7 col6\" >Normal</td>\n",
       "      <td id=\"T_7f7e3_row7_col7\" class=\"data row7 col7\" >142</td>\n",
       "      <td id=\"T_7f7e3_row7_col8\" class=\"data row7 col8\" >N</td>\n",
       "      <td id=\"T_7f7e3_row7_col9\" class=\"data row7 col9\" >0.000000</td>\n",
       "      <td id=\"T_7f7e3_row7_col10\" class=\"data row7 col10\" >Up</td>\n",
       "      <td id=\"T_7f7e3_row7_col11\" class=\"data row7 col11\" >0</td>\n",
       "    </tr>\n",
       "    <tr>\n",
       "      <th id=\"T_7f7e3_level0_row8\" class=\"row_heading level0 row8\" >8</th>\n",
       "      <td id=\"T_7f7e3_row8_col0\" class=\"data row8 col0\" >37</td>\n",
       "      <td id=\"T_7f7e3_row8_col1\" class=\"data row8 col1\" >M</td>\n",
       "      <td id=\"T_7f7e3_row8_col2\" class=\"data row8 col2\" >ASY</td>\n",
       "      <td id=\"T_7f7e3_row8_col3\" class=\"data row8 col3\" >140</td>\n",
       "      <td id=\"T_7f7e3_row8_col4\" class=\"data row8 col4\" >207</td>\n",
       "      <td id=\"T_7f7e3_row8_col5\" class=\"data row8 col5\" >0</td>\n",
       "      <td id=\"T_7f7e3_row8_col6\" class=\"data row8 col6\" >Normal</td>\n",
       "      <td id=\"T_7f7e3_row8_col7\" class=\"data row8 col7\" >130</td>\n",
       "      <td id=\"T_7f7e3_row8_col8\" class=\"data row8 col8\" >Y</td>\n",
       "      <td id=\"T_7f7e3_row8_col9\" class=\"data row8 col9\" >1.500000</td>\n",
       "      <td id=\"T_7f7e3_row8_col10\" class=\"data row8 col10\" >Flat</td>\n",
       "      <td id=\"T_7f7e3_row8_col11\" class=\"data row8 col11\" >1</td>\n",
       "    </tr>\n",
       "    <tr>\n",
       "      <th id=\"T_7f7e3_level0_row9\" class=\"row_heading level0 row9\" >9</th>\n",
       "      <td id=\"T_7f7e3_row9_col0\" class=\"data row9 col0\" >48</td>\n",
       "      <td id=\"T_7f7e3_row9_col1\" class=\"data row9 col1\" >F</td>\n",
       "      <td id=\"T_7f7e3_row9_col2\" class=\"data row9 col2\" >ATA</td>\n",
       "      <td id=\"T_7f7e3_row9_col3\" class=\"data row9 col3\" >120</td>\n",
       "      <td id=\"T_7f7e3_row9_col4\" class=\"data row9 col4\" >284</td>\n",
       "      <td id=\"T_7f7e3_row9_col5\" class=\"data row9 col5\" >0</td>\n",
       "      <td id=\"T_7f7e3_row9_col6\" class=\"data row9 col6\" >Normal</td>\n",
       "      <td id=\"T_7f7e3_row9_col7\" class=\"data row9 col7\" >120</td>\n",
       "      <td id=\"T_7f7e3_row9_col8\" class=\"data row9 col8\" >N</td>\n",
       "      <td id=\"T_7f7e3_row9_col9\" class=\"data row9 col9\" >0.000000</td>\n",
       "      <td id=\"T_7f7e3_row9_col10\" class=\"data row9 col10\" >Up</td>\n",
       "      <td id=\"T_7f7e3_row9_col11\" class=\"data row9 col11\" >0</td>\n",
       "    </tr>\n",
       "  </tbody>\n",
       "</table>\n"
      ]
     },
     "execution_count": 46,
     "metadata": {},
     "output_type": "execute_result"
    }
   ],
   "execution_count": 46
  },
  {
   "metadata": {
    "ExecuteTime": {
     "end_time": "2025-07-04T14:05:38.188299Z",
     "start_time": "2025-07-04T14:05:38.179624Z"
    }
   },
   "cell_type": "code",
   "source": [
    "#DataFrame-Beispiel Daten\n",
    "styled_df = df.head(10).style.set_table_styles([\n",
    "    {'selector': 'thead th', 'props': [('background-color', '#1f77b4'), ('color', 'white'), ('font-weight', 'bold')]},\n",
    "    {'selector': 'tbody td', 'props': [('border', '1px solid #ddd'), ('text-align', 'center')]}\n",
    "]).set_properties(**{'text-align': 'center'})\n",
    "\n",
    "styled_df"
   ],
   "id": "c06d61efdd7761a1",
   "outputs": [
    {
     "data": {
      "text/plain": [
       "<pandas.io.formats.style.Styler at 0x1736a695e50>"
      ],
      "text/html": [
       "<style type=\"text/css\">\n",
       "#T_49455 thead th {\n",
       "  background-color: #1f77b4;\n",
       "  color: white;\n",
       "  font-weight: bold;\n",
       "}\n",
       "#T_49455 tbody td {\n",
       "  border: 1px solid #ddd;\n",
       "  text-align: center;\n",
       "}\n",
       "#T_49455_row0_col0, #T_49455_row0_col1, #T_49455_row0_col2, #T_49455_row0_col3, #T_49455_row0_col4, #T_49455_row0_col5, #T_49455_row0_col6, #T_49455_row0_col7, #T_49455_row0_col8, #T_49455_row0_col9, #T_49455_row0_col10, #T_49455_row0_col11, #T_49455_row1_col0, #T_49455_row1_col1, #T_49455_row1_col2, #T_49455_row1_col3, #T_49455_row1_col4, #T_49455_row1_col5, #T_49455_row1_col6, #T_49455_row1_col7, #T_49455_row1_col8, #T_49455_row1_col9, #T_49455_row1_col10, #T_49455_row1_col11, #T_49455_row2_col0, #T_49455_row2_col1, #T_49455_row2_col2, #T_49455_row2_col3, #T_49455_row2_col4, #T_49455_row2_col5, #T_49455_row2_col6, #T_49455_row2_col7, #T_49455_row2_col8, #T_49455_row2_col9, #T_49455_row2_col10, #T_49455_row2_col11, #T_49455_row3_col0, #T_49455_row3_col1, #T_49455_row3_col2, #T_49455_row3_col3, #T_49455_row3_col4, #T_49455_row3_col5, #T_49455_row3_col6, #T_49455_row3_col7, #T_49455_row3_col8, #T_49455_row3_col9, #T_49455_row3_col10, #T_49455_row3_col11, #T_49455_row4_col0, #T_49455_row4_col1, #T_49455_row4_col2, #T_49455_row4_col3, #T_49455_row4_col4, #T_49455_row4_col5, #T_49455_row4_col6, #T_49455_row4_col7, #T_49455_row4_col8, #T_49455_row4_col9, #T_49455_row4_col10, #T_49455_row4_col11, #T_49455_row5_col0, #T_49455_row5_col1, #T_49455_row5_col2, #T_49455_row5_col3, #T_49455_row5_col4, #T_49455_row5_col5, #T_49455_row5_col6, #T_49455_row5_col7, #T_49455_row5_col8, #T_49455_row5_col9, #T_49455_row5_col10, #T_49455_row5_col11, #T_49455_row6_col0, #T_49455_row6_col1, #T_49455_row6_col2, #T_49455_row6_col3, #T_49455_row6_col4, #T_49455_row6_col5, #T_49455_row6_col6, #T_49455_row6_col7, #T_49455_row6_col8, #T_49455_row6_col9, #T_49455_row6_col10, #T_49455_row6_col11, #T_49455_row7_col0, #T_49455_row7_col1, #T_49455_row7_col2, #T_49455_row7_col3, #T_49455_row7_col4, #T_49455_row7_col5, #T_49455_row7_col6, #T_49455_row7_col7, #T_49455_row7_col8, #T_49455_row7_col9, #T_49455_row7_col10, #T_49455_row7_col11, #T_49455_row8_col0, #T_49455_row8_col1, #T_49455_row8_col2, #T_49455_row8_col3, #T_49455_row8_col4, #T_49455_row8_col5, #T_49455_row8_col6, #T_49455_row8_col7, #T_49455_row8_col8, #T_49455_row8_col9, #T_49455_row8_col10, #T_49455_row8_col11, #T_49455_row9_col0, #T_49455_row9_col1, #T_49455_row9_col2, #T_49455_row9_col3, #T_49455_row9_col4, #T_49455_row9_col5, #T_49455_row9_col6, #T_49455_row9_col7, #T_49455_row9_col8, #T_49455_row9_col9, #T_49455_row9_col10, #T_49455_row9_col11 {\n",
       "  text-align: center;\n",
       "}\n",
       "</style>\n",
       "<table id=\"T_49455\">\n",
       "  <thead>\n",
       "    <tr>\n",
       "      <th class=\"blank level0\" >&nbsp;</th>\n",
       "      <th id=\"T_49455_level0_col0\" class=\"col_heading level0 col0\" >Age</th>\n",
       "      <th id=\"T_49455_level0_col1\" class=\"col_heading level0 col1\" >Sex</th>\n",
       "      <th id=\"T_49455_level0_col2\" class=\"col_heading level0 col2\" >ChestPainType</th>\n",
       "      <th id=\"T_49455_level0_col3\" class=\"col_heading level0 col3\" >RestingBP</th>\n",
       "      <th id=\"T_49455_level0_col4\" class=\"col_heading level0 col4\" >Cholesterol</th>\n",
       "      <th id=\"T_49455_level0_col5\" class=\"col_heading level0 col5\" >FastingBS</th>\n",
       "      <th id=\"T_49455_level0_col6\" class=\"col_heading level0 col6\" >RestingECG</th>\n",
       "      <th id=\"T_49455_level0_col7\" class=\"col_heading level0 col7\" >MaxHR</th>\n",
       "      <th id=\"T_49455_level0_col8\" class=\"col_heading level0 col8\" >ExerciseAngina</th>\n",
       "      <th id=\"T_49455_level0_col9\" class=\"col_heading level0 col9\" >Oldpeak</th>\n",
       "      <th id=\"T_49455_level0_col10\" class=\"col_heading level0 col10\" >ST_Slope</th>\n",
       "      <th id=\"T_49455_level0_col11\" class=\"col_heading level0 col11\" >HeartDisease</th>\n",
       "    </tr>\n",
       "  </thead>\n",
       "  <tbody>\n",
       "    <tr>\n",
       "      <th id=\"T_49455_level0_row0\" class=\"row_heading level0 row0\" >0</th>\n",
       "      <td id=\"T_49455_row0_col0\" class=\"data row0 col0\" >40</td>\n",
       "      <td id=\"T_49455_row0_col1\" class=\"data row0 col1\" >M</td>\n",
       "      <td id=\"T_49455_row0_col2\" class=\"data row0 col2\" >ATA</td>\n",
       "      <td id=\"T_49455_row0_col3\" class=\"data row0 col3\" >140</td>\n",
       "      <td id=\"T_49455_row0_col4\" class=\"data row0 col4\" >289</td>\n",
       "      <td id=\"T_49455_row0_col5\" class=\"data row0 col5\" >0</td>\n",
       "      <td id=\"T_49455_row0_col6\" class=\"data row0 col6\" >Normal</td>\n",
       "      <td id=\"T_49455_row0_col7\" class=\"data row0 col7\" >172</td>\n",
       "      <td id=\"T_49455_row0_col8\" class=\"data row0 col8\" >N</td>\n",
       "      <td id=\"T_49455_row0_col9\" class=\"data row0 col9\" >0.000000</td>\n",
       "      <td id=\"T_49455_row0_col10\" class=\"data row0 col10\" >Up</td>\n",
       "      <td id=\"T_49455_row0_col11\" class=\"data row0 col11\" >0</td>\n",
       "    </tr>\n",
       "    <tr>\n",
       "      <th id=\"T_49455_level0_row1\" class=\"row_heading level0 row1\" >1</th>\n",
       "      <td id=\"T_49455_row1_col0\" class=\"data row1 col0\" >49</td>\n",
       "      <td id=\"T_49455_row1_col1\" class=\"data row1 col1\" >F</td>\n",
       "      <td id=\"T_49455_row1_col2\" class=\"data row1 col2\" >NAP</td>\n",
       "      <td id=\"T_49455_row1_col3\" class=\"data row1 col3\" >160</td>\n",
       "      <td id=\"T_49455_row1_col4\" class=\"data row1 col4\" >180</td>\n",
       "      <td id=\"T_49455_row1_col5\" class=\"data row1 col5\" >0</td>\n",
       "      <td id=\"T_49455_row1_col6\" class=\"data row1 col6\" >Normal</td>\n",
       "      <td id=\"T_49455_row1_col7\" class=\"data row1 col7\" >156</td>\n",
       "      <td id=\"T_49455_row1_col8\" class=\"data row1 col8\" >N</td>\n",
       "      <td id=\"T_49455_row1_col9\" class=\"data row1 col9\" >1.000000</td>\n",
       "      <td id=\"T_49455_row1_col10\" class=\"data row1 col10\" >Flat</td>\n",
       "      <td id=\"T_49455_row1_col11\" class=\"data row1 col11\" >1</td>\n",
       "    </tr>\n",
       "    <tr>\n",
       "      <th id=\"T_49455_level0_row2\" class=\"row_heading level0 row2\" >2</th>\n",
       "      <td id=\"T_49455_row2_col0\" class=\"data row2 col0\" >37</td>\n",
       "      <td id=\"T_49455_row2_col1\" class=\"data row2 col1\" >M</td>\n",
       "      <td id=\"T_49455_row2_col2\" class=\"data row2 col2\" >ATA</td>\n",
       "      <td id=\"T_49455_row2_col3\" class=\"data row2 col3\" >130</td>\n",
       "      <td id=\"T_49455_row2_col4\" class=\"data row2 col4\" >283</td>\n",
       "      <td id=\"T_49455_row2_col5\" class=\"data row2 col5\" >0</td>\n",
       "      <td id=\"T_49455_row2_col6\" class=\"data row2 col6\" >ST</td>\n",
       "      <td id=\"T_49455_row2_col7\" class=\"data row2 col7\" >98</td>\n",
       "      <td id=\"T_49455_row2_col8\" class=\"data row2 col8\" >N</td>\n",
       "      <td id=\"T_49455_row2_col9\" class=\"data row2 col9\" >0.000000</td>\n",
       "      <td id=\"T_49455_row2_col10\" class=\"data row2 col10\" >Up</td>\n",
       "      <td id=\"T_49455_row2_col11\" class=\"data row2 col11\" >0</td>\n",
       "    </tr>\n",
       "    <tr>\n",
       "      <th id=\"T_49455_level0_row3\" class=\"row_heading level0 row3\" >3</th>\n",
       "      <td id=\"T_49455_row3_col0\" class=\"data row3 col0\" >48</td>\n",
       "      <td id=\"T_49455_row3_col1\" class=\"data row3 col1\" >F</td>\n",
       "      <td id=\"T_49455_row3_col2\" class=\"data row3 col2\" >ASY</td>\n",
       "      <td id=\"T_49455_row3_col3\" class=\"data row3 col3\" >138</td>\n",
       "      <td id=\"T_49455_row3_col4\" class=\"data row3 col4\" >214</td>\n",
       "      <td id=\"T_49455_row3_col5\" class=\"data row3 col5\" >0</td>\n",
       "      <td id=\"T_49455_row3_col6\" class=\"data row3 col6\" >Normal</td>\n",
       "      <td id=\"T_49455_row3_col7\" class=\"data row3 col7\" >108</td>\n",
       "      <td id=\"T_49455_row3_col8\" class=\"data row3 col8\" >Y</td>\n",
       "      <td id=\"T_49455_row3_col9\" class=\"data row3 col9\" >1.500000</td>\n",
       "      <td id=\"T_49455_row3_col10\" class=\"data row3 col10\" >Flat</td>\n",
       "      <td id=\"T_49455_row3_col11\" class=\"data row3 col11\" >1</td>\n",
       "    </tr>\n",
       "    <tr>\n",
       "      <th id=\"T_49455_level0_row4\" class=\"row_heading level0 row4\" >4</th>\n",
       "      <td id=\"T_49455_row4_col0\" class=\"data row4 col0\" >54</td>\n",
       "      <td id=\"T_49455_row4_col1\" class=\"data row4 col1\" >M</td>\n",
       "      <td id=\"T_49455_row4_col2\" class=\"data row4 col2\" >NAP</td>\n",
       "      <td id=\"T_49455_row4_col3\" class=\"data row4 col3\" >150</td>\n",
       "      <td id=\"T_49455_row4_col4\" class=\"data row4 col4\" >195</td>\n",
       "      <td id=\"T_49455_row4_col5\" class=\"data row4 col5\" >0</td>\n",
       "      <td id=\"T_49455_row4_col6\" class=\"data row4 col6\" >Normal</td>\n",
       "      <td id=\"T_49455_row4_col7\" class=\"data row4 col7\" >122</td>\n",
       "      <td id=\"T_49455_row4_col8\" class=\"data row4 col8\" >N</td>\n",
       "      <td id=\"T_49455_row4_col9\" class=\"data row4 col9\" >0.000000</td>\n",
       "      <td id=\"T_49455_row4_col10\" class=\"data row4 col10\" >Up</td>\n",
       "      <td id=\"T_49455_row4_col11\" class=\"data row4 col11\" >0</td>\n",
       "    </tr>\n",
       "    <tr>\n",
       "      <th id=\"T_49455_level0_row5\" class=\"row_heading level0 row5\" >5</th>\n",
       "      <td id=\"T_49455_row5_col0\" class=\"data row5 col0\" >39</td>\n",
       "      <td id=\"T_49455_row5_col1\" class=\"data row5 col1\" >M</td>\n",
       "      <td id=\"T_49455_row5_col2\" class=\"data row5 col2\" >NAP</td>\n",
       "      <td id=\"T_49455_row5_col3\" class=\"data row5 col3\" >120</td>\n",
       "      <td id=\"T_49455_row5_col4\" class=\"data row5 col4\" >339</td>\n",
       "      <td id=\"T_49455_row5_col5\" class=\"data row5 col5\" >0</td>\n",
       "      <td id=\"T_49455_row5_col6\" class=\"data row5 col6\" >Normal</td>\n",
       "      <td id=\"T_49455_row5_col7\" class=\"data row5 col7\" >170</td>\n",
       "      <td id=\"T_49455_row5_col8\" class=\"data row5 col8\" >N</td>\n",
       "      <td id=\"T_49455_row5_col9\" class=\"data row5 col9\" >0.000000</td>\n",
       "      <td id=\"T_49455_row5_col10\" class=\"data row5 col10\" >Up</td>\n",
       "      <td id=\"T_49455_row5_col11\" class=\"data row5 col11\" >0</td>\n",
       "    </tr>\n",
       "    <tr>\n",
       "      <th id=\"T_49455_level0_row6\" class=\"row_heading level0 row6\" >6</th>\n",
       "      <td id=\"T_49455_row6_col0\" class=\"data row6 col0\" >45</td>\n",
       "      <td id=\"T_49455_row6_col1\" class=\"data row6 col1\" >F</td>\n",
       "      <td id=\"T_49455_row6_col2\" class=\"data row6 col2\" >ATA</td>\n",
       "      <td id=\"T_49455_row6_col3\" class=\"data row6 col3\" >130</td>\n",
       "      <td id=\"T_49455_row6_col4\" class=\"data row6 col4\" >237</td>\n",
       "      <td id=\"T_49455_row6_col5\" class=\"data row6 col5\" >0</td>\n",
       "      <td id=\"T_49455_row6_col6\" class=\"data row6 col6\" >Normal</td>\n",
       "      <td id=\"T_49455_row6_col7\" class=\"data row6 col7\" >170</td>\n",
       "      <td id=\"T_49455_row6_col8\" class=\"data row6 col8\" >N</td>\n",
       "      <td id=\"T_49455_row6_col9\" class=\"data row6 col9\" >0.000000</td>\n",
       "      <td id=\"T_49455_row6_col10\" class=\"data row6 col10\" >Up</td>\n",
       "      <td id=\"T_49455_row6_col11\" class=\"data row6 col11\" >0</td>\n",
       "    </tr>\n",
       "    <tr>\n",
       "      <th id=\"T_49455_level0_row7\" class=\"row_heading level0 row7\" >7</th>\n",
       "      <td id=\"T_49455_row7_col0\" class=\"data row7 col0\" >54</td>\n",
       "      <td id=\"T_49455_row7_col1\" class=\"data row7 col1\" >M</td>\n",
       "      <td id=\"T_49455_row7_col2\" class=\"data row7 col2\" >ATA</td>\n",
       "      <td id=\"T_49455_row7_col3\" class=\"data row7 col3\" >110</td>\n",
       "      <td id=\"T_49455_row7_col4\" class=\"data row7 col4\" >208</td>\n",
       "      <td id=\"T_49455_row7_col5\" class=\"data row7 col5\" >0</td>\n",
       "      <td id=\"T_49455_row7_col6\" class=\"data row7 col6\" >Normal</td>\n",
       "      <td id=\"T_49455_row7_col7\" class=\"data row7 col7\" >142</td>\n",
       "      <td id=\"T_49455_row7_col8\" class=\"data row7 col8\" >N</td>\n",
       "      <td id=\"T_49455_row7_col9\" class=\"data row7 col9\" >0.000000</td>\n",
       "      <td id=\"T_49455_row7_col10\" class=\"data row7 col10\" >Up</td>\n",
       "      <td id=\"T_49455_row7_col11\" class=\"data row7 col11\" >0</td>\n",
       "    </tr>\n",
       "    <tr>\n",
       "      <th id=\"T_49455_level0_row8\" class=\"row_heading level0 row8\" >8</th>\n",
       "      <td id=\"T_49455_row8_col0\" class=\"data row8 col0\" >37</td>\n",
       "      <td id=\"T_49455_row8_col1\" class=\"data row8 col1\" >M</td>\n",
       "      <td id=\"T_49455_row8_col2\" class=\"data row8 col2\" >ASY</td>\n",
       "      <td id=\"T_49455_row8_col3\" class=\"data row8 col3\" >140</td>\n",
       "      <td id=\"T_49455_row8_col4\" class=\"data row8 col4\" >207</td>\n",
       "      <td id=\"T_49455_row8_col5\" class=\"data row8 col5\" >0</td>\n",
       "      <td id=\"T_49455_row8_col6\" class=\"data row8 col6\" >Normal</td>\n",
       "      <td id=\"T_49455_row8_col7\" class=\"data row8 col7\" >130</td>\n",
       "      <td id=\"T_49455_row8_col8\" class=\"data row8 col8\" >Y</td>\n",
       "      <td id=\"T_49455_row8_col9\" class=\"data row8 col9\" >1.500000</td>\n",
       "      <td id=\"T_49455_row8_col10\" class=\"data row8 col10\" >Flat</td>\n",
       "      <td id=\"T_49455_row8_col11\" class=\"data row8 col11\" >1</td>\n",
       "    </tr>\n",
       "    <tr>\n",
       "      <th id=\"T_49455_level0_row9\" class=\"row_heading level0 row9\" >9</th>\n",
       "      <td id=\"T_49455_row9_col0\" class=\"data row9 col0\" >48</td>\n",
       "      <td id=\"T_49455_row9_col1\" class=\"data row9 col1\" >F</td>\n",
       "      <td id=\"T_49455_row9_col2\" class=\"data row9 col2\" >ATA</td>\n",
       "      <td id=\"T_49455_row9_col3\" class=\"data row9 col3\" >120</td>\n",
       "      <td id=\"T_49455_row9_col4\" class=\"data row9 col4\" >284</td>\n",
       "      <td id=\"T_49455_row9_col5\" class=\"data row9 col5\" >0</td>\n",
       "      <td id=\"T_49455_row9_col6\" class=\"data row9 col6\" >Normal</td>\n",
       "      <td id=\"T_49455_row9_col7\" class=\"data row9 col7\" >120</td>\n",
       "      <td id=\"T_49455_row9_col8\" class=\"data row9 col8\" >N</td>\n",
       "      <td id=\"T_49455_row9_col9\" class=\"data row9 col9\" >0.000000</td>\n",
       "      <td id=\"T_49455_row9_col10\" class=\"data row9 col10\" >Up</td>\n",
       "      <td id=\"T_49455_row9_col11\" class=\"data row9 col11\" >0</td>\n",
       "    </tr>\n",
       "  </tbody>\n",
       "</table>\n"
      ]
     },
     "execution_count": 47,
     "metadata": {},
     "output_type": "execute_result"
    }
   ],
   "execution_count": 47
  },
  {
   "metadata": {
    "ExecuteTime": {
     "end_time": "2025-07-04T14:05:38.301737Z",
     "start_time": "2025-07-04T14:05:38.216859Z"
    }
   },
   "cell_type": "code",
   "source": [
    "#Balkendiagramm Anteil Herzerkrankte\n",
    "\n",
    "# Balkendiagramm OHNE FutureWarning\n",
    "ax = sns.countplot(x='HeartDisease', hue='HeartDisease', data=df, palette=['#00d9ff', '#ff0000'], legend=False)\n",
    "\n",
    "\n",
    "# Achsentitel\n",
    "plt.title('Anzahl der Patienten mit / ohne Herzkrankheit')\n",
    "plt.xlabel('Herzkrankheit (0 = Nein, 1 = Ja)')\n",
    "plt.ylabel('Anzahl der Patienten')\n",
    "\n",
    "# Zahlen über Balken schreiben\n",
    "for p in ax.patches:\n",
    "    height = p.get_height()\n",
    "    ax.annotate(f'{int(height)}',\n",
    "                (p.get_x() + p.get_width() / 2, height),\n",
    "                ha='center', va='bottom',\n",
    "                fontsize=11, fontweight='bold')\n",
    "\n",
    "# Plot anzeigen\n",
    "plt.show()\n",
    "print(f\"Anzahl der Zeilen (Patienten): {df.shape[0]}\")\n",
    "print(f\"Anzahl der Spalten (Features): {df.shape[1]}\")"
   ],
   "id": "ed56d671f089297",
   "outputs": [
    {
     "data": {
      "text/plain": [
       "<Figure size 640x480 with 1 Axes>"
      ],
      "image/png": "[encoded data removed]"
     },
     "metadata": {},
     "output_type": "display_data"
    },
    {
     "name": "stdout",
     "output_type": "stream",
     "text": [
      "Anzahl der Zeilen (Patienten): 918\n",
      "Anzahl der Spalten (Features): 12\n"
     ]
    }
   ],
   "execution_count": 48
  },
  {
   "metadata": {
    "ExecuteTime": {
     "end_time": "2025-07-04T14:05:38.337024Z",
     "start_time": "2025-07-04T14:05:38.329963Z"
    }
   },
   "cell_type": "code",
   "source": [
    "# Daten Vorverarbeitung\n",
    "# Duplikate checken\n",
    "# Alle duplizierten Zeilen (inkl. Erstvorkommen)\n",
    "duplikate_df = df[df.duplicated(keep=False)]\n",
    "\n",
    "# Anzahl und Prozent Duplikate\n",
    "anzahl_duplikate = len(duplikate_df)\n",
    "gesamt = len(df)\n",
    "prozent_duplikate = (anzahl_duplikate / gesamt) * 100\n",
    "\n",
    "# Verteilung HeartDisease in den Duplikaten\n",
    "verteilung_duplikate = duplikate_df['HeartDisease'].value_counts(normalize=True) * 100\n",
    "\n",
    "# Verteilung HeartDisease im gesamten DataFrame\n",
    "verteilung_gesamt = df['HeartDisease'].value_counts(normalize=True) * 100\n",
    "\n",
    "# Ausgabe\n",
    "print(\"Gesamtzeilen:\", gesamt)\n",
    "print(\"Anzahl mehrfach vorkommender Zeilen:\", anzahl_duplikate)\n",
    "print(f\"Prozent mehrfach vorkommend: {prozent_duplikate:.2f}%\\n\")\n",
    "\n",
    "print(\"Verteilung von Heartdisease innerhalb der Duplikate:\")\n",
    "if not verteilung_duplikate.empty:\n",
    "    for wert, proz in verteilung_duplikate.items():\n",
    "        print(f\"  {wert}: {proz:.2f}%\")\n",
    "else:\n",
    "    print(\"    - - -\")\n",
    "\n",
    "print(\"\\nGesamtverteilung HeartDisease:\")\n",
    "for wert, proz in verteilung_gesamt.items():\n",
    "    print(f\"  {wert}: {proz:.2f}%\")"
   ],
   "id": "5a1ecafd868cee7a",
   "outputs": [
    {
     "name": "stdout",
     "output_type": "stream",
     "text": [
      "Gesamtzeilen: 918\n",
      "Anzahl mehrfach vorkommender Zeilen: 0\n",
      "Prozent mehrfach vorkommend: 0.00%\n",
      "\n",
      "Verteilung von Heartdisease innerhalb der Duplikate:\n",
      "    - - -\n",
      "\n",
      "Gesamtverteilung HeartDisease:\n",
      "  1: 55.34%\n",
      "  0: 44.66%\n"
     ]
    }
   ],
   "execution_count": 49
  },
  {
   "metadata": {
    "ExecuteTime": {
     "end_time": "2025-07-04T14:05:38.367575Z",
     "start_time": "2025-07-04T14:05:38.363664Z"
    }
   },
   "cell_type": "code",
   "source": [
    "# Duplikate entfernen\n",
    "df = df.drop_duplicates()\n"
   ],
   "id": "85118c2b50d7c908",
   "outputs": [],
   "execution_count": 50
  },
  {
   "metadata": {
    "ExecuteTime": {
     "end_time": "2025-07-04T14:05:38.398035Z",
     "start_time": "2025-07-04T14:05:38.394473Z"
    }
   },
   "cell_type": "code",
   "source": [
    "# Fehlende Werte prüfen\n",
    "print(df.isnull().sum())"
   ],
   "id": "a13d54ae1ed950f9",
   "outputs": [
    {
     "name": "stdout",
     "output_type": "stream",
     "text": [
      "Age               0\n",
      "Sex               0\n",
      "ChestPainType     0\n",
      "RestingBP         0\n",
      "Cholesterol       0\n",
      "FastingBS         0\n",
      "RestingECG        0\n",
      "MaxHR             0\n",
      "ExerciseAngina    0\n",
      "Oldpeak           0\n",
      "ST_Slope          0\n",
      "HeartDisease      0\n",
      "dtype: int64\n"
     ]
    }
   ],
   "execution_count": 51
  },
  {
   "metadata": {
    "ExecuteTime": {
     "end_time": "2025-07-04T14:05:38.441991Z",
     "start_time": "2025-07-04T14:05:38.432249Z"
    }
   },
   "cell_type": "code",
   "source": [
    "# Typprüfung\n",
    "# also ob wirklich die im Datensatz angegebenen Datentypen und beizeichnungen stimen\n",
    "def check_values(df, column_type, valid_values):\n",
    "    if column_type not in df.columns:\n",
    "        print(f\"Spalte '{column_type}' nicht im Datensatz gefunden.\")\n",
    "        return\n",
    "\n",
    "    values = df[column_type].dropna().unique()\n",
    "    invalid = set(values).difference(set(valid_values))\n",
    "    if invalid:\n",
    "         print(f\" Ungültige Werte in Spalte '{column_type}': {(invalid)} \")\n",
    "    else:\n",
    "        print(f\"Alle Werte in Spalte '{column_type}' sind gültig \")\n",
    "\n",
    "valid_values_dict = {\n",
    "    \"Sex\": {'M', 'F'},\n",
    "    \"ChestPainType\": {'TA', 'ATA', 'NAP', 'ASY'},\n",
    "    \"RestingECG\": {'Normal', 'ST', 'LVH'},\n",
    "    \"ExerciseAngina\": {'Y', 'N'},\n",
    "    \"ST_Slope\": {'Up', 'Flat', 'Down'}\n",
    "}\n",
    "def check_if_numeric (df, column_type, valid_values):\n",
    "    if column_type not in df.columns:\n",
    "        print(f\"Spalte {column_type}' nicht im Datensatz gefunden.\")\n",
    "        return\n",
    "    else:\n",
    "        non_numeric = df[column_type].dropna().apply(lambda x: not isinstance(x, (int, float)))\n",
    "        if non_numeric.any():\n",
    "            count_invalid = non_numeric.sum()\n",
    "            print(f\"{count_invalid} nicht numerische Werte in Spalte '{column_type}'\")\n",
    "            print(f\"Beispiele: {df[column_type][non_numeric].unique()[:5]}\")\n",
    "        else:\n",
    "            print(f\"Alle Werte in Spalte '{column_type}' sind numerisch.\")\n",
    "\n",
    "numeric_columns = [\n",
    "    'Age',\n",
    "    'RestingBP',\n",
    "    'Cholesterol',\n",
    "    'FastingBS',\n",
    "    'MaxHR',\n",
    "    'Oldpeak',\n",
    "    'HeartDisease'\n",
    "]\n",
    "# Anwendung:\n",
    "for column, valid_set in valid_values_dict.items():\n",
    "    check_values(df, column, valid_set)\n",
    "\n",
    "for col in numeric_columns:\n",
    "    check_if_numeric(df, col, numeric_columns)"
   ],
   "id": "2a637ce863cab257",
   "outputs": [
    {
     "name": "stdout",
     "output_type": "stream",
     "text": [
      "Alle Werte in Spalte 'Sex' sind gültig \n",
      "Alle Werte in Spalte 'ChestPainType' sind gültig \n",
      "Alle Werte in Spalte 'RestingECG' sind gültig \n",
      "Alle Werte in Spalte 'ExerciseAngina' sind gültig \n",
      "Alle Werte in Spalte 'ST_Slope' sind gültig \n",
      "Alle Werte in Spalte 'Age' sind numerisch.\n",
      "Alle Werte in Spalte 'RestingBP' sind numerisch.\n",
      "Alle Werte in Spalte 'Cholesterol' sind numerisch.\n",
      "Alle Werte in Spalte 'FastingBS' sind numerisch.\n",
      "Alle Werte in Spalte 'MaxHR' sind numerisch.\n",
      "Alle Werte in Spalte 'Oldpeak' sind numerisch.\n",
      "Alle Werte in Spalte 'HeartDisease' sind numerisch.\n"
     ]
    }
   ],
   "execution_count": 52
  },
  {
   "metadata": {
    "ExecuteTime": {
     "end_time": "2025-07-04T14:05:38.473372Z",
     "start_time": "2025-07-04T14:05:38.465937Z"
    }
   },
   "cell_type": "code",
   "source": [
    "print(f\"Anzahl an Zeilen: {len(df)}\")\n",
    "# Unrealistische Werte\n",
    "# aufgrund von Medizinischen Hintergründen\n",
    "def check_unrealistic_values(columnName, min_val, max_val):\n",
    "\n",
    "    series = df[columnName]\n",
    "    _df = df[(df[columnName] >= min_val) & (df[columnName] <= max_val)]\n",
    "\n",
    "    invalid = series[(series < min_val) | (series > max_val)]\n",
    "    print(f\"{columnName}: {len(invalid)} Werte außerhalb des akzeptieren Bereichs '{min_val}-{max_val}'\")\n",
    "    #print(f\"    Beispiele: {invalid.unique()[:5]}\")\n",
    "    return _df\n",
    "\n",
    "\n",
    "df = check_unrealistic_values('Age', 0, 120)\n",
    "df = check_unrealistic_values('RestingBP', 40, 150)\n",
    "df = check_unrealistic_values('Cholesterol', 1, 800)\n",
    "df = check_unrealistic_values('MaxHR', 60, 202)\n",
    "df = check_unrealistic_values('Oldpeak', 0, 5)\n",
    "\n",
    "print(f\"Neue Anzahl an Zeilen: {len(df)}\")"
   ],
   "id": "b52d10bd3281b06",
   "outputs": [
    {
     "name": "stdout",
     "output_type": "stream",
     "text": [
      "Anzahl an Zeilen: 918\n",
      "Age: 0 Werte außerhalb des akzeptieren Bereichs '0-120'\n",
      "RestingBP: 118 Werte außerhalb des akzeptieren Bereichs '40-150'\n",
      "Cholesterol: 144 Werte außerhalb des akzeptieren Bereichs '1-800'\n",
      "MaxHR: 0 Werte außerhalb des akzeptieren Bereichs '60-202'\n",
      "Oldpeak: 2 Werte außerhalb des akzeptieren Bereichs '0-5'\n",
      "Neue Anzahl an Zeilen: 654\n"
     ]
    }
   ],
   "execution_count": 53
  },
  {
   "metadata": {
    "ExecuteTime": {
     "end_time": "2025-07-04T14:05:38.500981Z",
     "start_time": "2025-07-04T14:05:38.498353Z"
    }
   },
   "cell_type": "code",
   "source": [
    "# Formatierung / Behandlung der Unrealistischen Werte\n",
    "#Oldpeak\n",
    "#df = df[(df['Oldpeak'] >= 0) & (df['Oldpeak'] <= 5)]\n",
    "\n",
    "#print(f\"Neue Anzahl an Zeilen: {df.shape[0]}\")"
   ],
   "id": "cff645df57b6026f",
   "outputs": [],
   "execution_count": 54
  },
  {
   "metadata": {},
   "cell_type": "code",
   "source": [
    "#Bias/Korrelation\n",
    "\n",
    "print(\"=== Altersverteilung ===\")\n",
    "print(df['Age'].describe())\n",
    "\n",
    "plt.figure(figsize=(8,5))\n",
    "plt.hist(df['Age'], bins=20, color='skyblue', edgecolor='black')\n",
    "plt.title('Altersverteilung der Patienten')\n",
    "plt.xlabel('Alter [Jahre]')\n",
    "plt.ylabel('Anzahl')\n",
    "plt.show()"
   ],
   "id": "1bb89855385de4a9",
   "execution_count": null,
   "outputs": []
  },
  {
   "metadata": {},
   "cell_type": "code",
   "outputs": [
    {
     "name": "stdout",
     "output_type": "stream",
     "text": [
      "=== Altersverteilung ===\n",
      "count    654.000000\n",
      "mean      52.255352\n",
      "std        9.444636\n",
      "min       28.000000\n",
      "25%       45.000000\n",
      "50%       53.000000\n",
      "75%       59.000000\n",
      "max       77.000000\n",
      "Name: Age, dtype: float64\n"
     ]
    },
    {
     "data": {
      "text/plain": [
       "<Figure size 800x500 with 1 Axes>"
      ],
      "image/png": "[encoded data removed]"
     },
     "metadata": {},
     "output_type": "display_data"
    },
    {
     "name": "stdout",
     "output_type": "stream",
     "text": [
      "=== Geschlechterverteilung ===\n",
      "M: 494 Patienten (75.54%)\n",
      "F: 160 Patienten (24.46%)\n"
     ]
    },
    {
     "data": {
      "text/plain": [
       "<Figure size 600x400 with 1 Axes>"
      ],
      "image/png": "[encoded data removed]"
     },
     "metadata": {},
     "output_type": "display_data"
    }
   ],
   "execution_count": 64,
   "source": [
    "print(\"=== Geschlechterverteilung ===\")\n",
    "gender_counts = df['Sex'].value_counts()\n",
    "gender_percent = df['Sex'].value_counts(normalize=True) * 100\n",
    "\n",
    "for sex in gender_counts.index:\n",
    "    print(f\"{sex}: {gender_counts[sex]} Patienten ({gender_percent[sex]:.2f}%)\")\n",
    "\n",
    "plt.figure(figsize=(6,4))\n",
    "gender_counts.plot(kind='bar', color=['lightcoral', 'lightblue'])\n",
    "plt.title('Verteilung der Geschlechter')\n",
    "plt.xlabel('Geschlecht')\n",
    "plt.ylabel('Anzahl')\n",
    "plt.xticks(rotation=0)\n",
    "plt.show()\n"
   ],
   "id": "6de04870f94a1cb3"
  },
  {
   "metadata": {
    "ExecuteTime": {
     "end_time": "2025-07-04T14:05:38.824849Z",
     "start_time": "2025-07-04T14:05:38.728432Z"
    }
   },
   "cell_type": "code",
   "source": [
    "# Bias: Zielverteilung nach Geschlecht\n",
    "sns.countplot(data=df, x='Sex', hue='HeartDisease')\n",
    "plt.title(\"Verteilung von Herzkrankheit nach Geschlecht\")\n",
    "plt.show()\n",
    "\n",
    "# Diagnosewahrscheinlichkeit pro Geschlecht\n",
    "print(df.groupby(\"Sex\")[\"HeartDisease\"].mean())"
   ],
   "id": "45afab56bddacf59",
   "outputs": [
    {
     "data": {
      "text/plain": [
       "<Figure size 640x480 with 1 Axes>"
      ],
      "image/png": "[encoded data removed]"
     },
     "metadata": {},
     "output_type": "display_data"
    },
    {
     "name": "stdout",
     "output_type": "stream",
     "text": [
      "Sex\n",
      "F    0.187500\n",
      "M    0.538462\n",
      "Name: HeartDisease, dtype: float64\n"
     ]
    }
   ],
   "execution_count": 56
  },
  {
   "metadata": {
    "ExecuteTime": {
     "end_time": "2025-07-04T14:05:38.992363Z",
     "start_time": "2025-07-04T14:05:38.851904Z"
    }
   },
   "cell_type": "code",
   "source": [
    "#Bias: Altersverteilung mit/ohne Herzkrankheit\n",
    "sns.histplot(data=df, x='Age', hue='HeartDisease', kde=True, multiple='stack')\n",
    "plt.title(\"Altersverteilung mit Herzkrankheit\")\n",
    "plt.show()\n",
    "\n",
    "# Altersgruppenbildung für Analyse\n",
    "df['AgeGroup'] = pd.cut(df['Age'], bins=[20, 40, 60, 80], labels=[\"20–40\", \"41–60\", \"61–80\"])\n",
    "print(df.groupby(\"AgeGroup\", observed=True)[\"HeartDisease\"].mean())\n"
   ],
   "id": "ab6e4d7fc8a5f339",
   "outputs": [
    {
     "data": {
      "text/plain": [
       "<Figure size 640x480 with 1 Axes>"
      ],
      "image/png": "[encoded data removed]"
     },
     "metadata": {},
     "output_type": "display_data"
    },
    {
     "name": "stdout",
     "output_type": "stream",
     "text": [
      "AgeGroup\n",
      "20–40    0.263158\n",
      "41–60    0.420000\n",
      "61–80    0.679688\n",
      "Name: HeartDisease, dtype: float64\n"
     ]
    }
   ],
   "execution_count": 57
  },
  {
   "metadata": {
    "ExecuteTime": {
     "end_time": "2025-07-04T14:05:39.027215Z",
     "start_time": "2025-07-04T14:05:39.023574Z"
    }
   },
   "cell_type": "code",
   "source": [
    "# Anteil Herzkrankheiten bei Fasting Blood Sugar hoch/niedrig\n",
    "print(df.groupby(\"FastingBS\")[\"HeartDisease\"].mean())\n"
   ],
   "id": "64bbd2904ab7f7f7",
   "outputs": [
    {
     "name": "stdout",
     "output_type": "stream",
     "text": [
      "FastingBS\n",
      "0    0.422662\n",
      "1    0.622449\n",
      "Name: HeartDisease, dtype: float64\n"
     ]
    }
   ],
   "execution_count": 58
  },
  {
   "metadata": {
    "ExecuteTime": {
     "end_time": "2025-07-04T14:05:39.141376Z",
     "start_time": "2025-07-04T14:05:39.056936Z"
    }
   },
   "cell_type": "code",
   "source": [
    "# Anteil Herzkrankheiten pro Nüchternblutzucker\n",
    "heart_disease_rate = df.groupby(\"FastingBS\")[\"HeartDisease\"].mean().reset_index()\n",
    "\n",
    "# Plot mit Seaborn\n",
    "sns.barplot(data=heart_disease_rate, x=\"FastingBS\", y=\"HeartDisease\")\n",
    "\n",
    "plt.xticks([0, 1], ['Niedrig (0)', 'Hoch (1)'])\n",
    "plt.ylabel(\"Anteil Herzkrankheit\")\n",
    "plt.xlabel(\"Nüchternblutzucker (0=normal, 1=hoch)\")\n",
    "plt.title(\"Anteil Herzkrankheit bei unterschiedlichem Nüchternblutzucker\")\n",
    "plt.ylim(0, 1)  # y-Achse von 0 bis 1\n",
    "plt.show()\n",
    "\n",
    "print(df.groupby(\"FastingBS\")[\"HeartDisease\"].mean())"
   ],
   "id": "686d519b53774fa5",
   "outputs": [
    {
     "data": {
      "text/plain": [
       "<Figure size 640x480 with 1 Axes>"
      ],
      "image/png": "[encoded data removed]"
     },
     "metadata": {},
     "output_type": "display_data"
    },
    {
     "name": "stdout",
     "output_type": "stream",
     "text": [
      "FastingBS\n",
      "0    0.422662\n",
      "1    0.622449\n",
      "Name: HeartDisease, dtype: float64\n"
     ]
    }
   ],
   "execution_count": 59
  },
  {
   "metadata": {
    "ExecuteTime": {
     "end_time": "2025-07-04T14:05:39.331368Z",
     "start_time": "2025-07-04T14:05:39.169575Z"
    }
   },
   "cell_type": "code",
   "source": [
    "# Kreuztabelle: Anzahl Herzkrankheiten pro ChestPainType\n",
    "#pd.crosstab(df['ChestPainType'], df['HeartDisease'], normalize='index') * 100\n",
    "\n",
    "#  Anteil Herzkrankheit je ChestPainType\n",
    "sns.barplot(\n",
    "    data=df,\n",
    "    x='ChestPainType',\n",
    "    y='HeartDisease',\n",
    "    estimator=lambda x: sum(x) / len(x)  # Mittelwert = Anteil Herzkrankheit\n",
    ")\n",
    "plt.title(\"Anteil Herzkrankheit pro ChestPainType\")\n",
    "plt.ylabel(\"Anteil (0–1)\")\n",
    "plt.show()\n",
    "\n",
    "# Prozentsatz Herzkrankheit pro ChestPainType\n",
    "heart_disease_by_cp = df.groupby(\"ChestPainType\")[\"HeartDisease\"].mean().sort_values(ascending=False) * 100\n",
    "\n",
    "print(\"Anteil an Herzkrankheiten (%) pro ChestPainType:\\n\")\n",
    "print(heart_disease_by_cp.round(2))"
   ],
   "id": "295dc213d18ad8a5",
   "outputs": [
    {
     "data": {
      "text/plain": [
       "<Figure size 640x480 with 1 Axes>"
      ],
      "image/png": "[encoded data removed]"
     },
     "metadata": {},
     "output_type": "display_data"
    },
    {
     "name": "stdout",
     "output_type": "stream",
     "text": [
      "Anteil an Herzkrankheiten (%) pro ChestPainType:\n",
      "\n",
      "ChestPainType\n",
      "ASY    71.47\n",
      "TA     39.39\n",
      "NAP    26.62\n",
      "ATA     9.46\n",
      "Name: HeartDisease, dtype: float64\n"
     ]
    }
   ],
   "execution_count": 60
  },
  {
   "metadata": {
    "ExecuteTime": {
     "end_time": "2025-07-04T14:05:39.482262Z",
     "start_time": "2025-07-04T14:05:39.357664Z"
    }
   },
   "cell_type": "code",
   "source": [
    "from sklearn.model_selection import train_test_split\n",
    "from sklearn.ensemble import RandomForestClassifier\n",
    "from sklearn.metrics import classification_report\n",
    "\n",
    "# Beispielhafte Feature-Liste (evtl. anpassen)\n",
    "features = ['Age', 'Sex', 'ChestPainType', 'RestingBP', 'Cholesterol',\n",
    "            'FastingBS', 'RestingECG', 'MaxHR', 'ExerciseAngina', 'Oldpeak', 'ST_Slope']\n",
    "\n",
    "# Kategorische Features umwandeln\n",
    "df_encoded = pd.get_dummies(df[features], drop_first=True)\n",
    "X = df_encoded\n",
    "y = df['HeartDisease']\n",
    "\n",
    "X_train, X_test, y_train, y_test = train_test_split(X, y, stratify=y, random_state=42)\n",
    "\n",
    "model = RandomForestClassifier(random_state=42)\n",
    "model.fit(X_train, y_train)\n",
    "y_pred = model.predict(X_test)\n",
    "\n",
    "print(\"Gesamtergebnis:\")\n",
    "print(classification_report(y_test, y_pred))\n"
   ],
   "id": "3d27775d4c137393",
   "outputs": [
    {
     "name": "stdout",
     "output_type": "stream",
     "text": [
      "Gesamtergebnis:\n",
      "              precision    recall  f1-score   support\n",
      "\n",
      "           0       0.92      0.88      0.90        90\n",
      "           1       0.86      0.91      0.88        74\n",
      "\n",
      "    accuracy                           0.89       164\n",
      "   macro avg       0.89      0.89      0.89       164\n",
      "weighted avg       0.89      0.89      0.89       164\n",
      "\n"
     ]
    }
   ],
   "execution_count": 61
  },
  {
   "metadata": {
    "ExecuteTime": {
     "end_time": "2025-07-04T14:05:39.531796Z",
     "start_time": "2025-07-04T14:05:39.513891Z"
    }
   },
   "cell_type": "code",
   "source": [
    "# Feature Engineering\n",
    "# Resting BP\n",
    "def restingBP_categorization(bp):\n",
    "    if bp < 120:\n",
    "        return 'normal'\n",
    "    elif 120<= bp <= 129:\n",
    "        return 'elevated'\n",
    "    elif 130<= bp <= 139:\n",
    "        return 'hypertension1'\n",
    "    elif 140<= bp <= 179:\n",
    "        return 'hypertension2'\n",
    "    else: return 'hypertension3'\n",
    "\n",
    "df['RestingBP_cat'] = df['RestingBP'].apply(restingBP_categorization)\n",
    "\n",
    "# Cholesterol\n",
    "def cholesterol_categorization(cholesterol):\n",
    "    if cholesterol < 200:\n",
    "        return 'normal'\n",
    "    elif 200<= cholesterol <= 239:\n",
    "        return 'elevated'\n",
    "    else: return 'high'\n",
    "\n",
    "df['Cholesterol_cat'] = df['Cholesterol'].apply(cholesterol_categorization)\n",
    "\n",
    "# Max HR\n",
    "def maxhr_age_category(row):\n",
    "    maxhr = row['MaxHR']\n",
    "    age = row['Age']\n",
    "    expected_maxhr = 220 - age\n",
    "\n",
    "    if maxhr < 0.7 * expected_maxhr:\n",
    "        return 'low'\n",
    "    elif 0.7 * expected_maxhr <= maxhr <= expected_maxhr:\n",
    "        return 'normal'\n",
    "    elif expected_maxhr < maxhr <= 1.1 * expected_maxhr:\n",
    "        return 'elevated'\n",
    "    else:\n",
    "        return 'high'\n",
    "\n",
    "df['MaxHR_cat'] = df.apply(maxhr_age_category, axis=1)\n",
    "\n",
    "styled_df = df.head(10).style.set_table_styles([\n",
    "    {'selector': 'thead th', 'props': [('background-color', '#1f77b4'), ('color', 'white'), ('font-weight', 'bold')]},\n",
    "    {'selector': 'tbody td', 'props': [('border', '1px solid #ddd'), ('text-align', 'center')]}\n",
    "]).set_properties(**{'text-align': 'center'})\n",
    "\n",
    "styled_df"
   ],
   "id": "6b0d81422993559c",
   "outputs": [
    {
     "data": {
      "text/plain": [
       "<pandas.io.formats.style.Styler at 0x1736a695810>"
      ],
      "text/html": [
       "<style type=\"text/css\">\n",
       "#T_8b890 thead th {\n",
       "  background-color: #1f77b4;\n",
       "  color: white;\n",
       "  font-weight: bold;\n",
       "}\n",
       "#T_8b890 tbody td {\n",
       "  border: 1px solid #ddd;\n",
       "  text-align: center;\n",
       "}\n",
       "#T_8b890_row0_col0, #T_8b890_row0_col1, #T_8b890_row0_col2, #T_8b890_row0_col3, #T_8b890_row0_col4, #T_8b890_row0_col5, #T_8b890_row0_col6, #T_8b890_row0_col7, #T_8b890_row0_col8, #T_8b890_row0_col9, #T_8b890_row0_col10, #T_8b890_row0_col11, #T_8b890_row0_col12, #T_8b890_row0_col13, #T_8b890_row0_col14, #T_8b890_row0_col15, #T_8b890_row1_col0, #T_8b890_row1_col1, #T_8b890_row1_col2, #T_8b890_row1_col3, #T_8b890_row1_col4, #T_8b890_row1_col5, #T_8b890_row1_col6, #T_8b890_row1_col7, #T_8b890_row1_col8, #T_8b890_row1_col9, #T_8b890_row1_col10, #T_8b890_row1_col11, #T_8b890_row1_col12, #T_8b890_row1_col13, #T_8b890_row1_col14, #T_8b890_row1_col15, #T_8b890_row2_col0, #T_8b890_row2_col1, #T_8b890_row2_col2, #T_8b890_row2_col3, #T_8b890_row2_col4, #T_8b890_row2_col5, #T_8b890_row2_col6, #T_8b890_row2_col7, #T_8b890_row2_col8, #T_8b890_row2_col9, #T_8b890_row2_col10, #T_8b890_row2_col11, #T_8b890_row2_col12, #T_8b890_row2_col13, #T_8b890_row2_col14, #T_8b890_row2_col15, #T_8b890_row3_col0, #T_8b890_row3_col1, #T_8b890_row3_col2, #T_8b890_row3_col3, #T_8b890_row3_col4, #T_8b890_row3_col5, #T_8b890_row3_col6, #T_8b890_row3_col7, #T_8b890_row3_col8, #T_8b890_row3_col9, #T_8b890_row3_col10, #T_8b890_row3_col11, #T_8b890_row3_col12, #T_8b890_row3_col13, #T_8b890_row3_col14, #T_8b890_row3_col15, #T_8b890_row4_col0, #T_8b890_row4_col1, #T_8b890_row4_col2, #T_8b890_row4_col3, #T_8b890_row4_col4, #T_8b890_row4_col5, #T_8b890_row4_col6, #T_8b890_row4_col7, #T_8b890_row4_col8, #T_8b890_row4_col9, #T_8b890_row4_col10, #T_8b890_row4_col11, #T_8b890_row4_col12, #T_8b890_row4_col13, #T_8b890_row4_col14, #T_8b890_row4_col15, #T_8b890_row5_col0, #T_8b890_row5_col1, #T_8b890_row5_col2, #T_8b890_row5_col3, #T_8b890_row5_col4, #T_8b890_row5_col5, #T_8b890_row5_col6, #T_8b890_row5_col7, #T_8b890_row5_col8, #T_8b890_row5_col9, #T_8b890_row5_col10, #T_8b890_row5_col11, #T_8b890_row5_col12, #T_8b890_row5_col13, #T_8b890_row5_col14, #T_8b890_row5_col15, #T_8b890_row6_col0, #T_8b890_row6_col1, #T_8b890_row6_col2, #T_8b890_row6_col3, #T_8b890_row6_col4, #T_8b890_row6_col5, #T_8b890_row6_col6, #T_8b890_row6_col7, #T_8b890_row6_col8, #T_8b890_row6_col9, #T_8b890_row6_col10, #T_8b890_row6_col11, #T_8b890_row6_col12, #T_8b890_row6_col13, #T_8b890_row6_col14, #T_8b890_row6_col15, #T_8b890_row7_col0, #T_8b890_row7_col1, #T_8b890_row7_col2, #T_8b890_row7_col3, #T_8b890_row7_col4, #T_8b890_row7_col5, #T_8b890_row7_col6, #T_8b890_row7_col7, #T_8b890_row7_col8, #T_8b890_row7_col9, #T_8b890_row7_col10, #T_8b890_row7_col11, #T_8b890_row7_col12, #T_8b890_row7_col13, #T_8b890_row7_col14, #T_8b890_row7_col15, #T_8b890_row8_col0, #T_8b890_row8_col1, #T_8b890_row8_col2, #T_8b890_row8_col3, #T_8b890_row8_col4, #T_8b890_row8_col5, #T_8b890_row8_col6, #T_8b890_row8_col7, #T_8b890_row8_col8, #T_8b890_row8_col9, #T_8b890_row8_col10, #T_8b890_row8_col11, #T_8b890_row8_col12, #T_8b890_row8_col13, #T_8b890_row8_col14, #T_8b890_row8_col15, #T_8b890_row9_col0, #T_8b890_row9_col1, #T_8b890_row9_col2, #T_8b890_row9_col3, #T_8b890_row9_col4, #T_8b890_row9_col5, #T_8b890_row9_col6, #T_8b890_row9_col7, #T_8b890_row9_col8, #T_8b890_row9_col9, #T_8b890_row9_col10, #T_8b890_row9_col11, #T_8b890_row9_col12, #T_8b890_row9_col13, #T_8b890_row9_col14, #T_8b890_row9_col15 {\n",
       "  text-align: center;\n",
       "}\n",
       "</style>\n",
       "<table id=\"T_8b890\">\n",
       "  <thead>\n",
       "    <tr>\n",
       "      <th class=\"blank level0\" >&nbsp;</th>\n",
       "      <th id=\"T_8b890_level0_col0\" class=\"col_heading level0 col0\" >Age</th>\n",
       "      <th id=\"T_8b890_level0_col1\" class=\"col_heading level0 col1\" >Sex</th>\n",
       "      <th id=\"T_8b890_level0_col2\" class=\"col_heading level0 col2\" >ChestPainType</th>\n",
       "      <th id=\"T_8b890_level0_col3\" class=\"col_heading level0 col3\" >RestingBP</th>\n",
       "      <th id=\"T_8b890_level0_col4\" class=\"col_heading level0 col4\" >Cholesterol</th>\n",
       "      <th id=\"T_8b890_level0_col5\" class=\"col_heading level0 col5\" >FastingBS</th>\n",
       "      <th id=\"T_8b890_level0_col6\" class=\"col_heading level0 col6\" >RestingECG</th>\n",
       "      <th id=\"T_8b890_level0_col7\" class=\"col_heading level0 col7\" >MaxHR</th>\n",
       "      <th id=\"T_8b890_level0_col8\" class=\"col_heading level0 col8\" >ExerciseAngina</th>\n",
       "      <th id=\"T_8b890_level0_col9\" class=\"col_heading level0 col9\" >Oldpeak</th>\n",
       "      <th id=\"T_8b890_level0_col10\" class=\"col_heading level0 col10\" >ST_Slope</th>\n",
       "      <th id=\"T_8b890_level0_col11\" class=\"col_heading level0 col11\" >HeartDisease</th>\n",
       "      <th id=\"T_8b890_level0_col12\" class=\"col_heading level0 col12\" >AgeGroup</th>\n",
       "      <th id=\"T_8b890_level0_col13\" class=\"col_heading level0 col13\" >RestingBP_cat</th>\n",
       "      <th id=\"T_8b890_level0_col14\" class=\"col_heading level0 col14\" >Cholesterol_cat</th>\n",
       "      <th id=\"T_8b890_level0_col15\" class=\"col_heading level0 col15\" >MaxHR_cat</th>\n",
       "    </tr>\n",
       "  </thead>\n",
       "  <tbody>\n",
       "    <tr>\n",
       "      <th id=\"T_8b890_level0_row0\" class=\"row_heading level0 row0\" >0</th>\n",
       "      <td id=\"T_8b890_row0_col0\" class=\"data row0 col0\" >40</td>\n",
       "      <td id=\"T_8b890_row0_col1\" class=\"data row0 col1\" >M</td>\n",
       "      <td id=\"T_8b890_row0_col2\" class=\"data row0 col2\" >ATA</td>\n",
       "      <td id=\"T_8b890_row0_col3\" class=\"data row0 col3\" >140</td>\n",
       "      <td id=\"T_8b890_row0_col4\" class=\"data row0 col4\" >289</td>\n",
       "      <td id=\"T_8b890_row0_col5\" class=\"data row0 col5\" >0</td>\n",
       "      <td id=\"T_8b890_row0_col6\" class=\"data row0 col6\" >Normal</td>\n",
       "      <td id=\"T_8b890_row0_col7\" class=\"data row0 col7\" >172</td>\n",
       "      <td id=\"T_8b890_row0_col8\" class=\"data row0 col8\" >N</td>\n",
       "      <td id=\"T_8b890_row0_col9\" class=\"data row0 col9\" >0.000000</td>\n",
       "      <td id=\"T_8b890_row0_col10\" class=\"data row0 col10\" >Up</td>\n",
       "      <td id=\"T_8b890_row0_col11\" class=\"data row0 col11\" >0</td>\n",
       "      <td id=\"T_8b890_row0_col12\" class=\"data row0 col12\" >20–40</td>\n",
       "      <td id=\"T_8b890_row0_col13\" class=\"data row0 col13\" >hypertension2</td>\n",
       "      <td id=\"T_8b890_row0_col14\" class=\"data row0 col14\" >high</td>\n",
       "      <td id=\"T_8b890_row0_col15\" class=\"data row0 col15\" >normal</td>\n",
       "    </tr>\n",
       "    <tr>\n",
       "      <th id=\"T_8b890_level0_row1\" class=\"row_heading level0 row1\" >2</th>\n",
       "      <td id=\"T_8b890_row1_col0\" class=\"data row1 col0\" >37</td>\n",
       "      <td id=\"T_8b890_row1_col1\" class=\"data row1 col1\" >M</td>\n",
       "      <td id=\"T_8b890_row1_col2\" class=\"data row1 col2\" >ATA</td>\n",
       "      <td id=\"T_8b890_row1_col3\" class=\"data row1 col3\" >130</td>\n",
       "      <td id=\"T_8b890_row1_col4\" class=\"data row1 col4\" >283</td>\n",
       "      <td id=\"T_8b890_row1_col5\" class=\"data row1 col5\" >0</td>\n",
       "      <td id=\"T_8b890_row1_col6\" class=\"data row1 col6\" >ST</td>\n",
       "      <td id=\"T_8b890_row1_col7\" class=\"data row1 col7\" >98</td>\n",
       "      <td id=\"T_8b890_row1_col8\" class=\"data row1 col8\" >N</td>\n",
       "      <td id=\"T_8b890_row1_col9\" class=\"data row1 col9\" >0.000000</td>\n",
       "      <td id=\"T_8b890_row1_col10\" class=\"data row1 col10\" >Up</td>\n",
       "      <td id=\"T_8b890_row1_col11\" class=\"data row1 col11\" >0</td>\n",
       "      <td id=\"T_8b890_row1_col12\" class=\"data row1 col12\" >20–40</td>\n",
       "      <td id=\"T_8b890_row1_col13\" class=\"data row1 col13\" >hypertension1</td>\n",
       "      <td id=\"T_8b890_row1_col14\" class=\"data row1 col14\" >high</td>\n",
       "      <td id=\"T_8b890_row1_col15\" class=\"data row1 col15\" >low</td>\n",
       "    </tr>\n",
       "    <tr>\n",
       "      <th id=\"T_8b890_level0_row2\" class=\"row_heading level0 row2\" >3</th>\n",
       "      <td id=\"T_8b890_row2_col0\" class=\"data row2 col0\" >48</td>\n",
       "      <td id=\"T_8b890_row2_col1\" class=\"data row2 col1\" >F</td>\n",
       "      <td id=\"T_8b890_row2_col2\" class=\"data row2 col2\" >ASY</td>\n",
       "      <td id=\"T_8b890_row2_col3\" class=\"data row2 col3\" >138</td>\n",
       "      <td id=\"T_8b890_row2_col4\" class=\"data row2 col4\" >214</td>\n",
       "      <td id=\"T_8b890_row2_col5\" class=\"data row2 col5\" >0</td>\n",
       "      <td id=\"T_8b890_row2_col6\" class=\"data row2 col6\" >Normal</td>\n",
       "      <td id=\"T_8b890_row2_col7\" class=\"data row2 col7\" >108</td>\n",
       "      <td id=\"T_8b890_row2_col8\" class=\"data row2 col8\" >Y</td>\n",
       "      <td id=\"T_8b890_row2_col9\" class=\"data row2 col9\" >1.500000</td>\n",
       "      <td id=\"T_8b890_row2_col10\" class=\"data row2 col10\" >Flat</td>\n",
       "      <td id=\"T_8b890_row2_col11\" class=\"data row2 col11\" >1</td>\n",
       "      <td id=\"T_8b890_row2_col12\" class=\"data row2 col12\" >41–60</td>\n",
       "      <td id=\"T_8b890_row2_col13\" class=\"data row2 col13\" >hypertension1</td>\n",
       "      <td id=\"T_8b890_row2_col14\" class=\"data row2 col14\" >elevated</td>\n",
       "      <td id=\"T_8b890_row2_col15\" class=\"data row2 col15\" >low</td>\n",
       "    </tr>\n",
       "    <tr>\n",
       "      <th id=\"T_8b890_level0_row3\" class=\"row_heading level0 row3\" >4</th>\n",
       "      <td id=\"T_8b890_row3_col0\" class=\"data row3 col0\" >54</td>\n",
       "      <td id=\"T_8b890_row3_col1\" class=\"data row3 col1\" >M</td>\n",
       "      <td id=\"T_8b890_row3_col2\" class=\"data row3 col2\" >NAP</td>\n",
       "      <td id=\"T_8b890_row3_col3\" class=\"data row3 col3\" >150</td>\n",
       "      <td id=\"T_8b890_row3_col4\" class=\"data row3 col4\" >195</td>\n",
       "      <td id=\"T_8b890_row3_col5\" class=\"data row3 col5\" >0</td>\n",
       "      <td id=\"T_8b890_row3_col6\" class=\"data row3 col6\" >Normal</td>\n",
       "      <td id=\"T_8b890_row3_col7\" class=\"data row3 col7\" >122</td>\n",
       "      <td id=\"T_8b890_row3_col8\" class=\"data row3 col8\" >N</td>\n",
       "      <td id=\"T_8b890_row3_col9\" class=\"data row3 col9\" >0.000000</td>\n",
       "      <td id=\"T_8b890_row3_col10\" class=\"data row3 col10\" >Up</td>\n",
       "      <td id=\"T_8b890_row3_col11\" class=\"data row3 col11\" >0</td>\n",
       "      <td id=\"T_8b890_row3_col12\" class=\"data row3 col12\" >41–60</td>\n",
       "      <td id=\"T_8b890_row3_col13\" class=\"data row3 col13\" >hypertension2</td>\n",
       "      <td id=\"T_8b890_row3_col14\" class=\"data row3 col14\" >normal</td>\n",
       "      <td id=\"T_8b890_row3_col15\" class=\"data row3 col15\" >normal</td>\n",
       "    </tr>\n",
       "    <tr>\n",
       "      <th id=\"T_8b890_level0_row4\" class=\"row_heading level0 row4\" >5</th>\n",
       "      <td id=\"T_8b890_row4_col0\" class=\"data row4 col0\" >39</td>\n",
       "      <td id=\"T_8b890_row4_col1\" class=\"data row4 col1\" >M</td>\n",
       "      <td id=\"T_8b890_row4_col2\" class=\"data row4 col2\" >NAP</td>\n",
       "      <td id=\"T_8b890_row4_col3\" class=\"data row4 col3\" >120</td>\n",
       "      <td id=\"T_8b890_row4_col4\" class=\"data row4 col4\" >339</td>\n",
       "      <td id=\"T_8b890_row4_col5\" class=\"data row4 col5\" >0</td>\n",
       "      <td id=\"T_8b890_row4_col6\" class=\"data row4 col6\" >Normal</td>\n",
       "      <td id=\"T_8b890_row4_col7\" class=\"data row4 col7\" >170</td>\n",
       "      <td id=\"T_8b890_row4_col8\" class=\"data row4 col8\" >N</td>\n",
       "      <td id=\"T_8b890_row4_col9\" class=\"data row4 col9\" >0.000000</td>\n",
       "      <td id=\"T_8b890_row4_col10\" class=\"data row4 col10\" >Up</td>\n",
       "      <td id=\"T_8b890_row4_col11\" class=\"data row4 col11\" >0</td>\n",
       "      <td id=\"T_8b890_row4_col12\" class=\"data row4 col12\" >20–40</td>\n",
       "      <td id=\"T_8b890_row4_col13\" class=\"data row4 col13\" >elevated</td>\n",
       "      <td id=\"T_8b890_row4_col14\" class=\"data row4 col14\" >high</td>\n",
       "      <td id=\"T_8b890_row4_col15\" class=\"data row4 col15\" >normal</td>\n",
       "    </tr>\n",
       "    <tr>\n",
       "      <th id=\"T_8b890_level0_row5\" class=\"row_heading level0 row5\" >6</th>\n",
       "      <td id=\"T_8b890_row5_col0\" class=\"data row5 col0\" >45</td>\n",
       "      <td id=\"T_8b890_row5_col1\" class=\"data row5 col1\" >F</td>\n",
       "      <td id=\"T_8b890_row5_col2\" class=\"data row5 col2\" >ATA</td>\n",
       "      <td id=\"T_8b890_row5_col3\" class=\"data row5 col3\" >130</td>\n",
       "      <td id=\"T_8b890_row5_col4\" class=\"data row5 col4\" >237</td>\n",
       "      <td id=\"T_8b890_row5_col5\" class=\"data row5 col5\" >0</td>\n",
       "      <td id=\"T_8b890_row5_col6\" class=\"data row5 col6\" >Normal</td>\n",
       "      <td id=\"T_8b890_row5_col7\" class=\"data row5 col7\" >170</td>\n",
       "      <td id=\"T_8b890_row5_col8\" class=\"data row5 col8\" >N</td>\n",
       "      <td id=\"T_8b890_row5_col9\" class=\"data row5 col9\" >0.000000</td>\n",
       "      <td id=\"T_8b890_row5_col10\" class=\"data row5 col10\" >Up</td>\n",
       "      <td id=\"T_8b890_row5_col11\" class=\"data row5 col11\" >0</td>\n",
       "      <td id=\"T_8b890_row5_col12\" class=\"data row5 col12\" >41–60</td>\n",
       "      <td id=\"T_8b890_row5_col13\" class=\"data row5 col13\" >hypertension1</td>\n",
       "      <td id=\"T_8b890_row5_col14\" class=\"data row5 col14\" >elevated</td>\n",
       "      <td id=\"T_8b890_row5_col15\" class=\"data row5 col15\" >normal</td>\n",
       "    </tr>\n",
       "    <tr>\n",
       "      <th id=\"T_8b890_level0_row6\" class=\"row_heading level0 row6\" >7</th>\n",
       "      <td id=\"T_8b890_row6_col0\" class=\"data row6 col0\" >54</td>\n",
       "      <td id=\"T_8b890_row6_col1\" class=\"data row6 col1\" >M</td>\n",
       "      <td id=\"T_8b890_row6_col2\" class=\"data row6 col2\" >ATA</td>\n",
       "      <td id=\"T_8b890_row6_col3\" class=\"data row6 col3\" >110</td>\n",
       "      <td id=\"T_8b890_row6_col4\" class=\"data row6 col4\" >208</td>\n",
       "      <td id=\"T_8b890_row6_col5\" class=\"data row6 col5\" >0</td>\n",
       "      <td id=\"T_8b890_row6_col6\" class=\"data row6 col6\" >Normal</td>\n",
       "      <td id=\"T_8b890_row6_col7\" class=\"data row6 col7\" >142</td>\n",
       "      <td id=\"T_8b890_row6_col8\" class=\"data row6 col8\" >N</td>\n",
       "      <td id=\"T_8b890_row6_col9\" class=\"data row6 col9\" >0.000000</td>\n",
       "      <td id=\"T_8b890_row6_col10\" class=\"data row6 col10\" >Up</td>\n",
       "      <td id=\"T_8b890_row6_col11\" class=\"data row6 col11\" >0</td>\n",
       "      <td id=\"T_8b890_row6_col12\" class=\"data row6 col12\" >41–60</td>\n",
       "      <td id=\"T_8b890_row6_col13\" class=\"data row6 col13\" >normal</td>\n",
       "      <td id=\"T_8b890_row6_col14\" class=\"data row6 col14\" >elevated</td>\n",
       "      <td id=\"T_8b890_row6_col15\" class=\"data row6 col15\" >normal</td>\n",
       "    </tr>\n",
       "    <tr>\n",
       "      <th id=\"T_8b890_level0_row7\" class=\"row_heading level0 row7\" >8</th>\n",
       "      <td id=\"T_8b890_row7_col0\" class=\"data row7 col0\" >37</td>\n",
       "      <td id=\"T_8b890_row7_col1\" class=\"data row7 col1\" >M</td>\n",
       "      <td id=\"T_8b890_row7_col2\" class=\"data row7 col2\" >ASY</td>\n",
       "      <td id=\"T_8b890_row7_col3\" class=\"data row7 col3\" >140</td>\n",
       "      <td id=\"T_8b890_row7_col4\" class=\"data row7 col4\" >207</td>\n",
       "      <td id=\"T_8b890_row7_col5\" class=\"data row7 col5\" >0</td>\n",
       "      <td id=\"T_8b890_row7_col6\" class=\"data row7 col6\" >Normal</td>\n",
       "      <td id=\"T_8b890_row7_col7\" class=\"data row7 col7\" >130</td>\n",
       "      <td id=\"T_8b890_row7_col8\" class=\"data row7 col8\" >Y</td>\n",
       "      <td id=\"T_8b890_row7_col9\" class=\"data row7 col9\" >1.500000</td>\n",
       "      <td id=\"T_8b890_row7_col10\" class=\"data row7 col10\" >Flat</td>\n",
       "      <td id=\"T_8b890_row7_col11\" class=\"data row7 col11\" >1</td>\n",
       "      <td id=\"T_8b890_row7_col12\" class=\"data row7 col12\" >20–40</td>\n",
       "      <td id=\"T_8b890_row7_col13\" class=\"data row7 col13\" >hypertension2</td>\n",
       "      <td id=\"T_8b890_row7_col14\" class=\"data row7 col14\" >elevated</td>\n",
       "      <td id=\"T_8b890_row7_col15\" class=\"data row7 col15\" >normal</td>\n",
       "    </tr>\n",
       "    <tr>\n",
       "      <th id=\"T_8b890_level0_row8\" class=\"row_heading level0 row8\" >9</th>\n",
       "      <td id=\"T_8b890_row8_col0\" class=\"data row8 col0\" >48</td>\n",
       "      <td id=\"T_8b890_row8_col1\" class=\"data row8 col1\" >F</td>\n",
       "      <td id=\"T_8b890_row8_col2\" class=\"data row8 col2\" >ATA</td>\n",
       "      <td id=\"T_8b890_row8_col3\" class=\"data row8 col3\" >120</td>\n",
       "      <td id=\"T_8b890_row8_col4\" class=\"data row8 col4\" >284</td>\n",
       "      <td id=\"T_8b890_row8_col5\" class=\"data row8 col5\" >0</td>\n",
       "      <td id=\"T_8b890_row8_col6\" class=\"data row8 col6\" >Normal</td>\n",
       "      <td id=\"T_8b890_row8_col7\" class=\"data row8 col7\" >120</td>\n",
       "      <td id=\"T_8b890_row8_col8\" class=\"data row8 col8\" >N</td>\n",
       "      <td id=\"T_8b890_row8_col9\" class=\"data row8 col9\" >0.000000</td>\n",
       "      <td id=\"T_8b890_row8_col10\" class=\"data row8 col10\" >Up</td>\n",
       "      <td id=\"T_8b890_row8_col11\" class=\"data row8 col11\" >0</td>\n",
       "      <td id=\"T_8b890_row8_col12\" class=\"data row8 col12\" >41–60</td>\n",
       "      <td id=\"T_8b890_row8_col13\" class=\"data row8 col13\" >elevated</td>\n",
       "      <td id=\"T_8b890_row8_col14\" class=\"data row8 col14\" >high</td>\n",
       "      <td id=\"T_8b890_row8_col15\" class=\"data row8 col15\" >low</td>\n",
       "    </tr>\n",
       "    <tr>\n",
       "      <th id=\"T_8b890_level0_row9\" class=\"row_heading level0 row9\" >10</th>\n",
       "      <td id=\"T_8b890_row9_col0\" class=\"data row9 col0\" >37</td>\n",
       "      <td id=\"T_8b890_row9_col1\" class=\"data row9 col1\" >F</td>\n",
       "      <td id=\"T_8b890_row9_col2\" class=\"data row9 col2\" >NAP</td>\n",
       "      <td id=\"T_8b890_row9_col3\" class=\"data row9 col3\" >130</td>\n",
       "      <td id=\"T_8b890_row9_col4\" class=\"data row9 col4\" >211</td>\n",
       "      <td id=\"T_8b890_row9_col5\" class=\"data row9 col5\" >0</td>\n",
       "      <td id=\"T_8b890_row9_col6\" class=\"data row9 col6\" >Normal</td>\n",
       "      <td id=\"T_8b890_row9_col7\" class=\"data row9 col7\" >142</td>\n",
       "      <td id=\"T_8b890_row9_col8\" class=\"data row9 col8\" >N</td>\n",
       "      <td id=\"T_8b890_row9_col9\" class=\"data row9 col9\" >0.000000</td>\n",
       "      <td id=\"T_8b890_row9_col10\" class=\"data row9 col10\" >Up</td>\n",
       "      <td id=\"T_8b890_row9_col11\" class=\"data row9 col11\" >0</td>\n",
       "      <td id=\"T_8b890_row9_col12\" class=\"data row9 col12\" >20–40</td>\n",
       "      <td id=\"T_8b890_row9_col13\" class=\"data row9 col13\" >hypertension1</td>\n",
       "      <td id=\"T_8b890_row9_col14\" class=\"data row9 col14\" >elevated</td>\n",
       "      <td id=\"T_8b890_row9_col15\" class=\"data row9 col15\" >normal</td>\n",
       "    </tr>\n",
       "  </tbody>\n",
       "</table>\n"
      ]
     },
     "execution_count": 62,
     "metadata": {},
     "output_type": "execute_result"
    }
   ],
   "execution_count": 62
  }
 ],
 "metadata": {
  "kernelspec": {
   "display_name": "Python [conda env:base] *",
   "language": "python",
   "name": "conda-base-py"
  },
  "language_info": {
   "codemirror_mode": {
    "name": "ipython",
    "version": 2
   },
   "file_extension": ".py",
   "mimetype": "text/x-python",
   "name": "python",
   "nbconvert_exporter": "python",
   "pygments_lexer": "ipython2",
   "version": "2.7.6"
  }
 },
 "nbformat": 4,
 "nbformat_minor": 5
}
