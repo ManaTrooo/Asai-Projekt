{
 "cells": [
  {
   "cell_type": "code",
   "id": "initial_id",
   "metadata": {
    "collapsed": true,
    "ExecuteTime": {
     "end_time": "2025-07-02T12:52:11.867734Z",
     "start_time": "2025-07-02T12:52:11.864338Z"
    }
   },
   "source": [
    "import pandas as pd\n",
    "import matplotlib.pyplot as plt\n",
    "import seaborn as sns"
   ],
   "outputs": [],
   "execution_count": 2
  },
  {
   "metadata": {
    "ExecuteTime": {
     "end_time": "2025-07-02T12:52:11.884795Z",
     "start_time": "2025-07-02T12:52:11.875713Z"
    }
   },
   "cell_type": "code",
   "source": [
    "#Datei einlesen\n",
    "#df = pd.read_csv(r\"C:\\Users\\zahri\\anaconda_projects\\AsaiProjekt\\Asai-Projekt\\heart_2020_cleaned.csv\")\n",
    "df = pd.read_csv(\"/Users/aurelia/Documents/GitHub/Asai-Projekt/heart3.csv\")\n",
    "df_orginal = df.copy()"
   ],
   "id": "abed7a2aff939da",
   "outputs": [],
   "execution_count": 3
  },
  {
   "metadata": {
    "ExecuteTime": {
     "end_time": "2025-07-02T12:52:12.003678Z",
     "start_time": "2025-07-02T12:52:11.970894Z"
    }
   },
   "cell_type": "code",
   "source": [
    "#DataFrame-Beispiel Daten\n",
    "styled_df = df.head(10).style.set_table_styles([\n",
    "    {'selector': 'thead th', 'props': [('background-color', '#1f77b4'), ('color', 'white'), ('font-weight', 'bold')]},\n",
    "    {'selector': 'tbody td', 'props': [('border', '1px solid #ddd'), ('text-align', 'center')]}\n",
    "]).set_properties(**{'text-align': 'center'})\n",
    "\n",
    "styled_df"
   ],
   "id": "fdbe57a7e7e7f0c4",
   "outputs": [
    {
     "data": {
      "text/plain": [
       "<pandas.io.formats.style.Styler at 0x10447b830>"
      ],
      "text/html": [
       "<style type=\"text/css\">\n",
       "#T_bf9d5 thead th {\n",
       "  background-color: #1f77b4;\n",
       "  color: white;\n",
       "  font-weight: bold;\n",
       "}\n",
       "#T_bf9d5 tbody td {\n",
       "  border: 1px solid #ddd;\n",
       "  text-align: center;\n",
       "}\n",
       "#T_bf9d5_row0_col0, #T_bf9d5_row0_col1, #T_bf9d5_row0_col2, #T_bf9d5_row0_col3, #T_bf9d5_row0_col4, #T_bf9d5_row0_col5, #T_bf9d5_row0_col6, #T_bf9d5_row0_col7, #T_bf9d5_row0_col8, #T_bf9d5_row0_col9, #T_bf9d5_row0_col10, #T_bf9d5_row0_col11, #T_bf9d5_row1_col0, #T_bf9d5_row1_col1, #T_bf9d5_row1_col2, #T_bf9d5_row1_col3, #T_bf9d5_row1_col4, #T_bf9d5_row1_col5, #T_bf9d5_row1_col6, #T_bf9d5_row1_col7, #T_bf9d5_row1_col8, #T_bf9d5_row1_col9, #T_bf9d5_row1_col10, #T_bf9d5_row1_col11, #T_bf9d5_row2_col0, #T_bf9d5_row2_col1, #T_bf9d5_row2_col2, #T_bf9d5_row2_col3, #T_bf9d5_row2_col4, #T_bf9d5_row2_col5, #T_bf9d5_row2_col6, #T_bf9d5_row2_col7, #T_bf9d5_row2_col8, #T_bf9d5_row2_col9, #T_bf9d5_row2_col10, #T_bf9d5_row2_col11, #T_bf9d5_row3_col0, #T_bf9d5_row3_col1, #T_bf9d5_row3_col2, #T_bf9d5_row3_col3, #T_bf9d5_row3_col4, #T_bf9d5_row3_col5, #T_bf9d5_row3_col6, #T_bf9d5_row3_col7, #T_bf9d5_row3_col8, #T_bf9d5_row3_col9, #T_bf9d5_row3_col10, #T_bf9d5_row3_col11, #T_bf9d5_row4_col0, #T_bf9d5_row4_col1, #T_bf9d5_row4_col2, #T_bf9d5_row4_col3, #T_bf9d5_row4_col4, #T_bf9d5_row4_col5, #T_bf9d5_row4_col6, #T_bf9d5_row4_col7, #T_bf9d5_row4_col8, #T_bf9d5_row4_col9, #T_bf9d5_row4_col10, #T_bf9d5_row4_col11, #T_bf9d5_row5_col0, #T_bf9d5_row5_col1, #T_bf9d5_row5_col2, #T_bf9d5_row5_col3, #T_bf9d5_row5_col4, #T_bf9d5_row5_col5, #T_bf9d5_row5_col6, #T_bf9d5_row5_col7, #T_bf9d5_row5_col8, #T_bf9d5_row5_col9, #T_bf9d5_row5_col10, #T_bf9d5_row5_col11, #T_bf9d5_row6_col0, #T_bf9d5_row6_col1, #T_bf9d5_row6_col2, #T_bf9d5_row6_col3, #T_bf9d5_row6_col4, #T_bf9d5_row6_col5, #T_bf9d5_row6_col6, #T_bf9d5_row6_col7, #T_bf9d5_row6_col8, #T_bf9d5_row6_col9, #T_bf9d5_row6_col10, #T_bf9d5_row6_col11, #T_bf9d5_row7_col0, #T_bf9d5_row7_col1, #T_bf9d5_row7_col2, #T_bf9d5_row7_col3, #T_bf9d5_row7_col4, #T_bf9d5_row7_col5, #T_bf9d5_row7_col6, #T_bf9d5_row7_col7, #T_bf9d5_row7_col8, #T_bf9d5_row7_col9, #T_bf9d5_row7_col10, #T_bf9d5_row7_col11, #T_bf9d5_row8_col0, #T_bf9d5_row8_col1, #T_bf9d5_row8_col2, #T_bf9d5_row8_col3, #T_bf9d5_row8_col4, #T_bf9d5_row8_col5, #T_bf9d5_row8_col6, #T_bf9d5_row8_col7, #T_bf9d5_row8_col8, #T_bf9d5_row8_col9, #T_bf9d5_row8_col10, #T_bf9d5_row8_col11, #T_bf9d5_row9_col0, #T_bf9d5_row9_col1, #T_bf9d5_row9_col2, #T_bf9d5_row9_col3, #T_bf9d5_row9_col4, #T_bf9d5_row9_col5, #T_bf9d5_row9_col6, #T_bf9d5_row9_col7, #T_bf9d5_row9_col8, #T_bf9d5_row9_col9, #T_bf9d5_row9_col10, #T_bf9d5_row9_col11 {\n",
       "  text-align: center;\n",
       "}\n",
       "</style>\n",
       "<table id=\"T_bf9d5\">\n",
       "  <thead>\n",
       "    <tr>\n",
       "      <th class=\"blank level0\" >&nbsp;</th>\n",
       "      <th id=\"T_bf9d5_level0_col0\" class=\"col_heading level0 col0\" >Age</th>\n",
       "      <th id=\"T_bf9d5_level0_col1\" class=\"col_heading level0 col1\" >Sex</th>\n",
       "      <th id=\"T_bf9d5_level0_col2\" class=\"col_heading level0 col2\" >ChestPainType</th>\n",
       "      <th id=\"T_bf9d5_level0_col3\" class=\"col_heading level0 col3\" >RestingBP</th>\n",
       "      <th id=\"T_bf9d5_level0_col4\" class=\"col_heading level0 col4\" >Cholesterol</th>\n",
       "      <th id=\"T_bf9d5_level0_col5\" class=\"col_heading level0 col5\" >FastingBS</th>\n",
       "      <th id=\"T_bf9d5_level0_col6\" class=\"col_heading level0 col6\" >RestingECG</th>\n",
       "      <th id=\"T_bf9d5_level0_col7\" class=\"col_heading level0 col7\" >MaxHR</th>\n",
       "      <th id=\"T_bf9d5_level0_col8\" class=\"col_heading level0 col8\" >ExerciseAngina</th>\n",
       "      <th id=\"T_bf9d5_level0_col9\" class=\"col_heading level0 col9\" >Oldpeak</th>\n",
       "      <th id=\"T_bf9d5_level0_col10\" class=\"col_heading level0 col10\" >ST_Slope</th>\n",
       "      <th id=\"T_bf9d5_level0_col11\" class=\"col_heading level0 col11\" >HeartDisease</th>\n",
       "    </tr>\n",
       "  </thead>\n",
       "  <tbody>\n",
       "    <tr>\n",
       "      <th id=\"T_bf9d5_level0_row0\" class=\"row_heading level0 row0\" >0</th>\n",
       "      <td id=\"T_bf9d5_row0_col0\" class=\"data row0 col0\" >40</td>\n",
       "      <td id=\"T_bf9d5_row0_col1\" class=\"data row0 col1\" >M</td>\n",
       "      <td id=\"T_bf9d5_row0_col2\" class=\"data row0 col2\" >ATA</td>\n",
       "      <td id=\"T_bf9d5_row0_col3\" class=\"data row0 col3\" >140</td>\n",
       "      <td id=\"T_bf9d5_row0_col4\" class=\"data row0 col4\" >289</td>\n",
       "      <td id=\"T_bf9d5_row0_col5\" class=\"data row0 col5\" >0</td>\n",
       "      <td id=\"T_bf9d5_row0_col6\" class=\"data row0 col6\" >Normal</td>\n",
       "      <td id=\"T_bf9d5_row0_col7\" class=\"data row0 col7\" >172</td>\n",
       "      <td id=\"T_bf9d5_row0_col8\" class=\"data row0 col8\" >N</td>\n",
       "      <td id=\"T_bf9d5_row0_col9\" class=\"data row0 col9\" >0.000000</td>\n",
       "      <td id=\"T_bf9d5_row0_col10\" class=\"data row0 col10\" >Up</td>\n",
       "      <td id=\"T_bf9d5_row0_col11\" class=\"data row0 col11\" >0</td>\n",
       "    </tr>\n",
       "    <tr>\n",
       "      <th id=\"T_bf9d5_level0_row1\" class=\"row_heading level0 row1\" >1</th>\n",
       "      <td id=\"T_bf9d5_row1_col0\" class=\"data row1 col0\" >49</td>\n",
       "      <td id=\"T_bf9d5_row1_col1\" class=\"data row1 col1\" >F</td>\n",
       "      <td id=\"T_bf9d5_row1_col2\" class=\"data row1 col2\" >NAP</td>\n",
       "      <td id=\"T_bf9d5_row1_col3\" class=\"data row1 col3\" >160</td>\n",
       "      <td id=\"T_bf9d5_row1_col4\" class=\"data row1 col4\" >180</td>\n",
       "      <td id=\"T_bf9d5_row1_col5\" class=\"data row1 col5\" >0</td>\n",
       "      <td id=\"T_bf9d5_row1_col6\" class=\"data row1 col6\" >Normal</td>\n",
       "      <td id=\"T_bf9d5_row1_col7\" class=\"data row1 col7\" >156</td>\n",
       "      <td id=\"T_bf9d5_row1_col8\" class=\"data row1 col8\" >N</td>\n",
       "      <td id=\"T_bf9d5_row1_col9\" class=\"data row1 col9\" >1.000000</td>\n",
       "      <td id=\"T_bf9d5_row1_col10\" class=\"data row1 col10\" >Flat</td>\n",
       "      <td id=\"T_bf9d5_row1_col11\" class=\"data row1 col11\" >1</td>\n",
       "    </tr>\n",
       "    <tr>\n",
       "      <th id=\"T_bf9d5_level0_row2\" class=\"row_heading level0 row2\" >2</th>\n",
       "      <td id=\"T_bf9d5_row2_col0\" class=\"data row2 col0\" >37</td>\n",
       "      <td id=\"T_bf9d5_row2_col1\" class=\"data row2 col1\" >M</td>\n",
       "      <td id=\"T_bf9d5_row2_col2\" class=\"data row2 col2\" >ATA</td>\n",
       "      <td id=\"T_bf9d5_row2_col3\" class=\"data row2 col3\" >130</td>\n",
       "      <td id=\"T_bf9d5_row2_col4\" class=\"data row2 col4\" >283</td>\n",
       "      <td id=\"T_bf9d5_row2_col5\" class=\"data row2 col5\" >0</td>\n",
       "      <td id=\"T_bf9d5_row2_col6\" class=\"data row2 col6\" >ST</td>\n",
       "      <td id=\"T_bf9d5_row2_col7\" class=\"data row2 col7\" >98</td>\n",
       "      <td id=\"T_bf9d5_row2_col8\" class=\"data row2 col8\" >N</td>\n",
       "      <td id=\"T_bf9d5_row2_col9\" class=\"data row2 col9\" >0.000000</td>\n",
       "      <td id=\"T_bf9d5_row2_col10\" class=\"data row2 col10\" >Up</td>\n",
       "      <td id=\"T_bf9d5_row2_col11\" class=\"data row2 col11\" >0</td>\n",
       "    </tr>\n",
       "    <tr>\n",
       "      <th id=\"T_bf9d5_level0_row3\" class=\"row_heading level0 row3\" >3</th>\n",
       "      <td id=\"T_bf9d5_row3_col0\" class=\"data row3 col0\" >48</td>\n",
       "      <td id=\"T_bf9d5_row3_col1\" class=\"data row3 col1\" >F</td>\n",
       "      <td id=\"T_bf9d5_row3_col2\" class=\"data row3 col2\" >ASY</td>\n",
       "      <td id=\"T_bf9d5_row3_col3\" class=\"data row3 col3\" >138</td>\n",
       "      <td id=\"T_bf9d5_row3_col4\" class=\"data row3 col4\" >214</td>\n",
       "      <td id=\"T_bf9d5_row3_col5\" class=\"data row3 col5\" >0</td>\n",
       "      <td id=\"T_bf9d5_row3_col6\" class=\"data row3 col6\" >Normal</td>\n",
       "      <td id=\"T_bf9d5_row3_col7\" class=\"data row3 col7\" >108</td>\n",
       "      <td id=\"T_bf9d5_row3_col8\" class=\"data row3 col8\" >Y</td>\n",
       "      <td id=\"T_bf9d5_row3_col9\" class=\"data row3 col9\" >1.500000</td>\n",
       "      <td id=\"T_bf9d5_row3_col10\" class=\"data row3 col10\" >Flat</td>\n",
       "      <td id=\"T_bf9d5_row3_col11\" class=\"data row3 col11\" >1</td>\n",
       "    </tr>\n",
       "    <tr>\n",
       "      <th id=\"T_bf9d5_level0_row4\" class=\"row_heading level0 row4\" >4</th>\n",
       "      <td id=\"T_bf9d5_row4_col0\" class=\"data row4 col0\" >54</td>\n",
       "      <td id=\"T_bf9d5_row4_col1\" class=\"data row4 col1\" >M</td>\n",
       "      <td id=\"T_bf9d5_row4_col2\" class=\"data row4 col2\" >NAP</td>\n",
       "      <td id=\"T_bf9d5_row4_col3\" class=\"data row4 col3\" >150</td>\n",
       "      <td id=\"T_bf9d5_row4_col4\" class=\"data row4 col4\" >195</td>\n",
       "      <td id=\"T_bf9d5_row4_col5\" class=\"data row4 col5\" >0</td>\n",
       "      <td id=\"T_bf9d5_row4_col6\" class=\"data row4 col6\" >Normal</td>\n",
       "      <td id=\"T_bf9d5_row4_col7\" class=\"data row4 col7\" >122</td>\n",
       "      <td id=\"T_bf9d5_row4_col8\" class=\"data row4 col8\" >N</td>\n",
       "      <td id=\"T_bf9d5_row4_col9\" class=\"data row4 col9\" >0.000000</td>\n",
       "      <td id=\"T_bf9d5_row4_col10\" class=\"data row4 col10\" >Up</td>\n",
       "      <td id=\"T_bf9d5_row4_col11\" class=\"data row4 col11\" >0</td>\n",
       "    </tr>\n",
       "    <tr>\n",
       "      <th id=\"T_bf9d5_level0_row5\" class=\"row_heading level0 row5\" >5</th>\n",
       "      <td id=\"T_bf9d5_row5_col0\" class=\"data row5 col0\" >39</td>\n",
       "      <td id=\"T_bf9d5_row5_col1\" class=\"data row5 col1\" >M</td>\n",
       "      <td id=\"T_bf9d5_row5_col2\" class=\"data row5 col2\" >NAP</td>\n",
       "      <td id=\"T_bf9d5_row5_col3\" class=\"data row5 col3\" >120</td>\n",
       "      <td id=\"T_bf9d5_row5_col4\" class=\"data row5 col4\" >339</td>\n",
       "      <td id=\"T_bf9d5_row5_col5\" class=\"data row5 col5\" >0</td>\n",
       "      <td id=\"T_bf9d5_row5_col6\" class=\"data row5 col6\" >Normal</td>\n",
       "      <td id=\"T_bf9d5_row5_col7\" class=\"data row5 col7\" >170</td>\n",
       "      <td id=\"T_bf9d5_row5_col8\" class=\"data row5 col8\" >N</td>\n",
       "      <td id=\"T_bf9d5_row5_col9\" class=\"data row5 col9\" >0.000000</td>\n",
       "      <td id=\"T_bf9d5_row5_col10\" class=\"data row5 col10\" >Up</td>\n",
       "      <td id=\"T_bf9d5_row5_col11\" class=\"data row5 col11\" >0</td>\n",
       "    </tr>\n",
       "    <tr>\n",
       "      <th id=\"T_bf9d5_level0_row6\" class=\"row_heading level0 row6\" >6</th>\n",
       "      <td id=\"T_bf9d5_row6_col0\" class=\"data row6 col0\" >45</td>\n",
       "      <td id=\"T_bf9d5_row6_col1\" class=\"data row6 col1\" >F</td>\n",
       "      <td id=\"T_bf9d5_row6_col2\" class=\"data row6 col2\" >ATA</td>\n",
       "      <td id=\"T_bf9d5_row6_col3\" class=\"data row6 col3\" >130</td>\n",
       "      <td id=\"T_bf9d5_row6_col4\" class=\"data row6 col4\" >237</td>\n",
       "      <td id=\"T_bf9d5_row6_col5\" class=\"data row6 col5\" >0</td>\n",
       "      <td id=\"T_bf9d5_row6_col6\" class=\"data row6 col6\" >Normal</td>\n",
       "      <td id=\"T_bf9d5_row6_col7\" class=\"data row6 col7\" >170</td>\n",
       "      <td id=\"T_bf9d5_row6_col8\" class=\"data row6 col8\" >N</td>\n",
       "      <td id=\"T_bf9d5_row6_col9\" class=\"data row6 col9\" >0.000000</td>\n",
       "      <td id=\"T_bf9d5_row6_col10\" class=\"data row6 col10\" >Up</td>\n",
       "      <td id=\"T_bf9d5_row6_col11\" class=\"data row6 col11\" >0</td>\n",
       "    </tr>\n",
       "    <tr>\n",
       "      <th id=\"T_bf9d5_level0_row7\" class=\"row_heading level0 row7\" >7</th>\n",
       "      <td id=\"T_bf9d5_row7_col0\" class=\"data row7 col0\" >54</td>\n",
       "      <td id=\"T_bf9d5_row7_col1\" class=\"data row7 col1\" >M</td>\n",
       "      <td id=\"T_bf9d5_row7_col2\" class=\"data row7 col2\" >ATA</td>\n",
       "      <td id=\"T_bf9d5_row7_col3\" class=\"data row7 col3\" >110</td>\n",
       "      <td id=\"T_bf9d5_row7_col4\" class=\"data row7 col4\" >208</td>\n",
       "      <td id=\"T_bf9d5_row7_col5\" class=\"data row7 col5\" >0</td>\n",
       "      <td id=\"T_bf9d5_row7_col6\" class=\"data row7 col6\" >Normal</td>\n",
       "      <td id=\"T_bf9d5_row7_col7\" class=\"data row7 col7\" >142</td>\n",
       "      <td id=\"T_bf9d5_row7_col8\" class=\"data row7 col8\" >N</td>\n",
       "      <td id=\"T_bf9d5_row7_col9\" class=\"data row7 col9\" >0.000000</td>\n",
       "      <td id=\"T_bf9d5_row7_col10\" class=\"data row7 col10\" >Up</td>\n",
       "      <td id=\"T_bf9d5_row7_col11\" class=\"data row7 col11\" >0</td>\n",
       "    </tr>\n",
       "    <tr>\n",
       "      <th id=\"T_bf9d5_level0_row8\" class=\"row_heading level0 row8\" >8</th>\n",
       "      <td id=\"T_bf9d5_row8_col0\" class=\"data row8 col0\" >37</td>\n",
       "      <td id=\"T_bf9d5_row8_col1\" class=\"data row8 col1\" >M</td>\n",
       "      <td id=\"T_bf9d5_row8_col2\" class=\"data row8 col2\" >ASY</td>\n",
       "      <td id=\"T_bf9d5_row8_col3\" class=\"data row8 col3\" >140</td>\n",
       "      <td id=\"T_bf9d5_row8_col4\" class=\"data row8 col4\" >207</td>\n",
       "      <td id=\"T_bf9d5_row8_col5\" class=\"data row8 col5\" >0</td>\n",
       "      <td id=\"T_bf9d5_row8_col6\" class=\"data row8 col6\" >Normal</td>\n",
       "      <td id=\"T_bf9d5_row8_col7\" class=\"data row8 col7\" >130</td>\n",
       "      <td id=\"T_bf9d5_row8_col8\" class=\"data row8 col8\" >Y</td>\n",
       "      <td id=\"T_bf9d5_row8_col9\" class=\"data row8 col9\" >1.500000</td>\n",
       "      <td id=\"T_bf9d5_row8_col10\" class=\"data row8 col10\" >Flat</td>\n",
       "      <td id=\"T_bf9d5_row8_col11\" class=\"data row8 col11\" >1</td>\n",
       "    </tr>\n",
       "    <tr>\n",
       "      <th id=\"T_bf9d5_level0_row9\" class=\"row_heading level0 row9\" >9</th>\n",
       "      <td id=\"T_bf9d5_row9_col0\" class=\"data row9 col0\" >48</td>\n",
       "      <td id=\"T_bf9d5_row9_col1\" class=\"data row9 col1\" >F</td>\n",
       "      <td id=\"T_bf9d5_row9_col2\" class=\"data row9 col2\" >ATA</td>\n",
       "      <td id=\"T_bf9d5_row9_col3\" class=\"data row9 col3\" >120</td>\n",
       "      <td id=\"T_bf9d5_row9_col4\" class=\"data row9 col4\" >284</td>\n",
       "      <td id=\"T_bf9d5_row9_col5\" class=\"data row9 col5\" >0</td>\n",
       "      <td id=\"T_bf9d5_row9_col6\" class=\"data row9 col6\" >Normal</td>\n",
       "      <td id=\"T_bf9d5_row9_col7\" class=\"data row9 col7\" >120</td>\n",
       "      <td id=\"T_bf9d5_row9_col8\" class=\"data row9 col8\" >N</td>\n",
       "      <td id=\"T_bf9d5_row9_col9\" class=\"data row9 col9\" >0.000000</td>\n",
       "      <td id=\"T_bf9d5_row9_col10\" class=\"data row9 col10\" >Up</td>\n",
       "      <td id=\"T_bf9d5_row9_col11\" class=\"data row9 col11\" >0</td>\n",
       "    </tr>\n",
       "  </tbody>\n",
       "</table>\n"
      ]
     },
     "execution_count": 4,
     "metadata": {},
     "output_type": "execute_result"
    }
   ],
   "execution_count": 4
  },
  {
   "metadata": {
    "ExecuteTime": {
     "end_time": "2025-07-02T13:04:39.856025Z",
     "start_time": "2025-07-02T13:04:39.793947Z"
    }
   },
   "cell_type": "code",
   "source": [
    "#Balkendiagramm Anteil Herzerkrankte\n",
    "\n",
    "# Balkendiagramm OHNE FutureWarning\n",
    "ax = sns.countplot(x='HeartDisease', hue='HeartDisease', data=df, palette=['#00d9ff', '#ff0000'], legend=False)\n",
    "\n",
    "\n",
    "# Achsentitel\n",
    "plt.title('Anzahl der Patienten mit / ohne Herzkrankheit')\n",
    "plt.xlabel('Herzkrankheit (0 = Nein, 1 = Ja)')\n",
    "plt.ylabel('Anzahl der Patienten')\n",
    "\n",
    "# Zahlen über Balken schreiben\n",
    "for p in ax.patches:\n",
    "    height = p.get_height()\n",
    "    ax.annotate(f'{int(height)}',\n",
    "                (p.get_x() + p.get_width() / 2, height),\n",
    "                ha='center', va='bottom',\n",
    "                fontsize=11, fontweight='bold')\n",
    "\n",
    "# Plot anzeigen\n",
    "plt.show()\n",
    "print(f\"Anzahl der Zeilen (Patienten): {df.shape[0]}\")\n",
    "print(f\"Anzahl der Spalten (Features): {df.shape[1]}\")"
   ],
   "id": "ed56d671f089297",
   "outputs": [
    {
     "data": {
      "text/plain": [
       "<Figure size 640x480 with 1 Axes>"
      ],
      "image/png": "[encoded data removed]"
     },
     "metadata": {},
     "output_type": "display_data"
    },
    {
     "name": "stdout",
     "output_type": "stream",
     "text": [
      "Anzahl der Zeilen (Patienten): 918\n",
      "Anzahl der Spalten (Features): 12\n"
     ]
    }
   ],
   "execution_count": 13
  },
  {
   "metadata": {
    "ExecuteTime": {
     "end_time": "2025-07-02T13:14:24.191027Z",
     "start_time": "2025-07-02T13:14:24.180808Z"
    }
   },
   "cell_type": "code",
   "source": [
    "# Daten Vorverarbeitung\n",
    "# Duplikate checken\n",
    "# Alle duplizierten Zeilen (inkl. Erstvorkommen)\n",
    "duplikate_df = df[df.duplicated(keep=False)]\n",
    "\n",
    "# Anzahl und Prozent Duplikate\n",
    "anzahl_duplikate = len(duplikate_df)\n",
    "gesamt = len(df)\n",
    "prozent_duplikate = (anzahl_duplikate / gesamt) * 100\n",
    "\n",
    "# Verteilung HeartDisease in den Duplikaten\n",
    "verteilung_duplikate = duplikate_df['HeartDisease'].value_counts(normalize=True) * 100\n",
    "\n",
    "# Verteilung HeartDisease im gesamten DataFrame\n",
    "verteilung_gesamt = df['HeartDisease'].value_counts(normalize=True) * 100\n",
    "\n",
    "# Ausgabe\n",
    "print(\"Gesamtzeilen:\", gesamt)\n",
    "print(\"Anzahl mehrfach vorkommender Zeilen:\", anzahl_duplikate)\n",
    "print(f\"Prozent mehrfach vorkommend: {prozent_duplikate:.2f}%\\n\")\n",
    "\n",
    "print(\"Verteilung von Heartdisease innerhalb der Duplikate:\")\n",
    "if not verteilung_duplikate.empty:\n",
    "    for wert, proz in verteilung_duplikate.items():\n",
    "        print(f\"  {wert}: {proz:.2f}%\")\n",
    "else:\n",
    "    print(\"    - - -\")\n",
    "\n",
    "print(\"\\nGesamtverteilung HeartDisease:\")\n",
    "for wert, proz in verteilung_gesamt.items():\n",
    "    print(f\"  {wert}: {proz:.2f}%\")"
   ],
   "id": "5a1ecafd868cee7a",
   "outputs": [
    {
     "name": "stdout",
     "output_type": "stream",
     "text": [
      "Gesamtzeilen: 918\n",
      "Anzahl mehrfach vorkommender Zeilen: 0\n",
      "Prozent mehrfach vorkommend: 0.00%\n",
      "\n",
      "Verteilung von Heartdisease innerhalb der Duplikate:\n",
      "    - - -\n",
      "\n",
      "Gesamtverteilung HeartDisease:\n",
      "  1: 55.34%\n",
      "  0: 44.66%\n"
     ]
    }
   ],
   "execution_count": 20
  },
  {
   "metadata": {
    "ExecuteTime": {
     "end_time": "2025-07-02T13:19:04.272455Z",
     "start_time": "2025-07-02T13:19:04.262945Z"
    }
   },
   "cell_type": "code",
   "source": [
    "# Fehlende Werte prüfen\n",
    "print(df.isnull().sum())"
   ],
   "id": "a13d54ae1ed950f9",
   "outputs": [
    {
     "name": "stdout",
     "output_type": "stream",
     "text": [
      "Age               0\n",
      "Sex               0\n",
      "ChestPainType     0\n",
      "RestingBP         0\n",
      "Cholesterol       0\n",
      "FastingBS         0\n",
      "RestingECG        0\n",
      "MaxHR             0\n",
      "ExerciseAngina    0\n",
      "Oldpeak           0\n",
      "ST_Slope          0\n",
      "HeartDisease      0\n",
      "dtype: int64\n"
     ]
    }
   ],
   "execution_count": 22
  },
  {
   "metadata": {
    "ExecuteTime": {
     "end_time": "2025-07-02T14:03:41.997916Z",
     "start_time": "2025-07-02T14:03:41.962606Z"
    }
   },
   "cell_type": "code",
   "source": [
    "#Typprüfung - gibt es in jeder Spalte wirklich nur den Typen, den es geben soll\n",
    "\n",
    "expected_types = {\n",
    "    'Age': int,\n",
    "    'Sex': 'category',\n",
    "    'ChestPainType': 'category',\n",
    "    'RestingBP': int,\n",
    "    'Cholesterol': int,\n",
    "    'FastingBS': int,\n",
    "    'RestingECG': 'category',\n",
    "    'MaxHR': int,\n",
    "    'ExerciseAngina': 'category',\n",
    "    'Oldpeak': float,\n",
    "    'ST_Slope': 'category',\n",
    "    'HeartDisease': int\n",
    "}\n",
    "def type_check(df, expected_types):\n",
    "    errors_found = False\n",
    "\n",
    "    for column, dtype in expected_types.items():\n",
    "        if column not in df.columns:\n",
    "            print(f\"Column '{column}' wurde nicht im Datensatz gefunden.\")\n",
    "            continue\n",
    "\n",
    "        series = df[column].dropna()\n",
    "\n",
    "        # Akzeptierte Typen für category (als String)\n",
    "        if dtype == 'category':\n",
    "            accepted_types = (str,)\n",
    "        else:\n",
    "            accepted_types = (dtype,)\n",
    "\n",
    "        invalid_values = series[~series.apply(lambda x: isinstance(x, accepted_types))]\n",
    "\n",
    "        if not invalid_values.empty:\n",
    "            errors_found = True\n",
    "            print(f\"Column '{column}' has {len(invalid_values)} wrong values (expected type: {dtype}).\")\n",
    "            print(f\"Sample wrong values: {invalid_values.head().to_list()}\\n\")\n",
    "\n",
    "    if not errors_found:\n",
    "        cats = [col for col, t in expected_types.items() if t == 'category']\n",
    "        print(\"No type errors found in the dataset.\")\n",
    "        print(f\"Checked categories: {cats}\")\n",
    "\n",
    "type_check(df, expected_types)"
   ],
   "id": "112250e945487ce",
   "outputs": [
    {
     "name": "stdout",
     "output_type": "stream",
     "text": [
      "No type errors found in the dataset.\n",
      "Checked categories: ['Sex', 'ChestPainType', 'RestingECG', 'ExerciseAngina', 'ST_Slope']\n"
     ]
    }
   ],
   "execution_count": 27
  },
  {
   "metadata": {
    "ExecuteTime": {
     "end_time": "2025-07-02T14:50:34.597810Z",
     "start_time": "2025-07-02T14:50:34.582603Z"
    }
   },
   "cell_type": "code",
   "source": [
    "# Typprüfung\n",
    "# also ob wirklich die im Datensatz angegebenen Datentypen und beizeichnungen stimen\n",
    "def check_values(df, column_type, valid_values):\n",
    "    if column_type not in df.columns:\n",
    "        print(f\"Spalte '{column_type}' nicht im Datensatz gefunden.\")\n",
    "        return\n",
    "\n",
    "    values = df[column_type].dropna().unique()\n",
    "    invalid = set(values).difference(set(valid_values))\n",
    "    if invalid:\n",
    "         print(f\" Ungültige Werte in Spalte '{column_type}': {(invalid)} \")\n",
    "    else:\n",
    "        print(f\"Alle Werte in Spalte '{column_type}' sind gültig \")\n",
    "\n",
    "valid_values_dict = {\n",
    "    \"Sex\": {'M', 'F'},\n",
    "    \"ChestPainType\": {'TA', 'ATA', 'NAP', 'ASY'},\n",
    "    \"RestingECG\": {'Normal', 'ST', 'LVH'},\n",
    "    \"ExerciseAngina\": {'Y', 'N'},\n",
    "    \"ST_Slope\": {'Up', 'Flat', 'Down'}\n",
    "}\n",
    "def check_if_numeric (df, column_type, valid_values):\n",
    "    if column_type not in df.columns:\n",
    "        print(f\"Spalte {column_type}' nicht im Datensatz gefunden.\")\n",
    "        return\n",
    "    else:\n",
    "        non_numeric = df[column_type].dropna().apply(lambda x: not isinstance(x, (int, float)))\n",
    "        if non_numeric.any():\n",
    "            count_invalid = non_numeric.sum()\n",
    "            print(f\"{count_invalid} nicht numerische Werte in Spalte '{column_type}'\")\n",
    "            print(f\"Beispiele: {df[column_type][non_numeric].unique()[:5]}\")\n",
    "        else:\n",
    "            print(f\"Alle Werte in Spalte '{column_type}' sind numerisch.\")\n",
    "\n",
    "numeric_columns = [\n",
    "    'Age',\n",
    "    'RestingBP',\n",
    "    'Cholesterol',\n",
    "    'FastingBS',\n",
    "    'MaxHR',\n",
    "    'Oldpeak',\n",
    "    'HeartDisease'\n",
    "]\n",
    "# Anwendung:\n",
    "for column, valid_set in valid_values_dict.items():\n",
    "    check_values(df, column, valid_set)\n",
    "\n",
    "for col in numeric_columns:\n",
    "    check_if_numeric(df, col, numeric_columns)"
   ],
   "id": "2a637ce863cab257",
   "outputs": [
    {
     "name": "stdout",
     "output_type": "stream",
     "text": [
      "Alle Werte in Spalte 'Sex' sind gültig \n",
      "Alle Werte in Spalte 'ChestPainType' sind gültig \n",
      "Alle Werte in Spalte 'RestingECG' sind gültig \n",
      "Alle Werte in Spalte 'ExerciseAngina' sind gültig \n",
      "Alle Werte in Spalte 'ST_Slope' sind gültig \n",
      "Alle Werte in Spalte 'Age' sind numerisch.\n",
      "Alle Werte in Spalte 'RestingBP' sind numerisch.\n",
      "Alle Werte in Spalte 'Cholesterol' sind numerisch.\n",
      "Alle Werte in Spalte 'FastingBS' sind numerisch.\n",
      "Alle Werte in Spalte 'MaxHR' sind numerisch.\n",
      "Alle Werte in Spalte 'Oldpeak' sind numerisch.\n",
      "Alle Werte in Spalte 'HeartDisease' sind numerisch.\n"
     ]
    }
   ],
   "execution_count": 41
  },
  {
   "metadata": {
    "ExecuteTime": {
     "end_time": "2025-07-02T16:33:04.541973Z",
     "start_time": "2025-07-02T16:33:04.523711Z"
    }
   },
   "cell_type": "code",
   "source": [
    "# Unrealistische Werte\n",
    "# aufgrund von Medizinischen Hintergründen\n",
    "def check_unrealistic_values(df, column, min_val, max_val):\n",
    "    if column not in df.columns:\n",
    "        print(f\"Spalte'{column}' nicht im Datensatz gefunden.\")\n",
    "\n",
    "    series = df[column]\n",
    "\n",
    "    invalid = series[(series < min_val) | (series > max_val)]\n",
    "    if not invalid.empty:\n",
    "        print(f\"{column}: {len(invalid)} Werte außerhalb des akzeptieren Bereichs '{min_val}-{max_val}'\")\n",
    "        print(f\"    Beispiele: {invalid.unique()[:5]}\")\n",
    "    else:\n",
    "        print(f\"{column}: Werte innerhalb des akzeptieren Bereichs '{min_val}-{max_val}'\")\n",
    "\n",
    "\n",
    "check_unrealistic_values(df, 'Age', 0, 100)\n",
    "check_unrealistic_values(df, 'RestingBP', 0, 180)\n",
    "check_unrealistic_values(df, 'Cholesterol', 0, 800)\n",
    "check_unrealistic_values(df, 'MaxHR', 60, 202)\n",
    "check_unrealistic_values(df, 'Oldpeak', 0, 5)\n"
   ],
   "id": "b52d10bd3281b06",
   "outputs": [
    {
     "name": "stdout",
     "output_type": "stream",
     "text": [
      "Age: Werte innerhalb des akzeptieren Bereichs '0-100'\n",
      "RestingBP: 8 Werte außerhalb des akzeptieren Bereichs '0-180'\n",
      "    Beispiele: [190 200 185 192]\n",
      "Cholesterol: Werte innerhalb des akzeptieren Bereichs '0-800'\n",
      "MaxHR: Werte innerhalb des akzeptieren Bereichs '60-202'\n",
      "Oldpeak: 15 Werte außerhalb des akzeptieren Bereichs '0-5'\n",
      "    Beispiele: [-0.9 -2.6 -1.5 -0.1 -1. ]\n"
     ]
    }
   ],
   "execution_count": 64
  },
  {
   "metadata": {
    "ExecuteTime": {
     "end_time": "2025-07-02T16:37:45.606828Z",
     "start_time": "2025-07-02T16:37:45.597412Z"
    }
   },
   "cell_type": "code",
   "source": [
    "# Formatierung / Behandlung der Unrealistischen Werte\n",
    "#Oldpeak\n",
    "df = df[(df['Oldpeak'] >= 0) & (df['Oldpeak'] <= 5)]\n",
    "\n",
    "print(f\"Neue Anzahl an Zeilen: {df.shape[0]}\")"
   ],
   "id": "cff645df57b6026f",
   "outputs": [
    {
     "name": "stdout",
     "output_type": "stream",
     "text": [
      "Neue Anzahl an Zeilen: 903\n"
     ]
    }
   ],
   "execution_count": 69
  },
  {
   "metadata": {
    "ExecuteTime": {
     "end_time": "2025-07-02T16:42:46.009617Z",
     "start_time": "2025-07-02T16:42:45.739496Z"
    }
   },
   "cell_type": "code",
   "source": [
    "# Bias prüfen\n",
    "import matplotlib.pyplot as plt\n",
    "\n",
    "def check_age_gender_bias(df):\n",
    "    print(\"=== Altersverteilung ===\")\n",
    "    print(df['Age'].describe())\n",
    "\n",
    "    plt.figure(figsize=(8,5))\n",
    "    plt.hist(df['Age'], bins=20, color='skyblue', edgecolor='black')\n",
    "    plt.title('Altersverteilung der Patienten')\n",
    "    plt.xlabel('Alter [Jahre]')\n",
    "    plt.ylabel('Anzahl')\n",
    "    plt.show()\n",
    "\n",
    "    print(\"\\n=== Geschlechterverteilung ===\")\n",
    "    gender_counts = df['Sex'].value_counts()\n",
    "    gender_percent = df['Sex'].value_counts(normalize=True) * 100\n",
    "\n",
    "    for sex in gender_counts.index:\n",
    "        print(f\"{sex}: {gender_counts[sex]} Patienten ({gender_percent[sex]:.2f}%)\")\n",
    "\n",
    "    plt.figure(figsize=(6,4))\n",
    "    gender_counts.plot(kind='bar', color=['lightcoral', 'lightblue'])\n",
    "    plt.title('Verteilung der Geschlechter')\n",
    "    plt.xlabel('Geschlecht')\n",
    "    plt.ylabel('Anzahl')\n",
    "    plt.xticks(rotation=0)\n",
    "    plt.show()\n",
    "\n",
    "# Anwendung:\n",
    "check_age_gender_bias(df)\n"
   ],
   "id": "e66ce5536f17498",
   "outputs": [
    {
     "name": "stdout",
     "output_type": "stream",
     "text": [
      "=== Altersverteilung ===\n",
      "count    903.000000\n",
      "mean      53.519380\n",
      "std        9.432654\n",
      "min       28.000000\n",
      "25%       47.000000\n",
      "50%       54.000000\n",
      "75%       60.000000\n",
      "max       77.000000\n",
      "Name: Age, dtype: float64\n"
     ]
    },
    {
     "data": {
      "text/plain": [
       "<Figure size 800x500 with 1 Axes>"
      ],
      "image/png": "[encoded data removed]"
     },
     "metadata": {},
     "output_type": "display_data"
    },
    {
     "name": "stdout",
     "output_type": "stream",
     "text": [
      "\n",
      "=== Geschlechterverteilung ===\n",
      "M: 711 Patienten (78.74%)\n",
      "F: 192 Patienten (21.26%)\n"
     ]
    },
    {
     "data": {
      "text/plain": [
       "<Figure size 600x400 with 1 Axes>"
      ],
      "image/png": "[encoded data removed]"
     },
     "metadata": {},
     "output_type": "display_data"
    }
   ],
   "execution_count": 70
  },
  {
   "metadata": {
    "ExecuteTime": {
     "end_time": "2025-07-02T16:44:13.032044Z",
     "start_time": "2025-07-02T16:44:12.896012Z"
    }
   },
   "cell_type": "code",
   "source": [
    "import matplotlib.pyplot as plt\n",
    "\n",
    "def check_age_distribution(df):\n",
    "    print(\"=== Altersverteilung ===\")\n",
    "    print(df['Age'].describe())\n",
    "\n",
    "    plt.figure(figsize=(8,5))\n",
    "    plt.hist(df['Age'], bins=20, color='skyblue', edgecolor='black')\n",
    "    plt.title('Altersverteilung der Patienten')\n",
    "    plt.xlabel('Alter [Jahre]')\n",
    "    plt.ylabel('Anzahl')\n",
    "    plt.show()\n",
    "def check_gender_distribution(df):\n",
    "    print(\"=== Geschlechterverteilung ===\")\n",
    "    gender_counts = df['Sex'].value_counts()\n",
    "    gender_percent = df['Sex'].value_counts(normalize=True) * 100\n",
    "\n",
    "    for sex in gender_counts.index:\n",
    "        print(f\"{sex}: {gender_counts[sex]} Patienten ({gender_percent[sex]:.2f}%)\")\n",
    "\n",
    "    plt.figure(figsize=(6,4))\n",
    "    gender_counts.plot(kind='bar', color=['lightcoral', 'lightblue'])\n",
    "    plt.title('Verteilung der Geschlechter')\n",
    "    plt.xlabel('Geschlecht')\n",
    "    plt.ylabel('Anzahl')\n",
    "    plt.xticks(rotation=0)\n",
    "    plt.show()\n",
    "\n",
    "check_age_distribution(df)\n",
    "check_gender_distribution(df)\n"
   ],
   "id": "6de04870f94a1cb3",
   "outputs": [
    {
     "name": "stdout",
     "output_type": "stream",
     "text": [
      "=== Altersverteilung ===\n",
      "count    903.000000\n",
      "mean      53.519380\n",
      "std        9.432654\n",
      "min       28.000000\n",
      "25%       47.000000\n",
      "50%       54.000000\n",
      "75%       60.000000\n",
      "max       77.000000\n",
      "Name: Age, dtype: float64\n"
     ]
    },
    {
     "data": {
      "text/plain": [
       "<Figure size 800x500 with 1 Axes>"
      ],
      "image/png": "[encoded data removed]"
     },
     "metadata": {},
     "output_type": "display_data"
    },
    {
     "name": "stdout",
     "output_type": "stream",
     "text": [
      "=== Geschlechterverteilung ===\n",
      "M: 711 Patienten (78.74%)\n",
      "F: 192 Patienten (21.26%)\n"
     ]
    },
    {
     "data": {
      "text/plain": [
       "<Figure size 600x400 with 1 Axes>"
      ],
      "image/png": "[encoded data removed]"
     },
     "metadata": {},
     "output_type": "display_data"
    }
   ],
   "execution_count": 71
  }
 ],
 "metadata": {
  "kernelspec": {
   "display_name": "Python 3",
   "language": "python",
   "name": "python3"
  },
  "language_info": {
   "codemirror_mode": {
    "name": "ipython",
    "version": 2
   },
   "file_extension": ".py",
   "mimetype": "text/x-python",
   "name": "python",
   "nbconvert_exporter": "python",
   "pygments_lexer": "ipython2",
   "version": "2.7.6"
  }
 },
 "nbformat": 4,
 "nbformat_minor": 5
}
