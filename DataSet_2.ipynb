{
 "cells": [
  {
   "cell_type": "code",
   "id": "initial_id",
   "metadata": {
    "collapsed": true,
    "ExecuteTime": {
     "end_time": "2025-07-07T21:24:51.668773Z",
     "start_time": "2025-07-07T21:24:51.664761Z"
    }
   },
   "source": [
    "import pandas as pd\n",
    "import matplotlib.pyplot as plt\n",
    "import seaborn as sns\n",
    "from sklearn.preprocessing import MinMaxScaler\n",
    "import numpy as np"
   ],
   "outputs": [],
   "execution_count": 769
  },
  {
   "metadata": {
    "ExecuteTime": {
     "end_time": "2025-07-07T21:24:51.713834Z",
     "start_time": "2025-07-07T21:24:51.709600Z"
    }
   },
   "cell_type": "code",
   "source": [
    "#Datei einlesen\n",
    "df = pd.read_csv(\"heart3.csv\")\n",
    "#df = pd.read_csv(\"/Users/aurelia/Documents/GitHub/Asai-Projekt/heart3.csv\")\n",
    "df_orginal = df.copy()"
   ],
   "id": "abed7a2aff939da",
   "outputs": [],
   "execution_count": 770
  },
  {
   "metadata": {
    "ExecuteTime": {
     "end_time": "2025-07-07T21:24:51.746701Z",
     "start_time": "2025-07-07T21:24:51.732629Z"
    }
   },
   "cell_type": "code",
   "source": [
    "#DataFrame-Beispiel Daten\n",
    "styled_df = df.head(10).style.set_table_styles([\n",
    "    {'selector': 'thead th', 'props': [('background-color', '#1f77b4'), ('color', 'white'), ('font-weight', 'bold')]},\n",
    "    {'selector': 'tbody td', 'props': [('border', '1px solid #ddd'), ('text-align', 'center')]}\n",
    "]).set_properties(**{'text-align': 'center'})\n",
    "\n",
    "styled_df"
   ],
   "id": "fdbe57a7e7e7f0c4",
   "outputs": [
    {
     "data": {
      "text/plain": [
       "<pandas.io.formats.style.Styler at 0x11f4909b0>"
      ],
      "text/html": [
       "<style type=\"text/css\">\n",
       "#T_e3d2a thead th {\n",
       "  background-color: #1f77b4;\n",
       "  color: white;\n",
       "  font-weight: bold;\n",
       "}\n",
       "#T_e3d2a tbody td {\n",
       "  border: 1px solid #ddd;\n",
       "  text-align: center;\n",
       "}\n",
       "#T_e3d2a_row0_col0, #T_e3d2a_row0_col1, #T_e3d2a_row0_col2, #T_e3d2a_row0_col3, #T_e3d2a_row0_col4, #T_e3d2a_row0_col5, #T_e3d2a_row0_col6, #T_e3d2a_row0_col7, #T_e3d2a_row0_col8, #T_e3d2a_row0_col9, #T_e3d2a_row0_col10, #T_e3d2a_row0_col11, #T_e3d2a_row1_col0, #T_e3d2a_row1_col1, #T_e3d2a_row1_col2, #T_e3d2a_row1_col3, #T_e3d2a_row1_col4, #T_e3d2a_row1_col5, #T_e3d2a_row1_col6, #T_e3d2a_row1_col7, #T_e3d2a_row1_col8, #T_e3d2a_row1_col9, #T_e3d2a_row1_col10, #T_e3d2a_row1_col11, #T_e3d2a_row2_col0, #T_e3d2a_row2_col1, #T_e3d2a_row2_col2, #T_e3d2a_row2_col3, #T_e3d2a_row2_col4, #T_e3d2a_row2_col5, #T_e3d2a_row2_col6, #T_e3d2a_row2_col7, #T_e3d2a_row2_col8, #T_e3d2a_row2_col9, #T_e3d2a_row2_col10, #T_e3d2a_row2_col11, #T_e3d2a_row3_col0, #T_e3d2a_row3_col1, #T_e3d2a_row3_col2, #T_e3d2a_row3_col3, #T_e3d2a_row3_col4, #T_e3d2a_row3_col5, #T_e3d2a_row3_col6, #T_e3d2a_row3_col7, #T_e3d2a_row3_col8, #T_e3d2a_row3_col9, #T_e3d2a_row3_col10, #T_e3d2a_row3_col11, #T_e3d2a_row4_col0, #T_e3d2a_row4_col1, #T_e3d2a_row4_col2, #T_e3d2a_row4_col3, #T_e3d2a_row4_col4, #T_e3d2a_row4_col5, #T_e3d2a_row4_col6, #T_e3d2a_row4_col7, #T_e3d2a_row4_col8, #T_e3d2a_row4_col9, #T_e3d2a_row4_col10, #T_e3d2a_row4_col11, #T_e3d2a_row5_col0, #T_e3d2a_row5_col1, #T_e3d2a_row5_col2, #T_e3d2a_row5_col3, #T_e3d2a_row5_col4, #T_e3d2a_row5_col5, #T_e3d2a_row5_col6, #T_e3d2a_row5_col7, #T_e3d2a_row5_col8, #T_e3d2a_row5_col9, #T_e3d2a_row5_col10, #T_e3d2a_row5_col11, #T_e3d2a_row6_col0, #T_e3d2a_row6_col1, #T_e3d2a_row6_col2, #T_e3d2a_row6_col3, #T_e3d2a_row6_col4, #T_e3d2a_row6_col5, #T_e3d2a_row6_col6, #T_e3d2a_row6_col7, #T_e3d2a_row6_col8, #T_e3d2a_row6_col9, #T_e3d2a_row6_col10, #T_e3d2a_row6_col11, #T_e3d2a_row7_col0, #T_e3d2a_row7_col1, #T_e3d2a_row7_col2, #T_e3d2a_row7_col3, #T_e3d2a_row7_col4, #T_e3d2a_row7_col5, #T_e3d2a_row7_col6, #T_e3d2a_row7_col7, #T_e3d2a_row7_col8, #T_e3d2a_row7_col9, #T_e3d2a_row7_col10, #T_e3d2a_row7_col11, #T_e3d2a_row8_col0, #T_e3d2a_row8_col1, #T_e3d2a_row8_col2, #T_e3d2a_row8_col3, #T_e3d2a_row8_col4, #T_e3d2a_row8_col5, #T_e3d2a_row8_col6, #T_e3d2a_row8_col7, #T_e3d2a_row8_col8, #T_e3d2a_row8_col9, #T_e3d2a_row8_col10, #T_e3d2a_row8_col11, #T_e3d2a_row9_col0, #T_e3d2a_row9_col1, #T_e3d2a_row9_col2, #T_e3d2a_row9_col3, #T_e3d2a_row9_col4, #T_e3d2a_row9_col5, #T_e3d2a_row9_col6, #T_e3d2a_row9_col7, #T_e3d2a_row9_col8, #T_e3d2a_row9_col9, #T_e3d2a_row9_col10, #T_e3d2a_row9_col11 {\n",
       "  text-align: center;\n",
       "}\n",
       "</style>\n",
       "<table id=\"T_e3d2a\">\n",
       "  <thead>\n",
       "    <tr>\n",
       "      <th class=\"blank level0\" >&nbsp;</th>\n",
       "      <th id=\"T_e3d2a_level0_col0\" class=\"col_heading level0 col0\" >Age</th>\n",
       "      <th id=\"T_e3d2a_level0_col1\" class=\"col_heading level0 col1\" >Sex</th>\n",
       "      <th id=\"T_e3d2a_level0_col2\" class=\"col_heading level0 col2\" >ChestPainType</th>\n",
       "      <th id=\"T_e3d2a_level0_col3\" class=\"col_heading level0 col3\" >RestingBP</th>\n",
       "      <th id=\"T_e3d2a_level0_col4\" class=\"col_heading level0 col4\" >Cholesterol</th>\n",
       "      <th id=\"T_e3d2a_level0_col5\" class=\"col_heading level0 col5\" >FastingBS</th>\n",
       "      <th id=\"T_e3d2a_level0_col6\" class=\"col_heading level0 col6\" >RestingECG</th>\n",
       "      <th id=\"T_e3d2a_level0_col7\" class=\"col_heading level0 col7\" >MaxHR</th>\n",
       "      <th id=\"T_e3d2a_level0_col8\" class=\"col_heading level0 col8\" >ExerciseAngina</th>\n",
       "      <th id=\"T_e3d2a_level0_col9\" class=\"col_heading level0 col9\" >Oldpeak</th>\n",
       "      <th id=\"T_e3d2a_level0_col10\" class=\"col_heading level0 col10\" >ST_Slope</th>\n",
       "      <th id=\"T_e3d2a_level0_col11\" class=\"col_heading level0 col11\" >HeartDisease</th>\n",
       "    </tr>\n",
       "  </thead>\n",
       "  <tbody>\n",
       "    <tr>\n",
       "      <th id=\"T_e3d2a_level0_row0\" class=\"row_heading level0 row0\" >0</th>\n",
       "      <td id=\"T_e3d2a_row0_col0\" class=\"data row0 col0\" >40</td>\n",
       "      <td id=\"T_e3d2a_row0_col1\" class=\"data row0 col1\" >M</td>\n",
       "      <td id=\"T_e3d2a_row0_col2\" class=\"data row0 col2\" >ATA</td>\n",
       "      <td id=\"T_e3d2a_row0_col3\" class=\"data row0 col3\" >140</td>\n",
       "      <td id=\"T_e3d2a_row0_col4\" class=\"data row0 col4\" >289</td>\n",
       "      <td id=\"T_e3d2a_row0_col5\" class=\"data row0 col5\" >0</td>\n",
       "      <td id=\"T_e3d2a_row0_col6\" class=\"data row0 col6\" >Normal</td>\n",
       "      <td id=\"T_e3d2a_row0_col7\" class=\"data row0 col7\" >172</td>\n",
       "      <td id=\"T_e3d2a_row0_col8\" class=\"data row0 col8\" >N</td>\n",
       "      <td id=\"T_e3d2a_row0_col9\" class=\"data row0 col9\" >0.000000</td>\n",
       "      <td id=\"T_e3d2a_row0_col10\" class=\"data row0 col10\" >Up</td>\n",
       "      <td id=\"T_e3d2a_row0_col11\" class=\"data row0 col11\" >0</td>\n",
       "    </tr>\n",
       "    <tr>\n",
       "      <th id=\"T_e3d2a_level0_row1\" class=\"row_heading level0 row1\" >1</th>\n",
       "      <td id=\"T_e3d2a_row1_col0\" class=\"data row1 col0\" >49</td>\n",
       "      <td id=\"T_e3d2a_row1_col1\" class=\"data row1 col1\" >F</td>\n",
       "      <td id=\"T_e3d2a_row1_col2\" class=\"data row1 col2\" >NAP</td>\n",
       "      <td id=\"T_e3d2a_row1_col3\" class=\"data row1 col3\" >160</td>\n",
       "      <td id=\"T_e3d2a_row1_col4\" class=\"data row1 col4\" >180</td>\n",
       "      <td id=\"T_e3d2a_row1_col5\" class=\"data row1 col5\" >0</td>\n",
       "      <td id=\"T_e3d2a_row1_col6\" class=\"data row1 col6\" >Normal</td>\n",
       "      <td id=\"T_e3d2a_row1_col7\" class=\"data row1 col7\" >156</td>\n",
       "      <td id=\"T_e3d2a_row1_col8\" class=\"data row1 col8\" >N</td>\n",
       "      <td id=\"T_e3d2a_row1_col9\" class=\"data row1 col9\" >1.000000</td>\n",
       "      <td id=\"T_e3d2a_row1_col10\" class=\"data row1 col10\" >Flat</td>\n",
       "      <td id=\"T_e3d2a_row1_col11\" class=\"data row1 col11\" >1</td>\n",
       "    </tr>\n",
       "    <tr>\n",
       "      <th id=\"T_e3d2a_level0_row2\" class=\"row_heading level0 row2\" >2</th>\n",
       "      <td id=\"T_e3d2a_row2_col0\" class=\"data row2 col0\" >37</td>\n",
       "      <td id=\"T_e3d2a_row2_col1\" class=\"data row2 col1\" >M</td>\n",
       "      <td id=\"T_e3d2a_row2_col2\" class=\"data row2 col2\" >ATA</td>\n",
       "      <td id=\"T_e3d2a_row2_col3\" class=\"data row2 col3\" >130</td>\n",
       "      <td id=\"T_e3d2a_row2_col4\" class=\"data row2 col4\" >283</td>\n",
       "      <td id=\"T_e3d2a_row2_col5\" class=\"data row2 col5\" >0</td>\n",
       "      <td id=\"T_e3d2a_row2_col6\" class=\"data row2 col6\" >ST</td>\n",
       "      <td id=\"T_e3d2a_row2_col7\" class=\"data row2 col7\" >98</td>\n",
       "      <td id=\"T_e3d2a_row2_col8\" class=\"data row2 col8\" >N</td>\n",
       "      <td id=\"T_e3d2a_row2_col9\" class=\"data row2 col9\" >0.000000</td>\n",
       "      <td id=\"T_e3d2a_row2_col10\" class=\"data row2 col10\" >Up</td>\n",
       "      <td id=\"T_e3d2a_row2_col11\" class=\"data row2 col11\" >0</td>\n",
       "    </tr>\n",
       "    <tr>\n",
       "      <th id=\"T_e3d2a_level0_row3\" class=\"row_heading level0 row3\" >3</th>\n",
       "      <td id=\"T_e3d2a_row3_col0\" class=\"data row3 col0\" >48</td>\n",
       "      <td id=\"T_e3d2a_row3_col1\" class=\"data row3 col1\" >F</td>\n",
       "      <td id=\"T_e3d2a_row3_col2\" class=\"data row3 col2\" >ASY</td>\n",
       "      <td id=\"T_e3d2a_row3_col3\" class=\"data row3 col3\" >138</td>\n",
       "      <td id=\"T_e3d2a_row3_col4\" class=\"data row3 col4\" >214</td>\n",
       "      <td id=\"T_e3d2a_row3_col5\" class=\"data row3 col5\" >0</td>\n",
       "      <td id=\"T_e3d2a_row3_col6\" class=\"data row3 col6\" >Normal</td>\n",
       "      <td id=\"T_e3d2a_row3_col7\" class=\"data row3 col7\" >108</td>\n",
       "      <td id=\"T_e3d2a_row3_col8\" class=\"data row3 col8\" >Y</td>\n",
       "      <td id=\"T_e3d2a_row3_col9\" class=\"data row3 col9\" >1.500000</td>\n",
       "      <td id=\"T_e3d2a_row3_col10\" class=\"data row3 col10\" >Flat</td>\n",
       "      <td id=\"T_e3d2a_row3_col11\" class=\"data row3 col11\" >1</td>\n",
       "    </tr>\n",
       "    <tr>\n",
       "      <th id=\"T_e3d2a_level0_row4\" class=\"row_heading level0 row4\" >4</th>\n",
       "      <td id=\"T_e3d2a_row4_col0\" class=\"data row4 col0\" >54</td>\n",
       "      <td id=\"T_e3d2a_row4_col1\" class=\"data row4 col1\" >M</td>\n",
       "      <td id=\"T_e3d2a_row4_col2\" class=\"data row4 col2\" >NAP</td>\n",
       "      <td id=\"T_e3d2a_row4_col3\" class=\"data row4 col3\" >150</td>\n",
       "      <td id=\"T_e3d2a_row4_col4\" class=\"data row4 col4\" >195</td>\n",
       "      <td id=\"T_e3d2a_row4_col5\" class=\"data row4 col5\" >0</td>\n",
       "      <td id=\"T_e3d2a_row4_col6\" class=\"data row4 col6\" >Normal</td>\n",
       "      <td id=\"T_e3d2a_row4_col7\" class=\"data row4 col7\" >122</td>\n",
       "      <td id=\"T_e3d2a_row4_col8\" class=\"data row4 col8\" >N</td>\n",
       "      <td id=\"T_e3d2a_row4_col9\" class=\"data row4 col9\" >0.000000</td>\n",
       "      <td id=\"T_e3d2a_row4_col10\" class=\"data row4 col10\" >Up</td>\n",
       "      <td id=\"T_e3d2a_row4_col11\" class=\"data row4 col11\" >0</td>\n",
       "    </tr>\n",
       "    <tr>\n",
       "      <th id=\"T_e3d2a_level0_row5\" class=\"row_heading level0 row5\" >5</th>\n",
       "      <td id=\"T_e3d2a_row5_col0\" class=\"data row5 col0\" >39</td>\n",
       "      <td id=\"T_e3d2a_row5_col1\" class=\"data row5 col1\" >M</td>\n",
       "      <td id=\"T_e3d2a_row5_col2\" class=\"data row5 col2\" >NAP</td>\n",
       "      <td id=\"T_e3d2a_row5_col3\" class=\"data row5 col3\" >120</td>\n",
       "      <td id=\"T_e3d2a_row5_col4\" class=\"data row5 col4\" >339</td>\n",
       "      <td id=\"T_e3d2a_row5_col5\" class=\"data row5 col5\" >0</td>\n",
       "      <td id=\"T_e3d2a_row5_col6\" class=\"data row5 col6\" >Normal</td>\n",
       "      <td id=\"T_e3d2a_row5_col7\" class=\"data row5 col7\" >170</td>\n",
       "      <td id=\"T_e3d2a_row5_col8\" class=\"data row5 col8\" >N</td>\n",
       "      <td id=\"T_e3d2a_row5_col9\" class=\"data row5 col9\" >0.000000</td>\n",
       "      <td id=\"T_e3d2a_row5_col10\" class=\"data row5 col10\" >Up</td>\n",
       "      <td id=\"T_e3d2a_row5_col11\" class=\"data row5 col11\" >0</td>\n",
       "    </tr>\n",
       "    <tr>\n",
       "      <th id=\"T_e3d2a_level0_row6\" class=\"row_heading level0 row6\" >6</th>\n",
       "      <td id=\"T_e3d2a_row6_col0\" class=\"data row6 col0\" >45</td>\n",
       "      <td id=\"T_e3d2a_row6_col1\" class=\"data row6 col1\" >F</td>\n",
       "      <td id=\"T_e3d2a_row6_col2\" class=\"data row6 col2\" >ATA</td>\n",
       "      <td id=\"T_e3d2a_row6_col3\" class=\"data row6 col3\" >130</td>\n",
       "      <td id=\"T_e3d2a_row6_col4\" class=\"data row6 col4\" >237</td>\n",
       "      <td id=\"T_e3d2a_row6_col5\" class=\"data row6 col5\" >0</td>\n",
       "      <td id=\"T_e3d2a_row6_col6\" class=\"data row6 col6\" >Normal</td>\n",
       "      <td id=\"T_e3d2a_row6_col7\" class=\"data row6 col7\" >170</td>\n",
       "      <td id=\"T_e3d2a_row6_col8\" class=\"data row6 col8\" >N</td>\n",
       "      <td id=\"T_e3d2a_row6_col9\" class=\"data row6 col9\" >0.000000</td>\n",
       "      <td id=\"T_e3d2a_row6_col10\" class=\"data row6 col10\" >Up</td>\n",
       "      <td id=\"T_e3d2a_row6_col11\" class=\"data row6 col11\" >0</td>\n",
       "    </tr>\n",
       "    <tr>\n",
       "      <th id=\"T_e3d2a_level0_row7\" class=\"row_heading level0 row7\" >7</th>\n",
       "      <td id=\"T_e3d2a_row7_col0\" class=\"data row7 col0\" >54</td>\n",
       "      <td id=\"T_e3d2a_row7_col1\" class=\"data row7 col1\" >M</td>\n",
       "      <td id=\"T_e3d2a_row7_col2\" class=\"data row7 col2\" >ATA</td>\n",
       "      <td id=\"T_e3d2a_row7_col3\" class=\"data row7 col3\" >110</td>\n",
       "      <td id=\"T_e3d2a_row7_col4\" class=\"data row7 col4\" >208</td>\n",
       "      <td id=\"T_e3d2a_row7_col5\" class=\"data row7 col5\" >0</td>\n",
       "      <td id=\"T_e3d2a_row7_col6\" class=\"data row7 col6\" >Normal</td>\n",
       "      <td id=\"T_e3d2a_row7_col7\" class=\"data row7 col7\" >142</td>\n",
       "      <td id=\"T_e3d2a_row7_col8\" class=\"data row7 col8\" >N</td>\n",
       "      <td id=\"T_e3d2a_row7_col9\" class=\"data row7 col9\" >0.000000</td>\n",
       "      <td id=\"T_e3d2a_row7_col10\" class=\"data row7 col10\" >Up</td>\n",
       "      <td id=\"T_e3d2a_row7_col11\" class=\"data row7 col11\" >0</td>\n",
       "    </tr>\n",
       "    <tr>\n",
       "      <th id=\"T_e3d2a_level0_row8\" class=\"row_heading level0 row8\" >8</th>\n",
       "      <td id=\"T_e3d2a_row8_col0\" class=\"data row8 col0\" >37</td>\n",
       "      <td id=\"T_e3d2a_row8_col1\" class=\"data row8 col1\" >M</td>\n",
       "      <td id=\"T_e3d2a_row8_col2\" class=\"data row8 col2\" >ASY</td>\n",
       "      <td id=\"T_e3d2a_row8_col3\" class=\"data row8 col3\" >140</td>\n",
       "      <td id=\"T_e3d2a_row8_col4\" class=\"data row8 col4\" >207</td>\n",
       "      <td id=\"T_e3d2a_row8_col5\" class=\"data row8 col5\" >0</td>\n",
       "      <td id=\"T_e3d2a_row8_col6\" class=\"data row8 col6\" >Normal</td>\n",
       "      <td id=\"T_e3d2a_row8_col7\" class=\"data row8 col7\" >130</td>\n",
       "      <td id=\"T_e3d2a_row8_col8\" class=\"data row8 col8\" >Y</td>\n",
       "      <td id=\"T_e3d2a_row8_col9\" class=\"data row8 col9\" >1.500000</td>\n",
       "      <td id=\"T_e3d2a_row8_col10\" class=\"data row8 col10\" >Flat</td>\n",
       "      <td id=\"T_e3d2a_row8_col11\" class=\"data row8 col11\" >1</td>\n",
       "    </tr>\n",
       "    <tr>\n",
       "      <th id=\"T_e3d2a_level0_row9\" class=\"row_heading level0 row9\" >9</th>\n",
       "      <td id=\"T_e3d2a_row9_col0\" class=\"data row9 col0\" >48</td>\n",
       "      <td id=\"T_e3d2a_row9_col1\" class=\"data row9 col1\" >F</td>\n",
       "      <td id=\"T_e3d2a_row9_col2\" class=\"data row9 col2\" >ATA</td>\n",
       "      <td id=\"T_e3d2a_row9_col3\" class=\"data row9 col3\" >120</td>\n",
       "      <td id=\"T_e3d2a_row9_col4\" class=\"data row9 col4\" >284</td>\n",
       "      <td id=\"T_e3d2a_row9_col5\" class=\"data row9 col5\" >0</td>\n",
       "      <td id=\"T_e3d2a_row9_col6\" class=\"data row9 col6\" >Normal</td>\n",
       "      <td id=\"T_e3d2a_row9_col7\" class=\"data row9 col7\" >120</td>\n",
       "      <td id=\"T_e3d2a_row9_col8\" class=\"data row9 col8\" >N</td>\n",
       "      <td id=\"T_e3d2a_row9_col9\" class=\"data row9 col9\" >0.000000</td>\n",
       "      <td id=\"T_e3d2a_row9_col10\" class=\"data row9 col10\" >Up</td>\n",
       "      <td id=\"T_e3d2a_row9_col11\" class=\"data row9 col11\" >0</td>\n",
       "    </tr>\n",
       "  </tbody>\n",
       "</table>\n"
      ]
     },
     "execution_count": 771,
     "metadata": {},
     "output_type": "execute_result"
    }
   ],
   "execution_count": 771
  },
  {
   "metadata": {
    "ExecuteTime": {
     "end_time": "2025-07-07T21:24:51.865648Z",
     "start_time": "2025-07-07T21:24:51.790306Z"
    }
   },
   "cell_type": "code",
   "source": [
    "#Balkendiagramm Anteil Herzerkrankte\n",
    "\n",
    "# Balkendiagramm OHNE FutureWarning\n",
    "ax = sns.countplot(x='HeartDisease', hue='HeartDisease', data=df, palette=['#00d9ff', '#ff0000'], legend=False)\n",
    "\n",
    "\n",
    "# Achsentitel\n",
    "plt.title('Anzahl der Patienten mit / ohne Herzkrankheit')\n",
    "plt.xlabel('Herzkrankheit (0 = Nein, 1 = Ja)')\n",
    "plt.ylabel('Anzahl der Patienten')\n",
    "\n",
    "# Zahlen über Balken schreiben\n",
    "for p in ax.patches:\n",
    "    height = p.get_height()\n",
    "    ax.annotate(f'{int(height)}',\n",
    "                (p.get_x() + p.get_width() / 2, height),\n",
    "                ha='center', va='bottom',\n",
    "                fontsize=11, fontweight='bold')\n",
    "\n",
    "# Plot anzeigen\n",
    "plt.show()\n",
    "print(f\"Anzahl der Zeilen (Patienten): {df.shape[0]}\")\n",
    "print(f\"Anzahl der Spalten (Features): {df.shape[1]}\")"
   ],
   "id": "ed56d671f089297",
   "outputs": [
    {
     "data": {
      "text/plain": [
       "<Figure size 640x480 with 1 Axes>"
      ],
      "image/png": "[encoded data removed]"
     },
     "metadata": {},
     "output_type": "display_data"
    },
    {
     "name": "stdout",
     "output_type": "stream",
     "text": [
      "Anzahl der Zeilen (Patienten): 918\n",
      "Anzahl der Spalten (Features): 12\n"
     ]
    }
   ],
   "execution_count": 772
  },
  {
   "metadata": {
    "ExecuteTime": {
     "end_time": "2025-07-07T21:24:51.891761Z",
     "start_time": "2025-07-07T21:24:51.885344Z"
    }
   },
   "cell_type": "code",
   "source": [
    "# Daten Vorverarbeitung\n",
    "# Duplikate checken\n",
    "# Alle duplizierten Zeilen (inkl. Erstvorkommen)\n",
    "duplikate_df = df[df.duplicated(keep=False)]\n",
    "\n",
    "# Anzahl und Prozent Duplikate\n",
    "anzahl_duplikate = len(duplikate_df)\n",
    "gesamt = len(df)\n",
    "prozent_duplikate = (anzahl_duplikate / gesamt) * 100\n",
    "\n",
    "# Verteilung HeartDisease in den Duplikaten\n",
    "verteilung_duplikate = duplikate_df['HeartDisease'].value_counts(normalize=True) * 100\n",
    "\n",
    "# Verteilung HeartDisease im gesamten DataFrame\n",
    "verteilung_gesamt = df['HeartDisease'].value_counts(normalize=True) * 100\n",
    "\n",
    "# Ausgabe\n",
    "print(\"Gesamtzeilen:\", gesamt)\n",
    "print(\"Anzahl mehrfach vorkommender Zeilen:\", anzahl_duplikate)\n",
    "print(f\"Prozent mehrfach vorkommend: {prozent_duplikate:.2f}%\\n\")\n",
    "\n",
    "print(\"Verteilung von Heartdisease innerhalb der Duplikate:\")\n",
    "if not verteilung_duplikate.empty:\n",
    "    for wert, proz in verteilung_duplikate.items():\n",
    "        print(f\"  {wert}: {proz:.2f}%\")\n",
    "else:\n",
    "    print(\"    - - -\")\n",
    "\n",
    "print(\"\\nGesamtverteilung HeartDisease:\")\n",
    "for wert, proz in verteilung_gesamt.items():\n",
    "    print(f\"  {wert}: {proz:.2f}%\")"
   ],
   "id": "5a1ecafd868cee7a",
   "outputs": [
    {
     "name": "stdout",
     "output_type": "stream",
     "text": [
      "Gesamtzeilen: 918\n",
      "Anzahl mehrfach vorkommender Zeilen: 0\n",
      "Prozent mehrfach vorkommend: 0.00%\n",
      "\n",
      "Verteilung von Heartdisease innerhalb der Duplikate:\n",
      "    - - -\n",
      "\n",
      "Gesamtverteilung HeartDisease:\n",
      "  1: 55.34%\n",
      "  0: 44.66%\n"
     ]
    }
   ],
   "execution_count": 773
  },
  {
   "metadata": {
    "ExecuteTime": {
     "end_time": "2025-07-07T21:24:51.899637Z",
     "start_time": "2025-07-07T21:24:51.895748Z"
    }
   },
   "cell_type": "code",
   "source": [
    "# Duplikate entfernen\n",
    "df = df.drop_duplicates()\n"
   ],
   "id": "85118c2b50d7c908",
   "outputs": [],
   "execution_count": 774
  },
  {
   "metadata": {
    "ExecuteTime": {
     "end_time": "2025-07-07T21:24:51.929426Z",
     "start_time": "2025-07-07T21:24:51.926435Z"
    }
   },
   "cell_type": "code",
   "source": [
    "# Fehlende Werte prüfen\n",
    "print(df.isnull().sum())"
   ],
   "id": "a13d54ae1ed950f9",
   "outputs": [
    {
     "name": "stdout",
     "output_type": "stream",
     "text": [
      "Age               0\n",
      "Sex               0\n",
      "ChestPainType     0\n",
      "RestingBP         0\n",
      "Cholesterol       0\n",
      "FastingBS         0\n",
      "RestingECG        0\n",
      "MaxHR             0\n",
      "ExerciseAngina    0\n",
      "Oldpeak           0\n",
      "ST_Slope          0\n",
      "HeartDisease      0\n",
      "dtype: int64\n"
     ]
    }
   ],
   "execution_count": 775
  },
  {
   "metadata": {
    "ExecuteTime": {
     "end_time": "2025-07-07T21:24:51.954141Z",
     "start_time": "2025-07-07T21:24:51.947468Z"
    }
   },
   "cell_type": "code",
   "source": [
    "# Typprüfung\n",
    "# also ob wirklich die im Datensatz angegebenen Datentypen und beizeichnungen stimmen\n",
    "def check_values(df, column_type, valid_values):\n",
    "    if column_type not in df.columns:\n",
    "        print(f\"Spalte '{column_type}' nicht im Datensatz gefunden.\")\n",
    "        return\n",
    "\n",
    "    values = df[column_type].dropna().unique()\n",
    "    invalid = set(values).difference(set(valid_values))\n",
    "    if invalid:\n",
    "         print(f\" Ungültige Werte in Spalte '{column_type}': {(invalid)} \")\n",
    "    else:\n",
    "        print(f\"Alle Werte in Spalte '{column_type}' sind gültig \")\n",
    "\n",
    "valid_values_dict = {\n",
    "    \"Sex\": {'M', 'F'},\n",
    "    \"ChestPainType\": {'TA', 'ATA', 'NAP', 'ASY'},\n",
    "    \"RestingECG\": {'Normal', 'ST', 'LVH'},\n",
    "    \"ExerciseAngina\": {'Y', 'N'},\n",
    "    \"ST_Slope\": {'Up', 'Flat', 'Down'}\n",
    "}\n",
    "def check_if_numeric (df, column_type, valid_values):\n",
    "    if column_type not in df.columns:\n",
    "        print(f\"Spalte {column_type}' nicht im Datensatz gefunden.\")\n",
    "        return\n",
    "    else:\n",
    "        non_numeric = df[column_type].dropna().apply(lambda x: not isinstance(x, (int, float)))\n",
    "        if non_numeric.any():\n",
    "            count_invalid = non_numeric.sum()\n",
    "            print(f\"{count_invalid} nicht numerische Werte in Spalte '{column_type}'\")\n",
    "            print(f\"Beispiele: {df[column_type][non_numeric].unique()[:5]}\")\n",
    "        else:\n",
    "            print(f\"Alle Werte in Spalte '{column_type}' sind numerisch.\")\n",
    "\n",
    "numeric_columns = [\n",
    "    'Age',\n",
    "    'RestingBP',\n",
    "    'Cholesterol',\n",
    "    'FastingBS',\n",
    "    'MaxHR',\n",
    "    'Oldpeak',\n",
    "    'HeartDisease'\n",
    "]\n",
    "# Anwendung:\n",
    "for column, valid_set in valid_values_dict.items():\n",
    "    check_values(df, column, valid_set)\n",
    "\n",
    "for col in numeric_columns:\n",
    "    check_if_numeric(df, col, numeric_columns)"
   ],
   "id": "2a637ce863cab257",
   "outputs": [
    {
     "name": "stdout",
     "output_type": "stream",
     "text": [
      "Alle Werte in Spalte 'Sex' sind gültig \n",
      "Alle Werte in Spalte 'ChestPainType' sind gültig \n",
      "Alle Werte in Spalte 'RestingECG' sind gültig \n",
      "Alle Werte in Spalte 'ExerciseAngina' sind gültig \n",
      "Alle Werte in Spalte 'ST_Slope' sind gültig \n",
      "Alle Werte in Spalte 'Age' sind numerisch.\n",
      "Alle Werte in Spalte 'RestingBP' sind numerisch.\n",
      "Alle Werte in Spalte 'Cholesterol' sind numerisch.\n",
      "Alle Werte in Spalte 'FastingBS' sind numerisch.\n",
      "Alle Werte in Spalte 'MaxHR' sind numerisch.\n",
      "Alle Werte in Spalte 'Oldpeak' sind numerisch.\n",
      "Alle Werte in Spalte 'HeartDisease' sind numerisch.\n"
     ]
    }
   ],
   "execution_count": 776
  },
  {
   "metadata": {
    "ExecuteTime": {
     "end_time": "2025-07-07T21:24:51.986495Z",
     "start_time": "2025-07-07T21:24:51.977001Z"
    }
   },
   "cell_type": "code",
   "source": [
    "# Unrealistische Werte\n",
    "limits = {\n",
    "    'Age': (0, 120),\n",
    "    'RestingBP': (40, 150),\n",
    "    'Cholesterol': (1, 800),\n",
    "    'MaxHR': (60, 202),\n",
    "    'Oldpeak': (0, 5)\n",
    "}\n",
    "\n",
    "print(f\"Anzahl an Zeilen (vorher): {len(df)}\")\n",
    "\n",
    "def show_outliers(df, limits_dict):\n",
    "    for col, (min_val, max_val) in limits_dict.items():\n",
    "        invalid = df[(df[col] < min_val) | (df[col] > max_val)][col]\n",
    "        print(f\"{col}: {len(invalid)} Werte außerhalb ({min_val}–{max_val})\")\n",
    "        if not invalid.empty:\n",
    "            print(f\"    Beispiele: {invalid.unique()[:5]}\")\n",
    "\n",
    "\n",
    "def remove_outliers(df, limits_dict):\n",
    "    condition = pd.Series([True] * len(df))\n",
    "    for col, (min_val, max_val) in limits_dict.items():\n",
    "        condition &= df[col].between(min_val, max_val)\n",
    "\n",
    "    return df[condition]\n",
    "\n",
    "def clip_outliers(df, limits_dict):\n",
    "    df_clipped = df.copy()\n",
    "    for col, (min_val, max_val) in limits_dict.items():\n",
    "        before = df_clipped[col]\n",
    "        below = before < min_val\n",
    "        above = before > max_val\n",
    "\n",
    "        df_clipped[col] = before.clip(lower=min_val, upper=max_val)\n",
    "    print(\"\\nClipping angewenden:\")\n",
    "    df = df_clipped\n",
    "    show_outliers(df, limits)\n",
    "    return df_clipped\n",
    "\n",
    "show_outliers(df, limits)\n",
    "clip_outliers(df, limits)\n",
    "print(f\"\\nNeue Anzahl an Zeilen (nach Filter): {len(df)}\")"
   ],
   "id": "a6b9f8c490b805be",
   "outputs": [
    {
     "name": "stdout",
     "output_type": "stream",
     "text": [
      "Anzahl an Zeilen (vorher): 918\n",
      "Age: 0 Werte außerhalb (0–120)\n",
      "RestingBP: 118 Werte außerhalb (40–150)\n",
      "    Beispiele: [160 170 190 180 155]\n",
      "Cholesterol: 172 Werte außerhalb (1–800)\n",
      "    Beispiele: [0]\n",
      "MaxHR: 0 Werte außerhalb (60–202)\n",
      "Oldpeak: 15 Werte außerhalb (0–5)\n",
      "    Beispiele: [-0.9 -2.6 -1.5 -0.1 -1. ]\n",
      "\n",
      "Clipping angewenden:\n",
      "Age: 0 Werte außerhalb (0–120)\n",
      "RestingBP: 0 Werte außerhalb (40–150)\n",
      "Cholesterol: 0 Werte außerhalb (1–800)\n",
      "MaxHR: 0 Werte außerhalb (60–202)\n",
      "Oldpeak: 0 Werte außerhalb (0–5)\n",
      "\n",
      "Neue Anzahl an Zeilen (nach Filter): 918\n"
     ]
    }
   ],
   "execution_count": 777
  },
  {
   "metadata": {
    "ExecuteTime": {
     "end_time": "2025-07-07T21:24:52.065577Z",
     "start_time": "2025-07-07T21:24:52.008063Z"
    }
   },
   "cell_type": "code",
   "source": [
    "#Bias/Korrelation\n",
    "\n",
    "print(\"=== Altersverteilung ===\")\n",
    "print(df['Age'].describe())\n",
    "\n",
    "plt.figure(figsize=(8,5))\n",
    "plt.hist(df['Age'], bins=20, color='skyblue', edgecolor='black')\n",
    "plt.title('Altersverteilung der Patienten')\n",
    "plt.xlabel('Alter [Jahre]')\n",
    "plt.ylabel('Anzahl')\n",
    "plt.show()"
   ],
   "id": "1bb89855385de4a9",
   "outputs": [
    {
     "name": "stdout",
     "output_type": "stream",
     "text": [
      "=== Altersverteilung ===\n",
      "count    918.000000\n",
      "mean      53.510893\n",
      "std        9.432617\n",
      "min       28.000000\n",
      "25%       47.000000\n",
      "50%       54.000000\n",
      "75%       60.000000\n",
      "max       77.000000\n",
      "Name: Age, dtype: float64\n"
     ]
    },
    {
     "data": {
      "text/plain": [
       "<Figure size 800x500 with 1 Axes>"
      ],
      "image/png": "[encoded data removed]"
     },
     "metadata": {},
     "output_type": "display_data"
    }
   ],
   "execution_count": 778
  },
  {
   "metadata": {
    "ExecuteTime": {
     "end_time": "2025-07-07T21:24:52.133924Z",
     "start_time": "2025-07-07T21:24:52.086036Z"
    }
   },
   "cell_type": "code",
   "source": [
    "print(\"=== Geschlechterverteilung ===\")\n",
    "gender_counts = df['Sex'].value_counts()\n",
    "gender_percent = df['Sex'].value_counts(normalize=True) * 100\n",
    "\n",
    "for sex in gender_counts.index:\n",
    "    print(f\"{sex}: {gender_counts[sex]} Patienten ({gender_percent[sex]:.2f}%)\")\n",
    "\n",
    "plt.figure(figsize=(6,4))\n",
    "gender_counts.plot(kind='bar', color=['lightcoral', 'lightblue'])\n",
    "plt.title('Verteilung der Geschlechter')\n",
    "plt.xlabel('Geschlecht')\n",
    "plt.ylabel('Anzahl')\n",
    "plt.xticks(rotation=0)\n",
    "plt.show()\n"
   ],
   "id": "6de04870f94a1cb3",
   "outputs": [
    {
     "name": "stdout",
     "output_type": "stream",
     "text": [
      "=== Geschlechterverteilung ===\n",
      "M: 725 Patienten (78.98%)\n",
      "F: 193 Patienten (21.02%)\n"
     ]
    },
    {
     "data": {
      "text/plain": [
       "<Figure size 600x400 with 1 Axes>"
      ],
      "image/png": "[encoded data removed]"
     },
     "metadata": {},
     "output_type": "display_data"
    }
   ],
   "execution_count": 779
  },
  {
   "metadata": {
    "ExecuteTime": {
     "end_time": "2025-07-07T21:24:52.206179Z",
     "start_time": "2025-07-07T21:24:52.151500Z"
    }
   },
   "cell_type": "code",
   "source": [
    "# Bias: Zielverteilung nach Geschlecht\n",
    "sns.countplot(data=df, x='Sex', hue='HeartDisease')\n",
    "plt.title(\"Verteilung von Herzkrankheit nach Geschlecht\")\n",
    "plt.show()\n",
    "\n",
    "# Diagnosewahrscheinlichkeit pro Geschlecht\n",
    "print(df.groupby(\"Sex\")[\"HeartDisease\"].mean())"
   ],
   "id": "45afab56bddacf59",
   "outputs": [
    {
     "data": {
      "text/plain": [
       "<Figure size 640x480 with 1 Axes>"
      ],
      "image/png": "[encoded data removed]"
     },
     "metadata": {},
     "output_type": "display_data"
    },
    {
     "name": "stdout",
     "output_type": "stream",
     "text": [
      "Sex\n",
      "F    0.259067\n",
      "M    0.631724\n",
      "Name: HeartDisease, dtype: float64\n"
     ]
    }
   ],
   "execution_count": 780
  },
  {
   "metadata": {
    "ExecuteTime": {
     "end_time": "2025-07-07T21:24:52.397018Z",
     "start_time": "2025-07-07T21:24:52.224823Z"
    }
   },
   "cell_type": "code",
   "source": [
    "#Bias: Altersverteilung mit/ohne Herzkrankheit\n",
    "sns.histplot(data=df, x='Age', hue='HeartDisease', kde=True, multiple='stack')\n",
    "plt.title(\"Altersverteilung mit Herzkrankheit\")\n",
    "plt.show()\n",
    "\n",
    "# Altersgruppenbildung für Analyse\n",
    "df['Age_cat'] = pd.cut(df['Age'], bins=[20, 30, 40, 50, 60, 80],\n",
    "                        labels=[\"20–30\", \"31–40\", \"41–50\", \"51–60\", \"61–80\"])\n",
    "print(df.groupby(\"Age_cat\", observed=True)[\"HeartDisease\"].mean())\n"
   ],
   "id": "ab6e4d7fc8a5f339",
   "outputs": [
    {
     "data": {
      "text/plain": [
       "<Figure size 640x480 with 1 Axes>"
      ],
      "image/png": "[encoded data removed]"
     },
     "metadata": {},
     "output_type": "display_data"
    },
    {
     "name": "stdout",
     "output_type": "stream",
     "text": [
      "Age_cat\n",
      "20–30    0.000000\n",
      "31–40    0.363636\n",
      "41–50    0.417040\n",
      "51–60    0.582677\n",
      "61–80    0.728507\n",
      "Name: HeartDisease, dtype: float64\n"
     ]
    }
   ],
   "execution_count": 781
  },
  {
   "metadata": {
    "ExecuteTime": {
     "end_time": "2025-07-07T21:24:52.439249Z",
     "start_time": "2025-07-07T21:24:52.435096Z"
    }
   },
   "cell_type": "code",
   "source": [
    "# Anteil Herzkrankheiten bei Fasting Blood Sugar hoch/niedrig\n",
    "print(df.groupby(\"FastingBS\")[\"HeartDisease\"].mean())\n"
   ],
   "id": "64bbd2904ab7f7f7",
   "outputs": [
    {
     "name": "stdout",
     "output_type": "stream",
     "text": [
      "FastingBS\n",
      "0    0.480114\n",
      "1    0.794393\n",
      "Name: HeartDisease, dtype: float64\n"
     ]
    }
   ],
   "execution_count": 782
  },
  {
   "metadata": {
    "ExecuteTime": {
     "end_time": "2025-07-07T21:24:52.522933Z",
     "start_time": "2025-07-07T21:24:52.447899Z"
    }
   },
   "cell_type": "code",
   "source": [
    "# Anteil Herzkrankheiten pro Nüchternblutzucker\n",
    "heart_disease_rate = df.groupby(\"FastingBS\")[\"HeartDisease\"].mean().reset_index()\n",
    "\n",
    "# Plot mit Seaborn\n",
    "sns.barplot(data=heart_disease_rate, x=\"FastingBS\", y=\"HeartDisease\")\n",
    "\n",
    "plt.xticks([0, 1], ['Niedrig (0)', 'Hoch (1)'])\n",
    "plt.ylabel(\"Anteil Herzkrankheit\")\n",
    "plt.xlabel(\"Nüchternblutzucker (0=normal, 1=hoch)\")\n",
    "plt.title(\"Anteil Herzkrankheit bei unterschiedlichem Nüchternblutzucker\")\n",
    "plt.ylim(0, 1)  # y-Achse von 0 bis 1\n",
    "plt.show()\n",
    "\n",
    "print(df.groupby(\"FastingBS\")[\"HeartDisease\"].mean())"
   ],
   "id": "686d519b53774fa5",
   "outputs": [
    {
     "data": {
      "text/plain": [
       "<Figure size 640x480 with 1 Axes>"
      ],
      "image/png": "[encoded data removed]"
     },
     "metadata": {},
     "output_type": "display_data"
    },
    {
     "name": "stdout",
     "output_type": "stream",
     "text": [
      "FastingBS\n",
      "0    0.480114\n",
      "1    0.794393\n",
      "Name: HeartDisease, dtype: float64\n"
     ]
    }
   ],
   "execution_count": 783
  },
  {
   "metadata": {
    "ExecuteTime": {
     "end_time": "2025-07-07T21:24:52.650891Z",
     "start_time": "2025-07-07T21:24:52.539123Z"
    }
   },
   "cell_type": "code",
   "source": [
    "# Kreuztabelle: Anzahl Herzkrankheiten pro ChestPainType\n",
    "#pd.crosstab(df['ChestPainType'], df['HeartDisease'], normalize='index') * 100\n",
    "\n",
    "#  Anteil Herzkrankheit je ChestPainType\n",
    "sns.barplot(\n",
    "    data=df,\n",
    "    x='ChestPainType',\n",
    "    y='HeartDisease',\n",
    "    estimator=lambda x: sum(x) / len(x)  # Mittelwert = Anteil Herzkrankheit\n",
    ")\n",
    "plt.title(\"Anteil Herzkrankheit pro ChestPainType\")\n",
    "plt.ylabel(\"Anteil (0–1)\")\n",
    "plt.show()\n",
    "\n",
    "# Prozentsatz Herzkrankheit pro ChestPainType\n",
    "heart_disease_by_cp = df.groupby(\"ChestPainType\")[\"HeartDisease\"].mean().sort_values(ascending=False) * 100\n",
    "\n",
    "print(\"Anteil an Herzkrankheiten (%) pro ChestPainType:\\n\")\n",
    "print(heart_disease_by_cp.round(2))"
   ],
   "id": "295dc213d18ad8a5",
   "outputs": [
    {
     "data": {
      "text/plain": [
       "<Figure size 640x480 with 1 Axes>"
      ],
      "image/png": "[encoded data removed]"
     },
     "metadata": {},
     "output_type": "display_data"
    },
    {
     "name": "stdout",
     "output_type": "stream",
     "text": [
      "Anteil an Herzkrankheiten (%) pro ChestPainType:\n",
      "\n",
      "ChestPainType\n",
      "ASY    79.03\n",
      "TA     43.48\n",
      "NAP    35.47\n",
      "ATA    13.87\n",
      "Name: HeartDisease, dtype: float64\n"
     ]
    }
   ],
   "execution_count": 784
  },
  {
   "metadata": {
    "ExecuteTime": {
     "end_time": "2025-07-07T21:24:52.754685Z",
     "start_time": "2025-07-07T21:24:52.676350Z"
    }
   },
   "cell_type": "code",
   "source": [
    "from sklearn.model_selection import train_test_split\n",
    "from sklearn.ensemble import RandomForestClassifier\n",
    "from sklearn.metrics import classification_report\n",
    "\n",
    "# Beispielhafte Feature-Liste (evtl. anpassen)\n",
    "features = ['Age', 'Sex', 'ChestPainType', 'RestingBP', 'Cholesterol',\n",
    "            'FastingBS', 'RestingECG', 'MaxHR', 'ExerciseAngina', 'Oldpeak', 'ST_Slope']\n",
    "\n",
    "# Kategorische Features umwandeln\n",
    "df_encoded = pd.get_dummies(df[features], drop_first=True)\n",
    "X = df_encoded\n",
    "y = df['HeartDisease']\n",
    "\n",
    "X_train, X_test, y_train, y_test = train_test_split(X, y, stratify=y, random_state=42)\n",
    "\n",
    "model = RandomForestClassifier(random_state=42)\n",
    "model.fit(X_train, y_train)\n",
    "y_pred = model.predict(X_test)\n",
    "\n",
    "print(\"Gesamtergebnis:\")\n",
    "print(classification_report(y_test, y_pred))\n"
   ],
   "id": "3d27775d4c137393",
   "outputs": [
    {
     "name": "stdout",
     "output_type": "stream",
     "text": [
      "Gesamtergebnis:\n",
      "              precision    recall  f1-score   support\n",
      "\n",
      "           0       0.88      0.87      0.88       103\n",
      "           1       0.90      0.91      0.90       127\n",
      "\n",
      "    accuracy                           0.89       230\n",
      "   macro avg       0.89      0.89      0.89       230\n",
      "weighted avg       0.89      0.89      0.89       230\n",
      "\n"
     ]
    }
   ],
   "execution_count": 785
  },
  {
   "metadata": {
    "ExecuteTime": {
     "end_time": "2025-07-07T21:24:52.786398Z",
     "start_time": "2025-07-07T21:24:52.770962Z"
    }
   },
   "cell_type": "code",
   "source": [
    "# Feature Engineering\n",
    "# Resting BP\n",
    "def restingBP_categorization(bp):\n",
    "    if bp < 120:\n",
    "        return 1\n",
    "    elif 120<= bp <= 129:\n",
    "        return 2\n",
    "    elif 130<= bp <= 139:\n",
    "        return 3\n",
    "    elif 140<= bp <= 179:\n",
    "        return 4\n",
    "    else: return 5\n",
    "\n",
    "df['RestingBP'] = df['RestingBP'].apply(restingBP_categorization)\n",
    "\n",
    "# Cholesterol\n",
    "def cholesterol_categorization(cholesterol):\n",
    "    if cholesterol < 200:\n",
    "        return 1\n",
    "    elif 200<= cholesterol <= 239:\n",
    "        return 2\n",
    "    else: return 3\n",
    "\n",
    "df['Cholesterol'] = df['Cholesterol'].apply(cholesterol_categorization)\n",
    "\n",
    "# Max HR\n",
    "def maxhr_age_category(row):\n",
    "    maxhr = row['MaxHR']\n",
    "    age = row['Age']\n",
    "    expected_maxhr = 220 - age\n",
    "\n",
    "    if maxhr < 0.7 * expected_maxhr:\n",
    "        return 1\n",
    "    elif 0.7 * expected_maxhr <= maxhr <= expected_maxhr:\n",
    "        return 2\n",
    "    elif expected_maxhr < maxhr <= 1.1 * expected_maxhr:\n",
    "        return 3\n",
    "    else:\n",
    "        return 4\n",
    "\n",
    "df['MaxHR'] = df.apply(maxhr_age_category, axis=1)\n",
    "\n",
    "print(df['Age_cat'].unique())\n",
    "def age_category(age_group):\n",
    "    if age_group == '20–30':\n",
    "        return 1\n",
    "    elif age_group == '31–40':\n",
    "        return 2\n",
    "    elif age_group == '41–50':\n",
    "        return 3\n",
    "    elif age_group == '51–60':\n",
    "        return 4\n",
    "    elif age_group == '61–80':\n",
    "        return 5\n",
    "    else:\n",
    "        return 0\n",
    "\n",
    "df['Age_cat'] = df['Age_cat'].apply(age_category)\n",
    "\n",
    "\n",
    "#ChestpainType\n",
    "chest_pain_map = {\n",
    "    \"TA\": 0,   # Typical Angina\n",
    "    \"ATA\": 1,  # Atypical Angina\n",
    "    \"NAP\": 2,  # Non-Anginal Pain\n",
    "    \"ASY\": 3   # Asymptomatic\n",
    "}\n",
    "\n",
    "df[\"ChestPainType\"] = df[\"ChestPainType\"].map(chest_pain_map)\n",
    "\n",
    "#Resting ECG\n",
    "resting_ecg_map = {\n",
    "    \"Normal\": 0,\n",
    "    \"ST\": 1,\n",
    "    \"LVH\": 2\n",
    "}\n",
    "\n",
    "df[\"RestingECG\"] = df[\"RestingECG\"].map(resting_ecg_map)\n",
    "\n",
    "# ST_Slope\n",
    "st_slope_map = {\n",
    "    \"Up\": 0,\n",
    "    \"Flat\": 1,\n",
    "    \"Down\": 2\n",
    "}\n",
    "\n",
    "df[\"ST_Slope\"] = df[\"ST_Slope\"].map(st_slope_map)\n",
    "\n",
    "# Mapping für Sex (Männlich = 1, Weiblich = 0)\n",
    "df[\"Sex\"] = df[\"Sex\"].map({'M': 1, 'F': 0})\n",
    "\n",
    "# Mapping für ExerciseAngina (Ja = 1, Nein = 0)\n",
    "df[\"ExerciseAngina\"] = df[\"ExerciseAngina\"].map({'Y': 1, 'N': 0})\n",
    "\n",
    "styled_df = df.head(10).style.set_table_styles([\n",
    "    {'selector': 'thead th', 'props': [('background-color', '#1f77b4'), ('color', 'white'), ('font-weight', 'bold')]},\n",
    "    {'selector': 'tbody td', 'props': [('border', '1px solid #ddd'), ('text-align', 'center')]}\n",
    "]).set_properties(**{'text-align': 'center'})\n",
    "\n",
    "styled_df"
   ],
   "id": "6b0d81422993559c",
   "outputs": [
    {
     "name": "stdout",
     "output_type": "stream",
     "text": [
      "['31–40', '41–50', '51–60', '61–80', '20–30']\n",
      "Categories (5, object): ['20–30' < '31–40' < '41–50' < '51–60' < '61–80']\n"
     ]
    },
    {
     "data": {
      "text/plain": [
       "<pandas.io.formats.style.Styler at 0x16643f530>"
      ],
      "text/html": [
       "<style type=\"text/css\">\n",
       "#T_99339 thead th {\n",
       "  background-color: #1f77b4;\n",
       "  color: white;\n",
       "  font-weight: bold;\n",
       "}\n",
       "#T_99339 tbody td {\n",
       "  border: 1px solid #ddd;\n",
       "  text-align: center;\n",
       "}\n",
       "#T_99339_row0_col0, #T_99339_row0_col1, #T_99339_row0_col2, #T_99339_row0_col3, #T_99339_row0_col4, #T_99339_row0_col5, #T_99339_row0_col6, #T_99339_row0_col7, #T_99339_row0_col8, #T_99339_row0_col9, #T_99339_row0_col10, #T_99339_row0_col11, #T_99339_row0_col12, #T_99339_row1_col0, #T_99339_row1_col1, #T_99339_row1_col2, #T_99339_row1_col3, #T_99339_row1_col4, #T_99339_row1_col5, #T_99339_row1_col6, #T_99339_row1_col7, #T_99339_row1_col8, #T_99339_row1_col9, #T_99339_row1_col10, #T_99339_row1_col11, #T_99339_row1_col12, #T_99339_row2_col0, #T_99339_row2_col1, #T_99339_row2_col2, #T_99339_row2_col3, #T_99339_row2_col4, #T_99339_row2_col5, #T_99339_row2_col6, #T_99339_row2_col7, #T_99339_row2_col8, #T_99339_row2_col9, #T_99339_row2_col10, #T_99339_row2_col11, #T_99339_row2_col12, #T_99339_row3_col0, #T_99339_row3_col1, #T_99339_row3_col2, #T_99339_row3_col3, #T_99339_row3_col4, #T_99339_row3_col5, #T_99339_row3_col6, #T_99339_row3_col7, #T_99339_row3_col8, #T_99339_row3_col9, #T_99339_row3_col10, #T_99339_row3_col11, #T_99339_row3_col12, #T_99339_row4_col0, #T_99339_row4_col1, #T_99339_row4_col2, #T_99339_row4_col3, #T_99339_row4_col4, #T_99339_row4_col5, #T_99339_row4_col6, #T_99339_row4_col7, #T_99339_row4_col8, #T_99339_row4_col9, #T_99339_row4_col10, #T_99339_row4_col11, #T_99339_row4_col12, #T_99339_row5_col0, #T_99339_row5_col1, #T_99339_row5_col2, #T_99339_row5_col3, #T_99339_row5_col4, #T_99339_row5_col5, #T_99339_row5_col6, #T_99339_row5_col7, #T_99339_row5_col8, #T_99339_row5_col9, #T_99339_row5_col10, #T_99339_row5_col11, #T_99339_row5_col12, #T_99339_row6_col0, #T_99339_row6_col1, #T_99339_row6_col2, #T_99339_row6_col3, #T_99339_row6_col4, #T_99339_row6_col5, #T_99339_row6_col6, #T_99339_row6_col7, #T_99339_row6_col8, #T_99339_row6_col9, #T_99339_row6_col10, #T_99339_row6_col11, #T_99339_row6_col12, #T_99339_row7_col0, #T_99339_row7_col1, #T_99339_row7_col2, #T_99339_row7_col3, #T_99339_row7_col4, #T_99339_row7_col5, #T_99339_row7_col6, #T_99339_row7_col7, #T_99339_row7_col8, #T_99339_row7_col9, #T_99339_row7_col10, #T_99339_row7_col11, #T_99339_row7_col12, #T_99339_row8_col0, #T_99339_row8_col1, #T_99339_row8_col2, #T_99339_row8_col3, #T_99339_row8_col4, #T_99339_row8_col5, #T_99339_row8_col6, #T_99339_row8_col7, #T_99339_row8_col8, #T_99339_row8_col9, #T_99339_row8_col10, #T_99339_row8_col11, #T_99339_row8_col12, #T_99339_row9_col0, #T_99339_row9_col1, #T_99339_row9_col2, #T_99339_row9_col3, #T_99339_row9_col4, #T_99339_row9_col5, #T_99339_row9_col6, #T_99339_row9_col7, #T_99339_row9_col8, #T_99339_row9_col9, #T_99339_row9_col10, #T_99339_row9_col11, #T_99339_row9_col12 {\n",
       "  text-align: center;\n",
       "}\n",
       "</style>\n",
       "<table id=\"T_99339\">\n",
       "  <thead>\n",
       "    <tr>\n",
       "      <th class=\"blank level0\" >&nbsp;</th>\n",
       "      <th id=\"T_99339_level0_col0\" class=\"col_heading level0 col0\" >Age</th>\n",
       "      <th id=\"T_99339_level0_col1\" class=\"col_heading level0 col1\" >Sex</th>\n",
       "      <th id=\"T_99339_level0_col2\" class=\"col_heading level0 col2\" >ChestPainType</th>\n",
       "      <th id=\"T_99339_level0_col3\" class=\"col_heading level0 col3\" >RestingBP</th>\n",
       "      <th id=\"T_99339_level0_col4\" class=\"col_heading level0 col4\" >Cholesterol</th>\n",
       "      <th id=\"T_99339_level0_col5\" class=\"col_heading level0 col5\" >FastingBS</th>\n",
       "      <th id=\"T_99339_level0_col6\" class=\"col_heading level0 col6\" >RestingECG</th>\n",
       "      <th id=\"T_99339_level0_col7\" class=\"col_heading level0 col7\" >MaxHR</th>\n",
       "      <th id=\"T_99339_level0_col8\" class=\"col_heading level0 col8\" >ExerciseAngina</th>\n",
       "      <th id=\"T_99339_level0_col9\" class=\"col_heading level0 col9\" >Oldpeak</th>\n",
       "      <th id=\"T_99339_level0_col10\" class=\"col_heading level0 col10\" >ST_Slope</th>\n",
       "      <th id=\"T_99339_level0_col11\" class=\"col_heading level0 col11\" >HeartDisease</th>\n",
       "      <th id=\"T_99339_level0_col12\" class=\"col_heading level0 col12\" >Age_cat</th>\n",
       "    </tr>\n",
       "  </thead>\n",
       "  <tbody>\n",
       "    <tr>\n",
       "      <th id=\"T_99339_level0_row0\" class=\"row_heading level0 row0\" >0</th>\n",
       "      <td id=\"T_99339_row0_col0\" class=\"data row0 col0\" >40</td>\n",
       "      <td id=\"T_99339_row0_col1\" class=\"data row0 col1\" >1</td>\n",
       "      <td id=\"T_99339_row0_col2\" class=\"data row0 col2\" >1</td>\n",
       "      <td id=\"T_99339_row0_col3\" class=\"data row0 col3\" >4</td>\n",
       "      <td id=\"T_99339_row0_col4\" class=\"data row0 col4\" >3</td>\n",
       "      <td id=\"T_99339_row0_col5\" class=\"data row0 col5\" >0</td>\n",
       "      <td id=\"T_99339_row0_col6\" class=\"data row0 col6\" >0</td>\n",
       "      <td id=\"T_99339_row0_col7\" class=\"data row0 col7\" >2</td>\n",
       "      <td id=\"T_99339_row0_col8\" class=\"data row0 col8\" >0</td>\n",
       "      <td id=\"T_99339_row0_col9\" class=\"data row0 col9\" >0.000000</td>\n",
       "      <td id=\"T_99339_row0_col10\" class=\"data row0 col10\" >0</td>\n",
       "      <td id=\"T_99339_row0_col11\" class=\"data row0 col11\" >0</td>\n",
       "      <td id=\"T_99339_row0_col12\" class=\"data row0 col12\" >2</td>\n",
       "    </tr>\n",
       "    <tr>\n",
       "      <th id=\"T_99339_level0_row1\" class=\"row_heading level0 row1\" >1</th>\n",
       "      <td id=\"T_99339_row1_col0\" class=\"data row1 col0\" >49</td>\n",
       "      <td id=\"T_99339_row1_col1\" class=\"data row1 col1\" >0</td>\n",
       "      <td id=\"T_99339_row1_col2\" class=\"data row1 col2\" >2</td>\n",
       "      <td id=\"T_99339_row1_col3\" class=\"data row1 col3\" >4</td>\n",
       "      <td id=\"T_99339_row1_col4\" class=\"data row1 col4\" >1</td>\n",
       "      <td id=\"T_99339_row1_col5\" class=\"data row1 col5\" >0</td>\n",
       "      <td id=\"T_99339_row1_col6\" class=\"data row1 col6\" >0</td>\n",
       "      <td id=\"T_99339_row1_col7\" class=\"data row1 col7\" >2</td>\n",
       "      <td id=\"T_99339_row1_col8\" class=\"data row1 col8\" >0</td>\n",
       "      <td id=\"T_99339_row1_col9\" class=\"data row1 col9\" >1.000000</td>\n",
       "      <td id=\"T_99339_row1_col10\" class=\"data row1 col10\" >1</td>\n",
       "      <td id=\"T_99339_row1_col11\" class=\"data row1 col11\" >1</td>\n",
       "      <td id=\"T_99339_row1_col12\" class=\"data row1 col12\" >3</td>\n",
       "    </tr>\n",
       "    <tr>\n",
       "      <th id=\"T_99339_level0_row2\" class=\"row_heading level0 row2\" >2</th>\n",
       "      <td id=\"T_99339_row2_col0\" class=\"data row2 col0\" >37</td>\n",
       "      <td id=\"T_99339_row2_col1\" class=\"data row2 col1\" >1</td>\n",
       "      <td id=\"T_99339_row2_col2\" class=\"data row2 col2\" >1</td>\n",
       "      <td id=\"T_99339_row2_col3\" class=\"data row2 col3\" >3</td>\n",
       "      <td id=\"T_99339_row2_col4\" class=\"data row2 col4\" >3</td>\n",
       "      <td id=\"T_99339_row2_col5\" class=\"data row2 col5\" >0</td>\n",
       "      <td id=\"T_99339_row2_col6\" class=\"data row2 col6\" >1</td>\n",
       "      <td id=\"T_99339_row2_col7\" class=\"data row2 col7\" >1</td>\n",
       "      <td id=\"T_99339_row2_col8\" class=\"data row2 col8\" >0</td>\n",
       "      <td id=\"T_99339_row2_col9\" class=\"data row2 col9\" >0.000000</td>\n",
       "      <td id=\"T_99339_row2_col10\" class=\"data row2 col10\" >0</td>\n",
       "      <td id=\"T_99339_row2_col11\" class=\"data row2 col11\" >0</td>\n",
       "      <td id=\"T_99339_row2_col12\" class=\"data row2 col12\" >2</td>\n",
       "    </tr>\n",
       "    <tr>\n",
       "      <th id=\"T_99339_level0_row3\" class=\"row_heading level0 row3\" >3</th>\n",
       "      <td id=\"T_99339_row3_col0\" class=\"data row3 col0\" >48</td>\n",
       "      <td id=\"T_99339_row3_col1\" class=\"data row3 col1\" >0</td>\n",
       "      <td id=\"T_99339_row3_col2\" class=\"data row3 col2\" >3</td>\n",
       "      <td id=\"T_99339_row3_col3\" class=\"data row3 col3\" >3</td>\n",
       "      <td id=\"T_99339_row3_col4\" class=\"data row3 col4\" >2</td>\n",
       "      <td id=\"T_99339_row3_col5\" class=\"data row3 col5\" >0</td>\n",
       "      <td id=\"T_99339_row3_col6\" class=\"data row3 col6\" >0</td>\n",
       "      <td id=\"T_99339_row3_col7\" class=\"data row3 col7\" >1</td>\n",
       "      <td id=\"T_99339_row3_col8\" class=\"data row3 col8\" >1</td>\n",
       "      <td id=\"T_99339_row3_col9\" class=\"data row3 col9\" >1.500000</td>\n",
       "      <td id=\"T_99339_row3_col10\" class=\"data row3 col10\" >1</td>\n",
       "      <td id=\"T_99339_row3_col11\" class=\"data row3 col11\" >1</td>\n",
       "      <td id=\"T_99339_row3_col12\" class=\"data row3 col12\" >3</td>\n",
       "    </tr>\n",
       "    <tr>\n",
       "      <th id=\"T_99339_level0_row4\" class=\"row_heading level0 row4\" >4</th>\n",
       "      <td id=\"T_99339_row4_col0\" class=\"data row4 col0\" >54</td>\n",
       "      <td id=\"T_99339_row4_col1\" class=\"data row4 col1\" >1</td>\n",
       "      <td id=\"T_99339_row4_col2\" class=\"data row4 col2\" >2</td>\n",
       "      <td id=\"T_99339_row4_col3\" class=\"data row4 col3\" >4</td>\n",
       "      <td id=\"T_99339_row4_col4\" class=\"data row4 col4\" >1</td>\n",
       "      <td id=\"T_99339_row4_col5\" class=\"data row4 col5\" >0</td>\n",
       "      <td id=\"T_99339_row4_col6\" class=\"data row4 col6\" >0</td>\n",
       "      <td id=\"T_99339_row4_col7\" class=\"data row4 col7\" >2</td>\n",
       "      <td id=\"T_99339_row4_col8\" class=\"data row4 col8\" >0</td>\n",
       "      <td id=\"T_99339_row4_col9\" class=\"data row4 col9\" >0.000000</td>\n",
       "      <td id=\"T_99339_row4_col10\" class=\"data row4 col10\" >0</td>\n",
       "      <td id=\"T_99339_row4_col11\" class=\"data row4 col11\" >0</td>\n",
       "      <td id=\"T_99339_row4_col12\" class=\"data row4 col12\" >4</td>\n",
       "    </tr>\n",
       "    <tr>\n",
       "      <th id=\"T_99339_level0_row5\" class=\"row_heading level0 row5\" >5</th>\n",
       "      <td id=\"T_99339_row5_col0\" class=\"data row5 col0\" >39</td>\n",
       "      <td id=\"T_99339_row5_col1\" class=\"data row5 col1\" >1</td>\n",
       "      <td id=\"T_99339_row5_col2\" class=\"data row5 col2\" >2</td>\n",
       "      <td id=\"T_99339_row5_col3\" class=\"data row5 col3\" >2</td>\n",
       "      <td id=\"T_99339_row5_col4\" class=\"data row5 col4\" >3</td>\n",
       "      <td id=\"T_99339_row5_col5\" class=\"data row5 col5\" >0</td>\n",
       "      <td id=\"T_99339_row5_col6\" class=\"data row5 col6\" >0</td>\n",
       "      <td id=\"T_99339_row5_col7\" class=\"data row5 col7\" >2</td>\n",
       "      <td id=\"T_99339_row5_col8\" class=\"data row5 col8\" >0</td>\n",
       "      <td id=\"T_99339_row5_col9\" class=\"data row5 col9\" >0.000000</td>\n",
       "      <td id=\"T_99339_row5_col10\" class=\"data row5 col10\" >0</td>\n",
       "      <td id=\"T_99339_row5_col11\" class=\"data row5 col11\" >0</td>\n",
       "      <td id=\"T_99339_row5_col12\" class=\"data row5 col12\" >2</td>\n",
       "    </tr>\n",
       "    <tr>\n",
       "      <th id=\"T_99339_level0_row6\" class=\"row_heading level0 row6\" >6</th>\n",
       "      <td id=\"T_99339_row6_col0\" class=\"data row6 col0\" >45</td>\n",
       "      <td id=\"T_99339_row6_col1\" class=\"data row6 col1\" >0</td>\n",
       "      <td id=\"T_99339_row6_col2\" class=\"data row6 col2\" >1</td>\n",
       "      <td id=\"T_99339_row6_col3\" class=\"data row6 col3\" >3</td>\n",
       "      <td id=\"T_99339_row6_col4\" class=\"data row6 col4\" >2</td>\n",
       "      <td id=\"T_99339_row6_col5\" class=\"data row6 col5\" >0</td>\n",
       "      <td id=\"T_99339_row6_col6\" class=\"data row6 col6\" >0</td>\n",
       "      <td id=\"T_99339_row6_col7\" class=\"data row6 col7\" >2</td>\n",
       "      <td id=\"T_99339_row6_col8\" class=\"data row6 col8\" >0</td>\n",
       "      <td id=\"T_99339_row6_col9\" class=\"data row6 col9\" >0.000000</td>\n",
       "      <td id=\"T_99339_row6_col10\" class=\"data row6 col10\" >0</td>\n",
       "      <td id=\"T_99339_row6_col11\" class=\"data row6 col11\" >0</td>\n",
       "      <td id=\"T_99339_row6_col12\" class=\"data row6 col12\" >3</td>\n",
       "    </tr>\n",
       "    <tr>\n",
       "      <th id=\"T_99339_level0_row7\" class=\"row_heading level0 row7\" >7</th>\n",
       "      <td id=\"T_99339_row7_col0\" class=\"data row7 col0\" >54</td>\n",
       "      <td id=\"T_99339_row7_col1\" class=\"data row7 col1\" >1</td>\n",
       "      <td id=\"T_99339_row7_col2\" class=\"data row7 col2\" >1</td>\n",
       "      <td id=\"T_99339_row7_col3\" class=\"data row7 col3\" >1</td>\n",
       "      <td id=\"T_99339_row7_col4\" class=\"data row7 col4\" >2</td>\n",
       "      <td id=\"T_99339_row7_col5\" class=\"data row7 col5\" >0</td>\n",
       "      <td id=\"T_99339_row7_col6\" class=\"data row7 col6\" >0</td>\n",
       "      <td id=\"T_99339_row7_col7\" class=\"data row7 col7\" >2</td>\n",
       "      <td id=\"T_99339_row7_col8\" class=\"data row7 col8\" >0</td>\n",
       "      <td id=\"T_99339_row7_col9\" class=\"data row7 col9\" >0.000000</td>\n",
       "      <td id=\"T_99339_row7_col10\" class=\"data row7 col10\" >0</td>\n",
       "      <td id=\"T_99339_row7_col11\" class=\"data row7 col11\" >0</td>\n",
       "      <td id=\"T_99339_row7_col12\" class=\"data row7 col12\" >4</td>\n",
       "    </tr>\n",
       "    <tr>\n",
       "      <th id=\"T_99339_level0_row8\" class=\"row_heading level0 row8\" >8</th>\n",
       "      <td id=\"T_99339_row8_col0\" class=\"data row8 col0\" >37</td>\n",
       "      <td id=\"T_99339_row8_col1\" class=\"data row8 col1\" >1</td>\n",
       "      <td id=\"T_99339_row8_col2\" class=\"data row8 col2\" >3</td>\n",
       "      <td id=\"T_99339_row8_col3\" class=\"data row8 col3\" >4</td>\n",
       "      <td id=\"T_99339_row8_col4\" class=\"data row8 col4\" >2</td>\n",
       "      <td id=\"T_99339_row8_col5\" class=\"data row8 col5\" >0</td>\n",
       "      <td id=\"T_99339_row8_col6\" class=\"data row8 col6\" >0</td>\n",
       "      <td id=\"T_99339_row8_col7\" class=\"data row8 col7\" >2</td>\n",
       "      <td id=\"T_99339_row8_col8\" class=\"data row8 col8\" >1</td>\n",
       "      <td id=\"T_99339_row8_col9\" class=\"data row8 col9\" >1.500000</td>\n",
       "      <td id=\"T_99339_row8_col10\" class=\"data row8 col10\" >1</td>\n",
       "      <td id=\"T_99339_row8_col11\" class=\"data row8 col11\" >1</td>\n",
       "      <td id=\"T_99339_row8_col12\" class=\"data row8 col12\" >2</td>\n",
       "    </tr>\n",
       "    <tr>\n",
       "      <th id=\"T_99339_level0_row9\" class=\"row_heading level0 row9\" >9</th>\n",
       "      <td id=\"T_99339_row9_col0\" class=\"data row9 col0\" >48</td>\n",
       "      <td id=\"T_99339_row9_col1\" class=\"data row9 col1\" >0</td>\n",
       "      <td id=\"T_99339_row9_col2\" class=\"data row9 col2\" >1</td>\n",
       "      <td id=\"T_99339_row9_col3\" class=\"data row9 col3\" >2</td>\n",
       "      <td id=\"T_99339_row9_col4\" class=\"data row9 col4\" >3</td>\n",
       "      <td id=\"T_99339_row9_col5\" class=\"data row9 col5\" >0</td>\n",
       "      <td id=\"T_99339_row9_col6\" class=\"data row9 col6\" >0</td>\n",
       "      <td id=\"T_99339_row9_col7\" class=\"data row9 col7\" >1</td>\n",
       "      <td id=\"T_99339_row9_col8\" class=\"data row9 col8\" >0</td>\n",
       "      <td id=\"T_99339_row9_col9\" class=\"data row9 col9\" >0.000000</td>\n",
       "      <td id=\"T_99339_row9_col10\" class=\"data row9 col10\" >0</td>\n",
       "      <td id=\"T_99339_row9_col11\" class=\"data row9 col11\" >0</td>\n",
       "      <td id=\"T_99339_row9_col12\" class=\"data row9 col12\" >3</td>\n",
       "    </tr>\n",
       "  </tbody>\n",
       "</table>\n"
      ]
     },
     "execution_count": 786,
     "metadata": {},
     "output_type": "execute_result"
    }
   ],
   "execution_count": 786
  },
  {
   "metadata": {
    "ExecuteTime": {
     "end_time": "2025-07-07T21:24:52.810680Z",
     "start_time": "2025-07-07T21:24:52.802668Z"
    }
   },
   "cell_type": "code",
   "source": [
    "#Skalieren\n",
    "scaler = MinMaxScaler()\n",
    "scale_cols = [\"ChestPainType\", \"RestingBP\", \"Cholesterol\", \"RestingECG\", \"MaxHR\", \"ExerciseAngina\", \"Oldpeak\", \"ST_Slope\", \"Age_cat\"]\n",
    "df[scale_cols] = scaler.fit_transform(df[scale_cols])\n",
    "\n",
    "styled_df = df.head(10).style.set_table_styles([\n",
    "    {'selector': 'thead th', 'props': [('background-color', '#1f77b4'), ('color', 'white'), ('font-weight', 'bold')]},\n",
    "    {'selector': 'tbody td', 'props': [('border', '1px solid #ddd'), ('text-align', 'center')]}\n",
    "]).set_properties(**{'text-align': 'center'})\n",
    "\n",
    "styled_df"
   ],
   "id": "6af387286cefc052",
   "outputs": [
    {
     "data": {
      "text/plain": [
       "<pandas.io.formats.style.Styler at 0x1663dbb60>"
      ],
      "text/html": [
       "<style type=\"text/css\">\n",
       "#T_bfad4 thead th {\n",
       "  background-color: #1f77b4;\n",
       "  color: white;\n",
       "  font-weight: bold;\n",
       "}\n",
       "#T_bfad4 tbody td {\n",
       "  border: 1px solid #ddd;\n",
       "  text-align: center;\n",
       "}\n",
       "#T_bfad4_row0_col0, #T_bfad4_row0_col1, #T_bfad4_row0_col2, #T_bfad4_row0_col3, #T_bfad4_row0_col4, #T_bfad4_row0_col5, #T_bfad4_row0_col6, #T_bfad4_row0_col7, #T_bfad4_row0_col8, #T_bfad4_row0_col9, #T_bfad4_row0_col10, #T_bfad4_row0_col11, #T_bfad4_row0_col12, #T_bfad4_row1_col0, #T_bfad4_row1_col1, #T_bfad4_row1_col2, #T_bfad4_row1_col3, #T_bfad4_row1_col4, #T_bfad4_row1_col5, #T_bfad4_row1_col6, #T_bfad4_row1_col7, #T_bfad4_row1_col8, #T_bfad4_row1_col9, #T_bfad4_row1_col10, #T_bfad4_row1_col11, #T_bfad4_row1_col12, #T_bfad4_row2_col0, #T_bfad4_row2_col1, #T_bfad4_row2_col2, #T_bfad4_row2_col3, #T_bfad4_row2_col4, #T_bfad4_row2_col5, #T_bfad4_row2_col6, #T_bfad4_row2_col7, #T_bfad4_row2_col8, #T_bfad4_row2_col9, #T_bfad4_row2_col10, #T_bfad4_row2_col11, #T_bfad4_row2_col12, #T_bfad4_row3_col0, #T_bfad4_row3_col1, #T_bfad4_row3_col2, #T_bfad4_row3_col3, #T_bfad4_row3_col4, #T_bfad4_row3_col5, #T_bfad4_row3_col6, #T_bfad4_row3_col7, #T_bfad4_row3_col8, #T_bfad4_row3_col9, #T_bfad4_row3_col10, #T_bfad4_row3_col11, #T_bfad4_row3_col12, #T_bfad4_row4_col0, #T_bfad4_row4_col1, #T_bfad4_row4_col2, #T_bfad4_row4_col3, #T_bfad4_row4_col4, #T_bfad4_row4_col5, #T_bfad4_row4_col6, #T_bfad4_row4_col7, #T_bfad4_row4_col8, #T_bfad4_row4_col9, #T_bfad4_row4_col10, #T_bfad4_row4_col11, #T_bfad4_row4_col12, #T_bfad4_row5_col0, #T_bfad4_row5_col1, #T_bfad4_row5_col2, #T_bfad4_row5_col3, #T_bfad4_row5_col4, #T_bfad4_row5_col5, #T_bfad4_row5_col6, #T_bfad4_row5_col7, #T_bfad4_row5_col8, #T_bfad4_row5_col9, #T_bfad4_row5_col10, #T_bfad4_row5_col11, #T_bfad4_row5_col12, #T_bfad4_row6_col0, #T_bfad4_row6_col1, #T_bfad4_row6_col2, #T_bfad4_row6_col3, #T_bfad4_row6_col4, #T_bfad4_row6_col5, #T_bfad4_row6_col6, #T_bfad4_row6_col7, #T_bfad4_row6_col8, #T_bfad4_row6_col9, #T_bfad4_row6_col10, #T_bfad4_row6_col11, #T_bfad4_row6_col12, #T_bfad4_row7_col0, #T_bfad4_row7_col1, #T_bfad4_row7_col2, #T_bfad4_row7_col3, #T_bfad4_row7_col4, #T_bfad4_row7_col5, #T_bfad4_row7_col6, #T_bfad4_row7_col7, #T_bfad4_row7_col8, #T_bfad4_row7_col9, #T_bfad4_row7_col10, #T_bfad4_row7_col11, #T_bfad4_row7_col12, #T_bfad4_row8_col0, #T_bfad4_row8_col1, #T_bfad4_row8_col2, #T_bfad4_row8_col3, #T_bfad4_row8_col4, #T_bfad4_row8_col5, #T_bfad4_row8_col6, #T_bfad4_row8_col7, #T_bfad4_row8_col8, #T_bfad4_row8_col9, #T_bfad4_row8_col10, #T_bfad4_row8_col11, #T_bfad4_row8_col12, #T_bfad4_row9_col0, #T_bfad4_row9_col1, #T_bfad4_row9_col2, #T_bfad4_row9_col3, #T_bfad4_row9_col4, #T_bfad4_row9_col5, #T_bfad4_row9_col6, #T_bfad4_row9_col7, #T_bfad4_row9_col8, #T_bfad4_row9_col9, #T_bfad4_row9_col10, #T_bfad4_row9_col11, #T_bfad4_row9_col12 {\n",
       "  text-align: center;\n",
       "}\n",
       "</style>\n",
       "<table id=\"T_bfad4\">\n",
       "  <thead>\n",
       "    <tr>\n",
       "      <th class=\"blank level0\" >&nbsp;</th>\n",
       "      <th id=\"T_bfad4_level0_col0\" class=\"col_heading level0 col0\" >Age</th>\n",
       "      <th id=\"T_bfad4_level0_col1\" class=\"col_heading level0 col1\" >Sex</th>\n",
       "      <th id=\"T_bfad4_level0_col2\" class=\"col_heading level0 col2\" >ChestPainType</th>\n",
       "      <th id=\"T_bfad4_level0_col3\" class=\"col_heading level0 col3\" >RestingBP</th>\n",
       "      <th id=\"T_bfad4_level0_col4\" class=\"col_heading level0 col4\" >Cholesterol</th>\n",
       "      <th id=\"T_bfad4_level0_col5\" class=\"col_heading level0 col5\" >FastingBS</th>\n",
       "      <th id=\"T_bfad4_level0_col6\" class=\"col_heading level0 col6\" >RestingECG</th>\n",
       "      <th id=\"T_bfad4_level0_col7\" class=\"col_heading level0 col7\" >MaxHR</th>\n",
       "      <th id=\"T_bfad4_level0_col8\" class=\"col_heading level0 col8\" >ExerciseAngina</th>\n",
       "      <th id=\"T_bfad4_level0_col9\" class=\"col_heading level0 col9\" >Oldpeak</th>\n",
       "      <th id=\"T_bfad4_level0_col10\" class=\"col_heading level0 col10\" >ST_Slope</th>\n",
       "      <th id=\"T_bfad4_level0_col11\" class=\"col_heading level0 col11\" >HeartDisease</th>\n",
       "      <th id=\"T_bfad4_level0_col12\" class=\"col_heading level0 col12\" >Age_cat</th>\n",
       "    </tr>\n",
       "  </thead>\n",
       "  <tbody>\n",
       "    <tr>\n",
       "      <th id=\"T_bfad4_level0_row0\" class=\"row_heading level0 row0\" >0</th>\n",
       "      <td id=\"T_bfad4_row0_col0\" class=\"data row0 col0\" >40</td>\n",
       "      <td id=\"T_bfad4_row0_col1\" class=\"data row0 col1\" >1</td>\n",
       "      <td id=\"T_bfad4_row0_col2\" class=\"data row0 col2\" >0.333333</td>\n",
       "      <td id=\"T_bfad4_row0_col3\" class=\"data row0 col3\" >0.750000</td>\n",
       "      <td id=\"T_bfad4_row0_col4\" class=\"data row0 col4\" >1.000000</td>\n",
       "      <td id=\"T_bfad4_row0_col5\" class=\"data row0 col5\" >0</td>\n",
       "      <td id=\"T_bfad4_row0_col6\" class=\"data row0 col6\" >0.000000</td>\n",
       "      <td id=\"T_bfad4_row0_col7\" class=\"data row0 col7\" >0.333333</td>\n",
       "      <td id=\"T_bfad4_row0_col8\" class=\"data row0 col8\" >0.000000</td>\n",
       "      <td id=\"T_bfad4_row0_col9\" class=\"data row0 col9\" >0.295455</td>\n",
       "      <td id=\"T_bfad4_row0_col10\" class=\"data row0 col10\" >0.000000</td>\n",
       "      <td id=\"T_bfad4_row0_col11\" class=\"data row0 col11\" >0</td>\n",
       "      <td id=\"T_bfad4_row0_col12\" class=\"data row0 col12\" >0.250000</td>\n",
       "    </tr>\n",
       "    <tr>\n",
       "      <th id=\"T_bfad4_level0_row1\" class=\"row_heading level0 row1\" >1</th>\n",
       "      <td id=\"T_bfad4_row1_col0\" class=\"data row1 col0\" >49</td>\n",
       "      <td id=\"T_bfad4_row1_col1\" class=\"data row1 col1\" >0</td>\n",
       "      <td id=\"T_bfad4_row1_col2\" class=\"data row1 col2\" >0.666667</td>\n",
       "      <td id=\"T_bfad4_row1_col3\" class=\"data row1 col3\" >0.750000</td>\n",
       "      <td id=\"T_bfad4_row1_col4\" class=\"data row1 col4\" >0.000000</td>\n",
       "      <td id=\"T_bfad4_row1_col5\" class=\"data row1 col5\" >0</td>\n",
       "      <td id=\"T_bfad4_row1_col6\" class=\"data row1 col6\" >0.000000</td>\n",
       "      <td id=\"T_bfad4_row1_col7\" class=\"data row1 col7\" >0.333333</td>\n",
       "      <td id=\"T_bfad4_row1_col8\" class=\"data row1 col8\" >0.000000</td>\n",
       "      <td id=\"T_bfad4_row1_col9\" class=\"data row1 col9\" >0.409091</td>\n",
       "      <td id=\"T_bfad4_row1_col10\" class=\"data row1 col10\" >0.500000</td>\n",
       "      <td id=\"T_bfad4_row1_col11\" class=\"data row1 col11\" >1</td>\n",
       "      <td id=\"T_bfad4_row1_col12\" class=\"data row1 col12\" >0.500000</td>\n",
       "    </tr>\n",
       "    <tr>\n",
       "      <th id=\"T_bfad4_level0_row2\" class=\"row_heading level0 row2\" >2</th>\n",
       "      <td id=\"T_bfad4_row2_col0\" class=\"data row2 col0\" >37</td>\n",
       "      <td id=\"T_bfad4_row2_col1\" class=\"data row2 col1\" >1</td>\n",
       "      <td id=\"T_bfad4_row2_col2\" class=\"data row2 col2\" >0.333333</td>\n",
       "      <td id=\"T_bfad4_row2_col3\" class=\"data row2 col3\" >0.500000</td>\n",
       "      <td id=\"T_bfad4_row2_col4\" class=\"data row2 col4\" >1.000000</td>\n",
       "      <td id=\"T_bfad4_row2_col5\" class=\"data row2 col5\" >0</td>\n",
       "      <td id=\"T_bfad4_row2_col6\" class=\"data row2 col6\" >0.500000</td>\n",
       "      <td id=\"T_bfad4_row2_col7\" class=\"data row2 col7\" >0.000000</td>\n",
       "      <td id=\"T_bfad4_row2_col8\" class=\"data row2 col8\" >0.000000</td>\n",
       "      <td id=\"T_bfad4_row2_col9\" class=\"data row2 col9\" >0.295455</td>\n",
       "      <td id=\"T_bfad4_row2_col10\" class=\"data row2 col10\" >0.000000</td>\n",
       "      <td id=\"T_bfad4_row2_col11\" class=\"data row2 col11\" >0</td>\n",
       "      <td id=\"T_bfad4_row2_col12\" class=\"data row2 col12\" >0.250000</td>\n",
       "    </tr>\n",
       "    <tr>\n",
       "      <th id=\"T_bfad4_level0_row3\" class=\"row_heading level0 row3\" >3</th>\n",
       "      <td id=\"T_bfad4_row3_col0\" class=\"data row3 col0\" >48</td>\n",
       "      <td id=\"T_bfad4_row3_col1\" class=\"data row3 col1\" >0</td>\n",
       "      <td id=\"T_bfad4_row3_col2\" class=\"data row3 col2\" >1.000000</td>\n",
       "      <td id=\"T_bfad4_row3_col3\" class=\"data row3 col3\" >0.500000</td>\n",
       "      <td id=\"T_bfad4_row3_col4\" class=\"data row3 col4\" >0.500000</td>\n",
       "      <td id=\"T_bfad4_row3_col5\" class=\"data row3 col5\" >0</td>\n",
       "      <td id=\"T_bfad4_row3_col6\" class=\"data row3 col6\" >0.000000</td>\n",
       "      <td id=\"T_bfad4_row3_col7\" class=\"data row3 col7\" >0.000000</td>\n",
       "      <td id=\"T_bfad4_row3_col8\" class=\"data row3 col8\" >1.000000</td>\n",
       "      <td id=\"T_bfad4_row3_col9\" class=\"data row3 col9\" >0.465909</td>\n",
       "      <td id=\"T_bfad4_row3_col10\" class=\"data row3 col10\" >0.500000</td>\n",
       "      <td id=\"T_bfad4_row3_col11\" class=\"data row3 col11\" >1</td>\n",
       "      <td id=\"T_bfad4_row3_col12\" class=\"data row3 col12\" >0.500000</td>\n",
       "    </tr>\n",
       "    <tr>\n",
       "      <th id=\"T_bfad4_level0_row4\" class=\"row_heading level0 row4\" >4</th>\n",
       "      <td id=\"T_bfad4_row4_col0\" class=\"data row4 col0\" >54</td>\n",
       "      <td id=\"T_bfad4_row4_col1\" class=\"data row4 col1\" >1</td>\n",
       "      <td id=\"T_bfad4_row4_col2\" class=\"data row4 col2\" >0.666667</td>\n",
       "      <td id=\"T_bfad4_row4_col3\" class=\"data row4 col3\" >0.750000</td>\n",
       "      <td id=\"T_bfad4_row4_col4\" class=\"data row4 col4\" >0.000000</td>\n",
       "      <td id=\"T_bfad4_row4_col5\" class=\"data row4 col5\" >0</td>\n",
       "      <td id=\"T_bfad4_row4_col6\" class=\"data row4 col6\" >0.000000</td>\n",
       "      <td id=\"T_bfad4_row4_col7\" class=\"data row4 col7\" >0.333333</td>\n",
       "      <td id=\"T_bfad4_row4_col8\" class=\"data row4 col8\" >0.000000</td>\n",
       "      <td id=\"T_bfad4_row4_col9\" class=\"data row4 col9\" >0.295455</td>\n",
       "      <td id=\"T_bfad4_row4_col10\" class=\"data row4 col10\" >0.000000</td>\n",
       "      <td id=\"T_bfad4_row4_col11\" class=\"data row4 col11\" >0</td>\n",
       "      <td id=\"T_bfad4_row4_col12\" class=\"data row4 col12\" >0.750000</td>\n",
       "    </tr>\n",
       "    <tr>\n",
       "      <th id=\"T_bfad4_level0_row5\" class=\"row_heading level0 row5\" >5</th>\n",
       "      <td id=\"T_bfad4_row5_col0\" class=\"data row5 col0\" >39</td>\n",
       "      <td id=\"T_bfad4_row5_col1\" class=\"data row5 col1\" >1</td>\n",
       "      <td id=\"T_bfad4_row5_col2\" class=\"data row5 col2\" >0.666667</td>\n",
       "      <td id=\"T_bfad4_row5_col3\" class=\"data row5 col3\" >0.250000</td>\n",
       "      <td id=\"T_bfad4_row5_col4\" class=\"data row5 col4\" >1.000000</td>\n",
       "      <td id=\"T_bfad4_row5_col5\" class=\"data row5 col5\" >0</td>\n",
       "      <td id=\"T_bfad4_row5_col6\" class=\"data row5 col6\" >0.000000</td>\n",
       "      <td id=\"T_bfad4_row5_col7\" class=\"data row5 col7\" >0.333333</td>\n",
       "      <td id=\"T_bfad4_row5_col8\" class=\"data row5 col8\" >0.000000</td>\n",
       "      <td id=\"T_bfad4_row5_col9\" class=\"data row5 col9\" >0.295455</td>\n",
       "      <td id=\"T_bfad4_row5_col10\" class=\"data row5 col10\" >0.000000</td>\n",
       "      <td id=\"T_bfad4_row5_col11\" class=\"data row5 col11\" >0</td>\n",
       "      <td id=\"T_bfad4_row5_col12\" class=\"data row5 col12\" >0.250000</td>\n",
       "    </tr>\n",
       "    <tr>\n",
       "      <th id=\"T_bfad4_level0_row6\" class=\"row_heading level0 row6\" >6</th>\n",
       "      <td id=\"T_bfad4_row6_col0\" class=\"data row6 col0\" >45</td>\n",
       "      <td id=\"T_bfad4_row6_col1\" class=\"data row6 col1\" >0</td>\n",
       "      <td id=\"T_bfad4_row6_col2\" class=\"data row6 col2\" >0.333333</td>\n",
       "      <td id=\"T_bfad4_row6_col3\" class=\"data row6 col3\" >0.500000</td>\n",
       "      <td id=\"T_bfad4_row6_col4\" class=\"data row6 col4\" >0.500000</td>\n",
       "      <td id=\"T_bfad4_row6_col5\" class=\"data row6 col5\" >0</td>\n",
       "      <td id=\"T_bfad4_row6_col6\" class=\"data row6 col6\" >0.000000</td>\n",
       "      <td id=\"T_bfad4_row6_col7\" class=\"data row6 col7\" >0.333333</td>\n",
       "      <td id=\"T_bfad4_row6_col8\" class=\"data row6 col8\" >0.000000</td>\n",
       "      <td id=\"T_bfad4_row6_col9\" class=\"data row6 col9\" >0.295455</td>\n",
       "      <td id=\"T_bfad4_row6_col10\" class=\"data row6 col10\" >0.000000</td>\n",
       "      <td id=\"T_bfad4_row6_col11\" class=\"data row6 col11\" >0</td>\n",
       "      <td id=\"T_bfad4_row6_col12\" class=\"data row6 col12\" >0.500000</td>\n",
       "    </tr>\n",
       "    <tr>\n",
       "      <th id=\"T_bfad4_level0_row7\" class=\"row_heading level0 row7\" >7</th>\n",
       "      <td id=\"T_bfad4_row7_col0\" class=\"data row7 col0\" >54</td>\n",
       "      <td id=\"T_bfad4_row7_col1\" class=\"data row7 col1\" >1</td>\n",
       "      <td id=\"T_bfad4_row7_col2\" class=\"data row7 col2\" >0.333333</td>\n",
       "      <td id=\"T_bfad4_row7_col3\" class=\"data row7 col3\" >0.000000</td>\n",
       "      <td id=\"T_bfad4_row7_col4\" class=\"data row7 col4\" >0.500000</td>\n",
       "      <td id=\"T_bfad4_row7_col5\" class=\"data row7 col5\" >0</td>\n",
       "      <td id=\"T_bfad4_row7_col6\" class=\"data row7 col6\" >0.000000</td>\n",
       "      <td id=\"T_bfad4_row7_col7\" class=\"data row7 col7\" >0.333333</td>\n",
       "      <td id=\"T_bfad4_row7_col8\" class=\"data row7 col8\" >0.000000</td>\n",
       "      <td id=\"T_bfad4_row7_col9\" class=\"data row7 col9\" >0.295455</td>\n",
       "      <td id=\"T_bfad4_row7_col10\" class=\"data row7 col10\" >0.000000</td>\n",
       "      <td id=\"T_bfad4_row7_col11\" class=\"data row7 col11\" >0</td>\n",
       "      <td id=\"T_bfad4_row7_col12\" class=\"data row7 col12\" >0.750000</td>\n",
       "    </tr>\n",
       "    <tr>\n",
       "      <th id=\"T_bfad4_level0_row8\" class=\"row_heading level0 row8\" >8</th>\n",
       "      <td id=\"T_bfad4_row8_col0\" class=\"data row8 col0\" >37</td>\n",
       "      <td id=\"T_bfad4_row8_col1\" class=\"data row8 col1\" >1</td>\n",
       "      <td id=\"T_bfad4_row8_col2\" class=\"data row8 col2\" >1.000000</td>\n",
       "      <td id=\"T_bfad4_row8_col3\" class=\"data row8 col3\" >0.750000</td>\n",
       "      <td id=\"T_bfad4_row8_col4\" class=\"data row8 col4\" >0.500000</td>\n",
       "      <td id=\"T_bfad4_row8_col5\" class=\"data row8 col5\" >0</td>\n",
       "      <td id=\"T_bfad4_row8_col6\" class=\"data row8 col6\" >0.000000</td>\n",
       "      <td id=\"T_bfad4_row8_col7\" class=\"data row8 col7\" >0.333333</td>\n",
       "      <td id=\"T_bfad4_row8_col8\" class=\"data row8 col8\" >1.000000</td>\n",
       "      <td id=\"T_bfad4_row8_col9\" class=\"data row8 col9\" >0.465909</td>\n",
       "      <td id=\"T_bfad4_row8_col10\" class=\"data row8 col10\" >0.500000</td>\n",
       "      <td id=\"T_bfad4_row8_col11\" class=\"data row8 col11\" >1</td>\n",
       "      <td id=\"T_bfad4_row8_col12\" class=\"data row8 col12\" >0.250000</td>\n",
       "    </tr>\n",
       "    <tr>\n",
       "      <th id=\"T_bfad4_level0_row9\" class=\"row_heading level0 row9\" >9</th>\n",
       "      <td id=\"T_bfad4_row9_col0\" class=\"data row9 col0\" >48</td>\n",
       "      <td id=\"T_bfad4_row9_col1\" class=\"data row9 col1\" >0</td>\n",
       "      <td id=\"T_bfad4_row9_col2\" class=\"data row9 col2\" >0.333333</td>\n",
       "      <td id=\"T_bfad4_row9_col3\" class=\"data row9 col3\" >0.250000</td>\n",
       "      <td id=\"T_bfad4_row9_col4\" class=\"data row9 col4\" >1.000000</td>\n",
       "      <td id=\"T_bfad4_row9_col5\" class=\"data row9 col5\" >0</td>\n",
       "      <td id=\"T_bfad4_row9_col6\" class=\"data row9 col6\" >0.000000</td>\n",
       "      <td id=\"T_bfad4_row9_col7\" class=\"data row9 col7\" >0.000000</td>\n",
       "      <td id=\"T_bfad4_row9_col8\" class=\"data row9 col8\" >0.000000</td>\n",
       "      <td id=\"T_bfad4_row9_col9\" class=\"data row9 col9\" >0.295455</td>\n",
       "      <td id=\"T_bfad4_row9_col10\" class=\"data row9 col10\" >0.000000</td>\n",
       "      <td id=\"T_bfad4_row9_col11\" class=\"data row9 col11\" >0</td>\n",
       "      <td id=\"T_bfad4_row9_col12\" class=\"data row9 col12\" >0.500000</td>\n",
       "    </tr>\n",
       "  </tbody>\n",
       "</table>\n"
      ]
     },
     "execution_count": 787,
     "metadata": {},
     "output_type": "execute_result"
    }
   ],
   "execution_count": 787
  },
  {
   "metadata": {
    "ExecuteTime": {
     "end_time": "2025-07-07T21:25:00.858160Z",
     "start_time": "2025-07-07T21:24:52.826691Z"
    }
   },
   "cell_type": "code",
   "source": [
    "from sklearn.ensemble import RandomForestClassifier\n",
    "from sklearn.model_selection import train_test_split, GridSearchCV\n",
    "from sklearn.metrics import confusion_matrix, classification_report, ConfusionMatrixDisplay\n",
    "import matplotlib.pyplot as plt\n",
    "\n",
    "# 1. Daten vorbereiten\n",
    "X = df.drop(columns=['HeartDisease', 'Age'])\n",
    "y = df['HeartDisease']\n",
    "\n",
    " #Falls nötig: Kategorische Variablen umwandeln\n",
    "#X = pd.get_dummies(X, drop_first=True)\n",
    "\n",
    "# === 2. Trainings-/Testdaten Split ===\n",
    "X_train, X_test, y_train, y_test = train_test_split(X, y, test_size=0.2, random_state=42)\n",
    "\n",
    "# === 3. Parametergrid definieren ===\n",
    "param_grid = {\n",
    "    'n_estimators': [100, 200],\n",
    "    'max_depth': [None, 10, 20],\n",
    "    'min_samples_split': [2, 5],\n",
    "    'min_samples_leaf': [1, 2],\n",
    "    'max_features': ['sqrt', 'log2'],\n",
    "    'bootstrap': [True, False]\n",
    "}\n",
    "\n",
    "# === 4. Random Forest mit GridSearchCV ===\n",
    "rfc = RandomForestClassifier(random_state=42)\n",
    "grid_search = GridSearchCV(estimator=rfc,\n",
    "                           param_grid=param_grid,\n",
    "                           cv=5,\n",
    "                           scoring='accuracy',\n",
    "                           n_jobs=-1,\n",
    "                           verbose=1)\n",
    "\n",
    "grid_search.fit(X_train, y_train)\n",
    "\n",
    "# === 5. Bestes Modell anzeigen ===\n",
    "print(\"Beste Parameterkombination:\")\n",
    "print(grid_search.best_params_)\n",
    "\n",
    "# === 6. Modell evaluieren ===\n",
    "best_model = grid_search.best_estimator_\n",
    "y_pred = best_model.predict(X_test)\n",
    "\n",
    "# === 7. Konfusionsmatrix ===\n",
    "cm = confusion_matrix(y_test, y_pred)\n",
    "disp = ConfusionMatrixDisplay(confusion_matrix=cm, display_labels=best_rf.classes_)\n",
    "disp.plot()\n",
    "plt.show()\n"
   ],
   "id": "44e2fa2eb463e5c4",
   "outputs": [
    {
     "name": "stdout",
     "output_type": "stream",
     "text": [
      "Fitting 5 folds for each of 96 candidates, totalling 480 fits\n",
      "Beste Parameterkombination:\n",
      "{'bootstrap': True, 'max_depth': 10, 'max_features': 'sqrt', 'min_samples_leaf': 1, 'min_samples_split': 2, 'n_estimators': 200}\n"
     ]
    },
    {
     "ename": "NameError",
     "evalue": "name 'best_rf' is not defined",
     "output_type": "error",
     "traceback": [
      "\u001B[31m---------------------------------------------------------------------------\u001B[39m",
      "\u001B[31mNameError\u001B[39m                                 Traceback (most recent call last)",
      "\u001B[36mCell\u001B[39m\u001B[36m \u001B[39m\u001B[32mIn[788]\u001B[39m\u001B[32m, line 47\u001B[39m\n\u001B[32m     45\u001B[39m \u001B[38;5;66;03m# === 7. Konfusionsmatrix ===\u001B[39;00m\n\u001B[32m     46\u001B[39m cm = confusion_matrix(y_test, y_pred)\n\u001B[32m---> \u001B[39m\u001B[32m47\u001B[39m disp = ConfusionMatrixDisplay(confusion_matrix=cm, display_labels=best_rf.classes_)\n\u001B[32m     48\u001B[39m disp.plot()\n\u001B[32m     49\u001B[39m plt.show()\n",
      "\u001B[31mNameError\u001B[39m: name 'best_rf' is not defined"
     ]
    }
   ],
   "execution_count": 788
  }
 ],
 "metadata": {
  "kernelspec": {
   "display_name": "Python [conda env:base] *",
   "language": "python",
   "name": "conda-base-py"
  },
  "language_info": {
   "codemirror_mode": {
    "name": "ipython",
    "version": 2
   },
   "file_extension": ".py",
   "mimetype": "text/x-python",
   "name": "python",
   "nbconvert_exporter": "python",
   "pygments_lexer": "ipython2",
   "version": "2.7.6"
  }
 },
 "nbformat": 4,
 "nbformat_minor": 5
}
