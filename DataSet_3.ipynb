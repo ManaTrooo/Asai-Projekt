{
 "cells": [
  {
   "cell_type": "code",
   "id": "initial_id",
   "metadata": {
    "collapsed": true,
    "ExecuteTime": {
     "end_time": "2025-07-10T11:43:41.706979Z",
     "start_time": "2025-07-10T11:43:41.232072Z"
    }
   },
   "source": [
    "import pandas as pd\n",
    "import matplotlib.pyplot as plt\n",
    "import seaborn as sns\n",
    "from sklearn.preprocessing import MinMaxScaler\n",
    "from sklearn.metrics import confusion_matrix, ConfusionMatrixDisplay, accuracy_score\n",
    "from sklearn.ensemble import RandomForestClassifier\n",
    "from sklearn.model_selection import train_test_split, GridSearchCV\n",
    "from sklearn.metrics import confusion_matrix, classification_report, ConfusionMatrixDisplay\n",
    "import matplotlib.pyplot as plt\n",
    "from sklearn.metrics import precision_score, recall_score\n",
    "from fairlearn.metrics import MetricFrame, selection_rate, demographic_parity_difference, true_positive_rate\n",
    "import numpy as np"
   ],
   "outputs": [],
   "execution_count": 1
  },
  {
   "metadata": {
    "ExecuteTime": {
     "end_time": "2025-07-10T11:43:41.750637Z",
     "start_time": "2025-07-10T11:43:41.738866Z"
    }
   },
   "cell_type": "code",
   "source": [
    "#Datei einlesen\n",
    "df = pd.read_csv(\"Medicaldataset.csv\")\n",
    "#df = pd.read_csv(r\"C:\\Users\\zahri\\anaconda_projects\\AsaiProjekt\\Asai-Projekt\\Medicaldataset.csv\")\n",
    "df = pd.read_csv(\"/Users/aurelia/Documents/GitHub/Asai-Projekt/Medicaldataset.csv\")\n",
    "#df = pd.read_csv(r\"C:\\Users\\Aurelia\\OneDrive\\Dokumente\\GitHub\\Asai-Projekt\\Medicaldataset.csv\")\n",
    "df_orginal = df.copy()"
   ],
   "id": "a983449705b723a2",
   "outputs": [],
   "execution_count": 2
  },
  {
   "metadata": {
    "ExecuteTime": {
     "end_time": "2025-07-10T11:43:41.881717Z",
     "start_time": "2025-07-10T11:43:41.838615Z"
    }
   },
   "cell_type": "code",
   "source": [
    "#DataFrame-Beispiel Daten\n",
    "styled_df = df.head(10).style.set_table_styles([\n",
    "    {'selector': 'thead th', 'props': [('background-color', '#1f77b4'), ('color', 'white'), ('font-weight', 'bold')]},\n",
    "    {'selector': 'tbody td', 'props': [('border', '1px solid #ddd'), ('text-align', 'center')]}\n",
    "]).set_properties(**{'text-align': 'center'})\n",
    "\n",
    "styled_df"
   ],
   "id": "f7e567e467c9eb84",
   "outputs": [
    {
     "data": {
      "text/plain": [
       "<pandas.io.formats.style.Styler at 0x1665d3770>"
      ],
      "text/html": [
       "<style type=\"text/css\">\n",
       "#T_5f7d2 thead th {\n",
       "  background-color: #1f77b4;\n",
       "  color: white;\n",
       "  font-weight: bold;\n",
       "}\n",
       "#T_5f7d2 tbody td {\n",
       "  border: 1px solid #ddd;\n",
       "  text-align: center;\n",
       "}\n",
       "#T_5f7d2_row0_col0, #T_5f7d2_row0_col1, #T_5f7d2_row0_col2, #T_5f7d2_row0_col3, #T_5f7d2_row0_col4, #T_5f7d2_row0_col5, #T_5f7d2_row0_col6, #T_5f7d2_row0_col7, #T_5f7d2_row0_col8, #T_5f7d2_row1_col0, #T_5f7d2_row1_col1, #T_5f7d2_row1_col2, #T_5f7d2_row1_col3, #T_5f7d2_row1_col4, #T_5f7d2_row1_col5, #T_5f7d2_row1_col6, #T_5f7d2_row1_col7, #T_5f7d2_row1_col8, #T_5f7d2_row2_col0, #T_5f7d2_row2_col1, #T_5f7d2_row2_col2, #T_5f7d2_row2_col3, #T_5f7d2_row2_col4, #T_5f7d2_row2_col5, #T_5f7d2_row2_col6, #T_5f7d2_row2_col7, #T_5f7d2_row2_col8, #T_5f7d2_row3_col0, #T_5f7d2_row3_col1, #T_5f7d2_row3_col2, #T_5f7d2_row3_col3, #T_5f7d2_row3_col4, #T_5f7d2_row3_col5, #T_5f7d2_row3_col6, #T_5f7d2_row3_col7, #T_5f7d2_row3_col8, #T_5f7d2_row4_col0, #T_5f7d2_row4_col1, #T_5f7d2_row4_col2, #T_5f7d2_row4_col3, #T_5f7d2_row4_col4, #T_5f7d2_row4_col5, #T_5f7d2_row4_col6, #T_5f7d2_row4_col7, #T_5f7d2_row4_col8, #T_5f7d2_row5_col0, #T_5f7d2_row5_col1, #T_5f7d2_row5_col2, #T_5f7d2_row5_col3, #T_5f7d2_row5_col4, #T_5f7d2_row5_col5, #T_5f7d2_row5_col6, #T_5f7d2_row5_col7, #T_5f7d2_row5_col8, #T_5f7d2_row6_col0, #T_5f7d2_row6_col1, #T_5f7d2_row6_col2, #T_5f7d2_row6_col3, #T_5f7d2_row6_col4, #T_5f7d2_row6_col5, #T_5f7d2_row6_col6, #T_5f7d2_row6_col7, #T_5f7d2_row6_col8, #T_5f7d2_row7_col0, #T_5f7d2_row7_col1, #T_5f7d2_row7_col2, #T_5f7d2_row7_col3, #T_5f7d2_row7_col4, #T_5f7d2_row7_col5, #T_5f7d2_row7_col6, #T_5f7d2_row7_col7, #T_5f7d2_row7_col8, #T_5f7d2_row8_col0, #T_5f7d2_row8_col1, #T_5f7d2_row8_col2, #T_5f7d2_row8_col3, #T_5f7d2_row8_col4, #T_5f7d2_row8_col5, #T_5f7d2_row8_col6, #T_5f7d2_row8_col7, #T_5f7d2_row8_col8, #T_5f7d2_row9_col0, #T_5f7d2_row9_col1, #T_5f7d2_row9_col2, #T_5f7d2_row9_col3, #T_5f7d2_row9_col4, #T_5f7d2_row9_col5, #T_5f7d2_row9_col6, #T_5f7d2_row9_col7, #T_5f7d2_row9_col8 {\n",
       "  text-align: center;\n",
       "}\n",
       "</style>\n",
       "<table id=\"T_5f7d2\">\n",
       "  <thead>\n",
       "    <tr>\n",
       "      <th class=\"blank level0\" >&nbsp;</th>\n",
       "      <th id=\"T_5f7d2_level0_col0\" class=\"col_heading level0 col0\" >Age</th>\n",
       "      <th id=\"T_5f7d2_level0_col1\" class=\"col_heading level0 col1\" >Gender</th>\n",
       "      <th id=\"T_5f7d2_level0_col2\" class=\"col_heading level0 col2\" >Heart rate</th>\n",
       "      <th id=\"T_5f7d2_level0_col3\" class=\"col_heading level0 col3\" >Systolic blood pressure</th>\n",
       "      <th id=\"T_5f7d2_level0_col4\" class=\"col_heading level0 col4\" >Diastolic blood pressure</th>\n",
       "      <th id=\"T_5f7d2_level0_col5\" class=\"col_heading level0 col5\" >Blood sugar</th>\n",
       "      <th id=\"T_5f7d2_level0_col6\" class=\"col_heading level0 col6\" >CK-MB</th>\n",
       "      <th id=\"T_5f7d2_level0_col7\" class=\"col_heading level0 col7\" >Troponin</th>\n",
       "      <th id=\"T_5f7d2_level0_col8\" class=\"col_heading level0 col8\" >Result</th>\n",
       "    </tr>\n",
       "  </thead>\n",
       "  <tbody>\n",
       "    <tr>\n",
       "      <th id=\"T_5f7d2_level0_row0\" class=\"row_heading level0 row0\" >0</th>\n",
       "      <td id=\"T_5f7d2_row0_col0\" class=\"data row0 col0\" >64</td>\n",
       "      <td id=\"T_5f7d2_row0_col1\" class=\"data row0 col1\" >1</td>\n",
       "      <td id=\"T_5f7d2_row0_col2\" class=\"data row0 col2\" >66</td>\n",
       "      <td id=\"T_5f7d2_row0_col3\" class=\"data row0 col3\" >160</td>\n",
       "      <td id=\"T_5f7d2_row0_col4\" class=\"data row0 col4\" >83</td>\n",
       "      <td id=\"T_5f7d2_row0_col5\" class=\"data row0 col5\" >160.000000</td>\n",
       "      <td id=\"T_5f7d2_row0_col6\" class=\"data row0 col6\" >1.800000</td>\n",
       "      <td id=\"T_5f7d2_row0_col7\" class=\"data row0 col7\" >0.012000</td>\n",
       "      <td id=\"T_5f7d2_row0_col8\" class=\"data row0 col8\" >negative</td>\n",
       "    </tr>\n",
       "    <tr>\n",
       "      <th id=\"T_5f7d2_level0_row1\" class=\"row_heading level0 row1\" >1</th>\n",
       "      <td id=\"T_5f7d2_row1_col0\" class=\"data row1 col0\" >21</td>\n",
       "      <td id=\"T_5f7d2_row1_col1\" class=\"data row1 col1\" >1</td>\n",
       "      <td id=\"T_5f7d2_row1_col2\" class=\"data row1 col2\" >94</td>\n",
       "      <td id=\"T_5f7d2_row1_col3\" class=\"data row1 col3\" >98</td>\n",
       "      <td id=\"T_5f7d2_row1_col4\" class=\"data row1 col4\" >46</td>\n",
       "      <td id=\"T_5f7d2_row1_col5\" class=\"data row1 col5\" >296.000000</td>\n",
       "      <td id=\"T_5f7d2_row1_col6\" class=\"data row1 col6\" >6.750000</td>\n",
       "      <td id=\"T_5f7d2_row1_col7\" class=\"data row1 col7\" >1.060000</td>\n",
       "      <td id=\"T_5f7d2_row1_col8\" class=\"data row1 col8\" >positive</td>\n",
       "    </tr>\n",
       "    <tr>\n",
       "      <th id=\"T_5f7d2_level0_row2\" class=\"row_heading level0 row2\" >2</th>\n",
       "      <td id=\"T_5f7d2_row2_col0\" class=\"data row2 col0\" >55</td>\n",
       "      <td id=\"T_5f7d2_row2_col1\" class=\"data row2 col1\" >1</td>\n",
       "      <td id=\"T_5f7d2_row2_col2\" class=\"data row2 col2\" >64</td>\n",
       "      <td id=\"T_5f7d2_row2_col3\" class=\"data row2 col3\" >160</td>\n",
       "      <td id=\"T_5f7d2_row2_col4\" class=\"data row2 col4\" >77</td>\n",
       "      <td id=\"T_5f7d2_row2_col5\" class=\"data row2 col5\" >270.000000</td>\n",
       "      <td id=\"T_5f7d2_row2_col6\" class=\"data row2 col6\" >1.990000</td>\n",
       "      <td id=\"T_5f7d2_row2_col7\" class=\"data row2 col7\" >0.003000</td>\n",
       "      <td id=\"T_5f7d2_row2_col8\" class=\"data row2 col8\" >negative</td>\n",
       "    </tr>\n",
       "    <tr>\n",
       "      <th id=\"T_5f7d2_level0_row3\" class=\"row_heading level0 row3\" >3</th>\n",
       "      <td id=\"T_5f7d2_row3_col0\" class=\"data row3 col0\" >64</td>\n",
       "      <td id=\"T_5f7d2_row3_col1\" class=\"data row3 col1\" >1</td>\n",
       "      <td id=\"T_5f7d2_row3_col2\" class=\"data row3 col2\" >70</td>\n",
       "      <td id=\"T_5f7d2_row3_col3\" class=\"data row3 col3\" >120</td>\n",
       "      <td id=\"T_5f7d2_row3_col4\" class=\"data row3 col4\" >55</td>\n",
       "      <td id=\"T_5f7d2_row3_col5\" class=\"data row3 col5\" >270.000000</td>\n",
       "      <td id=\"T_5f7d2_row3_col6\" class=\"data row3 col6\" >13.870000</td>\n",
       "      <td id=\"T_5f7d2_row3_col7\" class=\"data row3 col7\" >0.122000</td>\n",
       "      <td id=\"T_5f7d2_row3_col8\" class=\"data row3 col8\" >positive</td>\n",
       "    </tr>\n",
       "    <tr>\n",
       "      <th id=\"T_5f7d2_level0_row4\" class=\"row_heading level0 row4\" >4</th>\n",
       "      <td id=\"T_5f7d2_row4_col0\" class=\"data row4 col0\" >55</td>\n",
       "      <td id=\"T_5f7d2_row4_col1\" class=\"data row4 col1\" >1</td>\n",
       "      <td id=\"T_5f7d2_row4_col2\" class=\"data row4 col2\" >64</td>\n",
       "      <td id=\"T_5f7d2_row4_col3\" class=\"data row4 col3\" >112</td>\n",
       "      <td id=\"T_5f7d2_row4_col4\" class=\"data row4 col4\" >65</td>\n",
       "      <td id=\"T_5f7d2_row4_col5\" class=\"data row4 col5\" >300.000000</td>\n",
       "      <td id=\"T_5f7d2_row4_col6\" class=\"data row4 col6\" >1.080000</td>\n",
       "      <td id=\"T_5f7d2_row4_col7\" class=\"data row4 col7\" >0.003000</td>\n",
       "      <td id=\"T_5f7d2_row4_col8\" class=\"data row4 col8\" >negative</td>\n",
       "    </tr>\n",
       "    <tr>\n",
       "      <th id=\"T_5f7d2_level0_row5\" class=\"row_heading level0 row5\" >5</th>\n",
       "      <td id=\"T_5f7d2_row5_col0\" class=\"data row5 col0\" >58</td>\n",
       "      <td id=\"T_5f7d2_row5_col1\" class=\"data row5 col1\" >0</td>\n",
       "      <td id=\"T_5f7d2_row5_col2\" class=\"data row5 col2\" >61</td>\n",
       "      <td id=\"T_5f7d2_row5_col3\" class=\"data row5 col3\" >112</td>\n",
       "      <td id=\"T_5f7d2_row5_col4\" class=\"data row5 col4\" >58</td>\n",
       "      <td id=\"T_5f7d2_row5_col5\" class=\"data row5 col5\" >87.000000</td>\n",
       "      <td id=\"T_5f7d2_row5_col6\" class=\"data row5 col6\" >1.830000</td>\n",
       "      <td id=\"T_5f7d2_row5_col7\" class=\"data row5 col7\" >0.004000</td>\n",
       "      <td id=\"T_5f7d2_row5_col8\" class=\"data row5 col8\" >negative</td>\n",
       "    </tr>\n",
       "    <tr>\n",
       "      <th id=\"T_5f7d2_level0_row6\" class=\"row_heading level0 row6\" >6</th>\n",
       "      <td id=\"T_5f7d2_row6_col0\" class=\"data row6 col0\" >32</td>\n",
       "      <td id=\"T_5f7d2_row6_col1\" class=\"data row6 col1\" >0</td>\n",
       "      <td id=\"T_5f7d2_row6_col2\" class=\"data row6 col2\" >40</td>\n",
       "      <td id=\"T_5f7d2_row6_col3\" class=\"data row6 col3\" >179</td>\n",
       "      <td id=\"T_5f7d2_row6_col4\" class=\"data row6 col4\" >68</td>\n",
       "      <td id=\"T_5f7d2_row6_col5\" class=\"data row6 col5\" >102.000000</td>\n",
       "      <td id=\"T_5f7d2_row6_col6\" class=\"data row6 col6\" >0.710000</td>\n",
       "      <td id=\"T_5f7d2_row6_col7\" class=\"data row6 col7\" >0.003000</td>\n",
       "      <td id=\"T_5f7d2_row6_col8\" class=\"data row6 col8\" >negative</td>\n",
       "    </tr>\n",
       "    <tr>\n",
       "      <th id=\"T_5f7d2_level0_row7\" class=\"row_heading level0 row7\" >7</th>\n",
       "      <td id=\"T_5f7d2_row7_col0\" class=\"data row7 col0\" >63</td>\n",
       "      <td id=\"T_5f7d2_row7_col1\" class=\"data row7 col1\" >1</td>\n",
       "      <td id=\"T_5f7d2_row7_col2\" class=\"data row7 col2\" >60</td>\n",
       "      <td id=\"T_5f7d2_row7_col3\" class=\"data row7 col3\" >214</td>\n",
       "      <td id=\"T_5f7d2_row7_col4\" class=\"data row7 col4\" >82</td>\n",
       "      <td id=\"T_5f7d2_row7_col5\" class=\"data row7 col5\" >87.000000</td>\n",
       "      <td id=\"T_5f7d2_row7_col6\" class=\"data row7 col6\" >300.000000</td>\n",
       "      <td id=\"T_5f7d2_row7_col7\" class=\"data row7 col7\" >2.370000</td>\n",
       "      <td id=\"T_5f7d2_row7_col8\" class=\"data row7 col8\" >positive</td>\n",
       "    </tr>\n",
       "    <tr>\n",
       "      <th id=\"T_5f7d2_level0_row8\" class=\"row_heading level0 row8\" >8</th>\n",
       "      <td id=\"T_5f7d2_row8_col0\" class=\"data row8 col0\" >44</td>\n",
       "      <td id=\"T_5f7d2_row8_col1\" class=\"data row8 col1\" >0</td>\n",
       "      <td id=\"T_5f7d2_row8_col2\" class=\"data row8 col2\" >60</td>\n",
       "      <td id=\"T_5f7d2_row8_col3\" class=\"data row8 col3\" >154</td>\n",
       "      <td id=\"T_5f7d2_row8_col4\" class=\"data row8 col4\" >81</td>\n",
       "      <td id=\"T_5f7d2_row8_col5\" class=\"data row8 col5\" >135.000000</td>\n",
       "      <td id=\"T_5f7d2_row8_col6\" class=\"data row8 col6\" >2.350000</td>\n",
       "      <td id=\"T_5f7d2_row8_col7\" class=\"data row8 col7\" >0.004000</td>\n",
       "      <td id=\"T_5f7d2_row8_col8\" class=\"data row8 col8\" >negative</td>\n",
       "    </tr>\n",
       "    <tr>\n",
       "      <th id=\"T_5f7d2_level0_row9\" class=\"row_heading level0 row9\" >9</th>\n",
       "      <td id=\"T_5f7d2_row9_col0\" class=\"data row9 col0\" >67</td>\n",
       "      <td id=\"T_5f7d2_row9_col1\" class=\"data row9 col1\" >1</td>\n",
       "      <td id=\"T_5f7d2_row9_col2\" class=\"data row9 col2\" >61</td>\n",
       "      <td id=\"T_5f7d2_row9_col3\" class=\"data row9 col3\" >160</td>\n",
       "      <td id=\"T_5f7d2_row9_col4\" class=\"data row9 col4\" >95</td>\n",
       "      <td id=\"T_5f7d2_row9_col5\" class=\"data row9 col5\" >100.000000</td>\n",
       "      <td id=\"T_5f7d2_row9_col6\" class=\"data row9 col6\" >2.840000</td>\n",
       "      <td id=\"T_5f7d2_row9_col7\" class=\"data row9 col7\" >0.011000</td>\n",
       "      <td id=\"T_5f7d2_row9_col8\" class=\"data row9 col8\" >negative</td>\n",
       "    </tr>\n",
       "  </tbody>\n",
       "</table>\n"
      ]
     },
     "execution_count": 3,
     "metadata": {},
     "output_type": "execute_result"
    }
   ],
   "execution_count": 3
  },
  {
   "metadata": {
    "ExecuteTime": {
     "end_time": "2025-07-10T11:43:42.452312Z",
     "start_time": "2025-07-10T11:43:42.250121Z"
    }
   },
   "cell_type": "code",
   "source": [
    "#Balkendiagramm Anteil Herzerkrankte\n",
    "\n",
    "# Balkendiagramm\n",
    "ax = sns.countplot(x='Result', hue='Result', data=df, palette=['#00d9ff', '#ff0000'], legend=False)\n",
    "\n",
    "# Achsentitel\n",
    "plt.title('Anzahl der Patienten mit / ohne Herzkrankheit')\n",
    "plt.xlabel('Herzkrankheit (negative = Nein, positive = Ja)')\n",
    "plt.ylabel('Anzahl der Patienten')\n",
    "\n",
    "# Zahlen über Balken schreiben\n",
    "for p in ax.patches:\n",
    "    height = p.get_height()\n",
    "    ax.annotate(f'{int(height)}',\n",
    "                (p.get_x() + p.get_width() / 2, height),\n",
    "                ha='center', va='bottom',\n",
    "                fontsize=11, fontweight='bold')\n",
    "\n",
    "# Plot anzeigen\n",
    "plt.show()\n",
    "print(f\"Anzahl der Zeilen (Patienten): {df.shape[0]}\")\n",
    "print(f\"Anzahl der Spalten (Features): {df.shape[1]}\")"
   ],
   "id": "596718f0c0062206",
   "outputs": [
    {
     "data": {
      "text/plain": [
       "<Figure size 640x480 with 1 Axes>"
      ],
      "image/png": "[encoded data removed]"
     },
     "metadata": {},
     "output_type": "display_data"
    },
    {
     "name": "stdout",
     "output_type": "stream",
     "text": [
      "Anzahl der Zeilen (Patienten): 1319\n",
      "Anzahl der Spalten (Features): 9\n"
     ]
    }
   ],
   "execution_count": 4
  },
  {
   "metadata": {
    "ExecuteTime": {
     "end_time": "2025-07-10T11:46:58.406932Z",
     "start_time": "2025-07-10T11:46:58.361002Z"
    }
   },
   "cell_type": "code",
   "source": [
    "# Daten Vorverarbeitung\n",
    "# Duplikate checken\n",
    "# Alle duplizierten Zeilen (inkl. Erstvorkommen)\n",
    "duplikate_df = df[df.duplicated(keep=False)]\n",
    "\n",
    "# Anzahl und Prozent Duplikate\n",
    "anzahl_duplikate = len(duplikate_df)\n",
    "gesamt = len(df)\n",
    "prozent_duplikate = (anzahl_duplikate / gesamt) * 100\n",
    "\n",
    "# Verteilung HeartDisease(Result) in den Duplikaten\n",
    "verteilung_duplikate = duplikate_df['Result'].value_counts(normalize=True) * 100\n",
    "\n",
    "# Verteilung HeartDisease(Result) im gesamten DataFrame\n",
    "verteilung_gesamt = df['Result'].value_counts(normalize=True) * 100\n",
    "\n",
    "# Ausgabe\n",
    "print(\"Gesamtzeilen:\", gesamt)\n",
    "print(\"Anzahl mehrfach vorkommender Zeilen:\", anzahl_duplikate)\n",
    "print(f\"Prozent mehrfach vorkommend: {prozent_duplikate:.2f}%\\n\")\n",
    "\n",
    "print(\"Verteilung von Heartdisease innerhalb der Duplikate:\")\n",
    "if not verteilung_duplikate.empty:\n",
    "    for wert, proz in verteilung_duplikate.items():\n",
    "        print(f\"  {wert}: {proz:.2f}%\")\n",
    "else:\n",
    "    print(\"    - - -\")\n",
    "\n",
    "print(\"\\nGesamtverteilung HeartDisease:\")\n",
    "for wert, proz in verteilung_gesamt.items():\n",
    "    print(f\"  {wert}: {proz:.2f}%\")"
   ],
   "id": "50c8bb69ce6cdbfe",
   "outputs": [
    {
     "name": "stdout",
     "output_type": "stream",
     "text": [
      "Gesamtzeilen: 1319\n",
      "Anzahl mehrfach vorkommender Zeilen: 0\n",
      "Prozent mehrfach vorkommend: 0.00%\n",
      "\n",
      "Verteilung von Heartdisease innerhalb der Duplikate:\n",
      "    - - -\n",
      "\n",
      "Gesamtverteilung HeartDisease:\n",
      "  positive: 61.41%\n",
      "  negative: 38.59%\n"
     ]
    }
   ],
   "execution_count": 6
  },
  {
   "metadata": {},
   "cell_type": "code",
   "outputs": [],
   "execution_count": null,
   "source": [
    "# Duplikate entfernen\n",
    "df = df.drop_duplicates()\n"
   ],
   "id": "c0d3fa6085fa045c"
  },
  {
   "metadata": {},
   "cell_type": "code",
   "outputs": [],
   "execution_count": null,
   "source": [
    "# Fehlende Werte prüfen\n",
    "print(df.isnull().sum())"
   ],
   "id": "cf5cd3048d7a0860"
  },
  {
   "metadata": {
    "ExecuteTime": {
     "end_time": "2025-07-10T11:52:49.607839Z",
     "start_time": "2025-07-10T11:52:49.563814Z"
    }
   },
   "cell_type": "code",
   "source": [
    "# Typprüfung\n",
    "# also ob wirklich die im Datensatz angegebenen Datentypen und Beizeichnungen stimmen\n",
    "def check_values(df, column_type, valid_values):\n",
    "    if column_type not in df.columns:\n",
    "        print(f\"Spalte '{column_type}' nicht im Datensatz gefunden.\")\n",
    "        return\n",
    "\n",
    "    values = df[column_type].dropna().unique()\n",
    "    invalid = set(values).difference(set(valid_values))\n",
    "    if invalid:\n",
    "        print(f\" Ungültige Werte in Spalte '{column_type}': {(invalid)} \")\n",
    "    else:\n",
    "        print(f\"Alle Werte in Spalte '{column_type}' sind gültig \")\n",
    "\n",
    "\n",
    "valid_values_dict = {\n",
    "    \"Result\": {'negative', 'positive'}\n",
    "}\n",
    "\n",
    "\n",
    "def check_if_numeric(df, column_type, valid_values):\n",
    "    if column_type not in df.columns:\n",
    "        print(f\"Spalte {column_type}' nicht im Datensatz gefunden.\")\n",
    "        return\n",
    "    else:\n",
    "        non_numeric = df[column_type].dropna().apply(lambda x: not isinstance(x, (int, float)))\n",
    "        if non_numeric.any():\n",
    "            count_invalid = non_numeric.sum()\n",
    "            print(f\"{count_invalid} nicht numerische Werte in Spalte '{column_type}'\")\n",
    "            print(f\"Beispiele: {df[column_type][non_numeric].unique()[:5]}\")\n",
    "        else:\n",
    "            print(f\"Alle Werte in Spalte '{column_type}' sind numerisch.\")\n",
    "\n",
    "numeric_columns = [\n",
    "    'Age',\n",
    "    'Gender',\n",
    "    'Heart rate',\n",
    "    'Systolic blood pressure',\n",
    "    'Diastolic blood pressure',\n",
    "    'Blood sugar',\n",
    "    'CK-MB',\n",
    "    'Troponin',\n",
    "]\n",
    "# Anwendung:\n",
    "for column, valid_set in valid_values_dict.items():\n",
    "    check_values(df, column, valid_set)\n",
    "\n",
    "for col in numeric_columns:\n",
    "    check_if_numeric(df, col, numeric_columns)"
   ],
   "id": "d3f9bb8712e6e771",
   "outputs": [
    {
     "name": "stdout",
     "output_type": "stream",
     "text": [
      "Alle Werte in Spalte 'Result' sind gültig \n",
      "Alle Werte in Spalte 'Age' sind numerisch.\n",
      "Alle Werte in Spalte 'Gender' sind numerisch.\n",
      "Alle Werte in Spalte 'Heart rate' sind numerisch.\n",
      "Alle Werte in Spalte 'Systolic blood pressure' sind numerisch.\n",
      "Alle Werte in Spalte 'Diastolic blood pressure' sind numerisch.\n",
      "Alle Werte in Spalte 'Blood sugar' sind numerisch.\n",
      "Alle Werte in Spalte 'CK-MB' sind numerisch.\n",
      "Alle Werte in Spalte 'Troponin' sind numerisch.\n"
     ]
    }
   ],
   "execution_count": 9
  },
  {
   "metadata": {
    "ExecuteTime": {
     "end_time": "2025-07-10T12:20:53.300050Z",
     "start_time": "2025-07-10T12:20:53.247685Z"
    }
   },
   "cell_type": "code",
   "source": [
    "# Unrealistische Werte\n",
    "limits = {\n",
    "    'Age': (0, 120),\n",
    "    'Heart rate': (40, 200),\n",
    "    'Systolic blood pressure': (60, 220),\n",
    "    'Diastolic blood pressure': (40, 150),\n",
    "    'Blood sugar': (60, 300),\n",
    "    'CK-MB': (0, 50),\n",
    "    'Troponin': (0, 100),\n",
    "}\n",
    "\n",
    "print(f\"Anzahl an Zeilen (vorher): {len(df)}\")\n",
    "\n",
    "\n",
    "def show_outliers(df, limits_dict):\n",
    "    for col, (min_val, max_val) in limits_dict.items():\n",
    "        invalid = df[(df[col] < min_val) | (df[col] > max_val)][col]\n",
    "        print(f\"{col}: {len(invalid)} Werte außerhalb ({min_val}–{max_val})\")\n",
    "        if not invalid.empty:\n",
    "            print(f\"    Beispiele: {invalid.unique()[:5]}\")\n",
    "\n",
    "\n",
    "def remove_outliers(df, limits_dict):\n",
    "    condition = pd.Series([True] * len(df))\n",
    "    for col, (min_val, max_val) in limits_dict.items():\n",
    "        condition &= df[col].between(min_val, max_val)\n",
    "\n",
    "    return df[condition]\n",
    "\n",
    "\n",
    "def clip_outliers(df, limits_dict):\n",
    "    df_clipped = df.copy()\n",
    "    for col, (min_val, max_val) in limits_dict.items():\n",
    "        before = df_clipped[col]\n",
    "        below = before < min_val\n",
    "        above = before > max_val\n",
    "\n",
    "        df_clipped[col] = before.clip(lower=min_val, upper=max_val)\n",
    "    print(\"\\nClipping angewenden:\")\n",
    "    df = df_clipped\n",
    "    show_outliers(df, limits)\n",
    "    return df_clipped\n",
    "\n",
    "\n",
    "show_outliers(df, limits)\n",
    "clip_outliers(df, limits)\n",
    "print(f\"\\nNeue Anzahl an Zeilen (nach Filter): {len(df)}\")"
   ],
   "id": "b474f28e09ea4bf8",
   "outputs": [
    {
     "name": "stdout",
     "output_type": "stream",
     "text": [
      "Anzahl an Zeilen (vorher): 1319\n",
      "Age: 0 Werte außerhalb (0–120)\n",
      "Heart rate: 6 Werte außerhalb (40–200)\n",
      "    Beispiele: [1111   20   36]\n",
      "Systolic blood pressure: 4 Werte außerhalb (60–220)\n",
      "    Beispiele: [ 42 223]\n",
      "Diastolic blood pressure: 2 Werte außerhalb (40–150)\n",
      "    Beispiele: [ 38 154]\n",
      "Blood sugar: 78 Werte außerhalb (60–300)\n",
      "    Beispiele: [319. 301. 321. 334. 392.]\n",
      "CK-MB: 86 Werte außerhalb (0–50)\n",
      "    Beispiele: [300.    94.79  50.46 165.1   96.08]\n",
      "Troponin: 0 Werte außerhalb (0–100)\n",
      "\n",
      "Clipping angewenden:\n",
      "Age: 0 Werte außerhalb (0–120)\n",
      "Heart rate: 0 Werte außerhalb (40–200)\n",
      "Systolic blood pressure: 0 Werte außerhalb (60–220)\n",
      "Diastolic blood pressure: 0 Werte außerhalb (40–150)\n",
      "Blood sugar: 0 Werte außerhalb (60–300)\n",
      "CK-MB: 0 Werte außerhalb (0–50)\n",
      "Troponin: 0 Werte außerhalb (0–100)\n",
      "\n",
      "Neue Anzahl an Zeilen (nach Filter): 1319\n"
     ]
    }
   ],
   "execution_count": 14
  },
  {
   "metadata": {
    "ExecuteTime": {
     "end_time": "2025-07-10T12:21:37.179616Z",
     "start_time": "2025-07-10T12:21:37.017922Z"
    }
   },
   "cell_type": "code",
   "source": [
    "#Bias/Korrelation\n",
    "\n",
    "print(\"Altersverteilung\")\n",
    "print(df['Age'].describe())\n",
    "\n",
    "plt.figure(figsize=(8,5))\n",
    "plt.hist(df['Age'], bins=20, color='skyblue', edgecolor='black')\n",
    "plt.title('Altersverteilung der Patienten')\n",
    "plt.xlabel('Alter [Jahre]')\n",
    "plt.ylabel('Anzahl')\n",
    "plt.show()"
   ],
   "id": "17c9392ef0134465",
   "outputs": [
    {
     "name": "stdout",
     "output_type": "stream",
     "text": [
      "=== Altersverteilung ===\n",
      "count    1319.000000\n",
      "mean       56.191812\n",
      "std        13.647315\n",
      "min        14.000000\n",
      "25%        47.000000\n",
      "50%        58.000000\n",
      "75%        65.000000\n",
      "max       103.000000\n",
      "Name: Age, dtype: float64\n"
     ]
    },
    {
     "data": {
      "text/plain": [
       "<Figure size 800x500 with 1 Axes>"
      ],
      "image/png": "[encoded data removed]"
     },
     "metadata": {},
     "output_type": "display_data"
    }
   ],
   "execution_count": 15
  },
  {
   "metadata": {},
   "cell_type": "code",
   "outputs": [],
   "execution_count": null,
   "source": [
    "print(\"Geschlechterverteilung \")\n",
    "gender_counts = df['Sex'].value_counts()\n",
    "gender_percent = df['Sex'].value_counts(normalize=True) * 100\n",
    "\n",
    "for sex in gender_counts.index:\n",
    "    print(f\"{sex}: {gender_counts[sex]} Patienten ({gender_percent[sex]:.2f}%)\")\n",
    "\n",
    "plt.figure(figsize=(6,4))\n",
    "gender_counts.plot(kind='bar', color=['lightcoral', 'lightblue'])\n",
    "plt.title('Verteilung der Geschlechter')\n",
    "plt.xlabel('Geschlecht')\n",
    "plt.ylabel('Anzahl')\n",
    "plt.xticks(rotation=0)\n",
    "plt.show()"
   ],
   "id": "9c4176dba15e081b"
  }
 ],
 "metadata": {
  "kernelspec": {
   "display_name": "Python 3",
   "language": "python",
   "name": "python3"
  },
  "language_info": {
   "codemirror_mode": {
    "name": "ipython",
    "version": 2
   },
   "file_extension": ".py",
   "mimetype": "text/x-python",
   "name": "python",
   "nbconvert_exporter": "python",
   "pygments_lexer": "ipython2",
   "version": "2.7.6"
  }
 },
 "nbformat": 4,
 "nbformat_minor": 5
}
