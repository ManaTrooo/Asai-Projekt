{
 "cells": [
  {
   "cell_type": "code",
   "id": "initial_id",
   "metadata": {
    "collapsed": true,
    "ExecuteTime": {
     "end_time": "2025-07-09T17:40:10.069493Z",
     "start_time": "2025-07-09T17:40:10.068048Z"
    }
   },
   "source": [
    "import pandas as pd\n",
    "import matplotlib.pyplot as plt\n",
    "import seaborn as sns"
   ],
   "outputs": [],
   "execution_count": 1
  },
  {
   "metadata": {
    "ExecuteTime": {
     "end_time": "2025-07-09T17:40:11.215136Z",
     "start_time": "2025-07-09T17:40:10.073039Z"
    }
   },
   "cell_type": "code",
   "source": [
    "#Datei einlesen\n",
    "#df = pd.read_csv(r\"C:\\Users\\zahri\\anaconda_projects\\AsaiProjekt\\Asai-Projekt\\Medicaldataset.csv\")\n",
    "df = pd.read_csv(\"/Users/aurelia/Documents/GitHub/Asai-Projekt/Medicaldataset.csv\")\n",
    "#df = pd.read_csv(r\"C:\\Users\\Aurelia\\OneDrive\\Dokumente\\GitHub\\Asai-Projekt\\Medicaldataset.csv\")\n",
    "df_orginal = df.copy()"
   ],
   "id": "a983449705b723a2",
   "outputs": [],
   "execution_count": 2
  },
  {
   "metadata": {
    "ExecuteTime": {
     "end_time": "2025-07-09T17:40:11.361115Z",
     "start_time": "2025-07-09T17:40:11.321134Z"
    }
   },
   "cell_type": "code",
   "source": [
    "#DataFrame-Beispiel Daten\n",
    "styled_df = df.head(10).style.set_table_styles([\n",
    "    {'selector': 'thead th', 'props': [('background-color', '#1f77b4'), ('color', 'white'), ('font-weight', 'bold')]},\n",
    "    {'selector': 'tbody td', 'props': [('border', '1px solid #ddd'), ('text-align', 'center')]}\n",
    "]).set_properties(**{'text-align': 'center'})\n",
    "\n",
    "styled_df"
   ],
   "id": "f7e567e467c9eb84",
   "outputs": [
    {
     "data": {
      "text/plain": [
       "<pandas.io.formats.style.Styler at 0x105c28a40>"
      ],
      "text/html": [
       "<style type=\"text/css\">\n",
       "#T_2c122 thead th {\n",
       "  background-color: #1f77b4;\n",
       "  color: white;\n",
       "  font-weight: bold;\n",
       "}\n",
       "#T_2c122 tbody td {\n",
       "  border: 1px solid #ddd;\n",
       "  text-align: center;\n",
       "}\n",
       "#T_2c122_row0_col0, #T_2c122_row0_col1, #T_2c122_row0_col2, #T_2c122_row0_col3, #T_2c122_row0_col4, #T_2c122_row0_col5, #T_2c122_row0_col6, #T_2c122_row0_col7, #T_2c122_row0_col8, #T_2c122_row1_col0, #T_2c122_row1_col1, #T_2c122_row1_col2, #T_2c122_row1_col3, #T_2c122_row1_col4, #T_2c122_row1_col5, #T_2c122_row1_col6, #T_2c122_row1_col7, #T_2c122_row1_col8, #T_2c122_row2_col0, #T_2c122_row2_col1, #T_2c122_row2_col2, #T_2c122_row2_col3, #T_2c122_row2_col4, #T_2c122_row2_col5, #T_2c122_row2_col6, #T_2c122_row2_col7, #T_2c122_row2_col8, #T_2c122_row3_col0, #T_2c122_row3_col1, #T_2c122_row3_col2, #T_2c122_row3_col3, #T_2c122_row3_col4, #T_2c122_row3_col5, #T_2c122_row3_col6, #T_2c122_row3_col7, #T_2c122_row3_col8, #T_2c122_row4_col0, #T_2c122_row4_col1, #T_2c122_row4_col2, #T_2c122_row4_col3, #T_2c122_row4_col4, #T_2c122_row4_col5, #T_2c122_row4_col6, #T_2c122_row4_col7, #T_2c122_row4_col8, #T_2c122_row5_col0, #T_2c122_row5_col1, #T_2c122_row5_col2, #T_2c122_row5_col3, #T_2c122_row5_col4, #T_2c122_row5_col5, #T_2c122_row5_col6, #T_2c122_row5_col7, #T_2c122_row5_col8, #T_2c122_row6_col0, #T_2c122_row6_col1, #T_2c122_row6_col2, #T_2c122_row6_col3, #T_2c122_row6_col4, #T_2c122_row6_col5, #T_2c122_row6_col6, #T_2c122_row6_col7, #T_2c122_row6_col8, #T_2c122_row7_col0, #T_2c122_row7_col1, #T_2c122_row7_col2, #T_2c122_row7_col3, #T_2c122_row7_col4, #T_2c122_row7_col5, #T_2c122_row7_col6, #T_2c122_row7_col7, #T_2c122_row7_col8, #T_2c122_row8_col0, #T_2c122_row8_col1, #T_2c122_row8_col2, #T_2c122_row8_col3, #T_2c122_row8_col4, #T_2c122_row8_col5, #T_2c122_row8_col6, #T_2c122_row8_col7, #T_2c122_row8_col8, #T_2c122_row9_col0, #T_2c122_row9_col1, #T_2c122_row9_col2, #T_2c122_row9_col3, #T_2c122_row9_col4, #T_2c122_row9_col5, #T_2c122_row9_col6, #T_2c122_row9_col7, #T_2c122_row9_col8 {\n",
       "  text-align: center;\n",
       "}\n",
       "</style>\n",
       "<table id=\"T_2c122\">\n",
       "  <thead>\n",
       "    <tr>\n",
       "      <th class=\"blank level0\" >&nbsp;</th>\n",
       "      <th id=\"T_2c122_level0_col0\" class=\"col_heading level0 col0\" >Age</th>\n",
       "      <th id=\"T_2c122_level0_col1\" class=\"col_heading level0 col1\" >Gender</th>\n",
       "      <th id=\"T_2c122_level0_col2\" class=\"col_heading level0 col2\" >Heart rate</th>\n",
       "      <th id=\"T_2c122_level0_col3\" class=\"col_heading level0 col3\" >Systolic blood pressure</th>\n",
       "      <th id=\"T_2c122_level0_col4\" class=\"col_heading level0 col4\" >Diastolic blood pressure</th>\n",
       "      <th id=\"T_2c122_level0_col5\" class=\"col_heading level0 col5\" >Blood sugar</th>\n",
       "      <th id=\"T_2c122_level0_col6\" class=\"col_heading level0 col6\" >CK-MB</th>\n",
       "      <th id=\"T_2c122_level0_col7\" class=\"col_heading level0 col7\" >Troponin</th>\n",
       "      <th id=\"T_2c122_level0_col8\" class=\"col_heading level0 col8\" >Result</th>\n",
       "    </tr>\n",
       "  </thead>\n",
       "  <tbody>\n",
       "    <tr>\n",
       "      <th id=\"T_2c122_level0_row0\" class=\"row_heading level0 row0\" >0</th>\n",
       "      <td id=\"T_2c122_row0_col0\" class=\"data row0 col0\" >64</td>\n",
       "      <td id=\"T_2c122_row0_col1\" class=\"data row0 col1\" >1</td>\n",
       "      <td id=\"T_2c122_row0_col2\" class=\"data row0 col2\" >66</td>\n",
       "      <td id=\"T_2c122_row0_col3\" class=\"data row0 col3\" >160</td>\n",
       "      <td id=\"T_2c122_row0_col4\" class=\"data row0 col4\" >83</td>\n",
       "      <td id=\"T_2c122_row0_col5\" class=\"data row0 col5\" >160.000000</td>\n",
       "      <td id=\"T_2c122_row0_col6\" class=\"data row0 col6\" >1.800000</td>\n",
       "      <td id=\"T_2c122_row0_col7\" class=\"data row0 col7\" >0.012000</td>\n",
       "      <td id=\"T_2c122_row0_col8\" class=\"data row0 col8\" >negative</td>\n",
       "    </tr>\n",
       "    <tr>\n",
       "      <th id=\"T_2c122_level0_row1\" class=\"row_heading level0 row1\" >1</th>\n",
       "      <td id=\"T_2c122_row1_col0\" class=\"data row1 col0\" >21</td>\n",
       "      <td id=\"T_2c122_row1_col1\" class=\"data row1 col1\" >1</td>\n",
       "      <td id=\"T_2c122_row1_col2\" class=\"data row1 col2\" >94</td>\n",
       "      <td id=\"T_2c122_row1_col3\" class=\"data row1 col3\" >98</td>\n",
       "      <td id=\"T_2c122_row1_col4\" class=\"data row1 col4\" >46</td>\n",
       "      <td id=\"T_2c122_row1_col5\" class=\"data row1 col5\" >296.000000</td>\n",
       "      <td id=\"T_2c122_row1_col6\" class=\"data row1 col6\" >6.750000</td>\n",
       "      <td id=\"T_2c122_row1_col7\" class=\"data row1 col7\" >1.060000</td>\n",
       "      <td id=\"T_2c122_row1_col8\" class=\"data row1 col8\" >positive</td>\n",
       "    </tr>\n",
       "    <tr>\n",
       "      <th id=\"T_2c122_level0_row2\" class=\"row_heading level0 row2\" >2</th>\n",
       "      <td id=\"T_2c122_row2_col0\" class=\"data row2 col0\" >55</td>\n",
       "      <td id=\"T_2c122_row2_col1\" class=\"data row2 col1\" >1</td>\n",
       "      <td id=\"T_2c122_row2_col2\" class=\"data row2 col2\" >64</td>\n",
       "      <td id=\"T_2c122_row2_col3\" class=\"data row2 col3\" >160</td>\n",
       "      <td id=\"T_2c122_row2_col4\" class=\"data row2 col4\" >77</td>\n",
       "      <td id=\"T_2c122_row2_col5\" class=\"data row2 col5\" >270.000000</td>\n",
       "      <td id=\"T_2c122_row2_col6\" class=\"data row2 col6\" >1.990000</td>\n",
       "      <td id=\"T_2c122_row2_col7\" class=\"data row2 col7\" >0.003000</td>\n",
       "      <td id=\"T_2c122_row2_col8\" class=\"data row2 col8\" >negative</td>\n",
       "    </tr>\n",
       "    <tr>\n",
       "      <th id=\"T_2c122_level0_row3\" class=\"row_heading level0 row3\" >3</th>\n",
       "      <td id=\"T_2c122_row3_col0\" class=\"data row3 col0\" >64</td>\n",
       "      <td id=\"T_2c122_row3_col1\" class=\"data row3 col1\" >1</td>\n",
       "      <td id=\"T_2c122_row3_col2\" class=\"data row3 col2\" >70</td>\n",
       "      <td id=\"T_2c122_row3_col3\" class=\"data row3 col3\" >120</td>\n",
       "      <td id=\"T_2c122_row3_col4\" class=\"data row3 col4\" >55</td>\n",
       "      <td id=\"T_2c122_row3_col5\" class=\"data row3 col5\" >270.000000</td>\n",
       "      <td id=\"T_2c122_row3_col6\" class=\"data row3 col6\" >13.870000</td>\n",
       "      <td id=\"T_2c122_row3_col7\" class=\"data row3 col7\" >0.122000</td>\n",
       "      <td id=\"T_2c122_row3_col8\" class=\"data row3 col8\" >positive</td>\n",
       "    </tr>\n",
       "    <tr>\n",
       "      <th id=\"T_2c122_level0_row4\" class=\"row_heading level0 row4\" >4</th>\n",
       "      <td id=\"T_2c122_row4_col0\" class=\"data row4 col0\" >55</td>\n",
       "      <td id=\"T_2c122_row4_col1\" class=\"data row4 col1\" >1</td>\n",
       "      <td id=\"T_2c122_row4_col2\" class=\"data row4 col2\" >64</td>\n",
       "      <td id=\"T_2c122_row4_col3\" class=\"data row4 col3\" >112</td>\n",
       "      <td id=\"T_2c122_row4_col4\" class=\"data row4 col4\" >65</td>\n",
       "      <td id=\"T_2c122_row4_col5\" class=\"data row4 col5\" >300.000000</td>\n",
       "      <td id=\"T_2c122_row4_col6\" class=\"data row4 col6\" >1.080000</td>\n",
       "      <td id=\"T_2c122_row4_col7\" class=\"data row4 col7\" >0.003000</td>\n",
       "      <td id=\"T_2c122_row4_col8\" class=\"data row4 col8\" >negative</td>\n",
       "    </tr>\n",
       "    <tr>\n",
       "      <th id=\"T_2c122_level0_row5\" class=\"row_heading level0 row5\" >5</th>\n",
       "      <td id=\"T_2c122_row5_col0\" class=\"data row5 col0\" >58</td>\n",
       "      <td id=\"T_2c122_row5_col1\" class=\"data row5 col1\" >0</td>\n",
       "      <td id=\"T_2c122_row5_col2\" class=\"data row5 col2\" >61</td>\n",
       "      <td id=\"T_2c122_row5_col3\" class=\"data row5 col3\" >112</td>\n",
       "      <td id=\"T_2c122_row5_col4\" class=\"data row5 col4\" >58</td>\n",
       "      <td id=\"T_2c122_row5_col5\" class=\"data row5 col5\" >87.000000</td>\n",
       "      <td id=\"T_2c122_row5_col6\" class=\"data row5 col6\" >1.830000</td>\n",
       "      <td id=\"T_2c122_row5_col7\" class=\"data row5 col7\" >0.004000</td>\n",
       "      <td id=\"T_2c122_row5_col8\" class=\"data row5 col8\" >negative</td>\n",
       "    </tr>\n",
       "    <tr>\n",
       "      <th id=\"T_2c122_level0_row6\" class=\"row_heading level0 row6\" >6</th>\n",
       "      <td id=\"T_2c122_row6_col0\" class=\"data row6 col0\" >32</td>\n",
       "      <td id=\"T_2c122_row6_col1\" class=\"data row6 col1\" >0</td>\n",
       "      <td id=\"T_2c122_row6_col2\" class=\"data row6 col2\" >40</td>\n",
       "      <td id=\"T_2c122_row6_col3\" class=\"data row6 col3\" >179</td>\n",
       "      <td id=\"T_2c122_row6_col4\" class=\"data row6 col4\" >68</td>\n",
       "      <td id=\"T_2c122_row6_col5\" class=\"data row6 col5\" >102.000000</td>\n",
       "      <td id=\"T_2c122_row6_col6\" class=\"data row6 col6\" >0.710000</td>\n",
       "      <td id=\"T_2c122_row6_col7\" class=\"data row6 col7\" >0.003000</td>\n",
       "      <td id=\"T_2c122_row6_col8\" class=\"data row6 col8\" >negative</td>\n",
       "    </tr>\n",
       "    <tr>\n",
       "      <th id=\"T_2c122_level0_row7\" class=\"row_heading level0 row7\" >7</th>\n",
       "      <td id=\"T_2c122_row7_col0\" class=\"data row7 col0\" >63</td>\n",
       "      <td id=\"T_2c122_row7_col1\" class=\"data row7 col1\" >1</td>\n",
       "      <td id=\"T_2c122_row7_col2\" class=\"data row7 col2\" >60</td>\n",
       "      <td id=\"T_2c122_row7_col3\" class=\"data row7 col3\" >214</td>\n",
       "      <td id=\"T_2c122_row7_col4\" class=\"data row7 col4\" >82</td>\n",
       "      <td id=\"T_2c122_row7_col5\" class=\"data row7 col5\" >87.000000</td>\n",
       "      <td id=\"T_2c122_row7_col6\" class=\"data row7 col6\" >300.000000</td>\n",
       "      <td id=\"T_2c122_row7_col7\" class=\"data row7 col7\" >2.370000</td>\n",
       "      <td id=\"T_2c122_row7_col8\" class=\"data row7 col8\" >positive</td>\n",
       "    </tr>\n",
       "    <tr>\n",
       "      <th id=\"T_2c122_level0_row8\" class=\"row_heading level0 row8\" >8</th>\n",
       "      <td id=\"T_2c122_row8_col0\" class=\"data row8 col0\" >44</td>\n",
       "      <td id=\"T_2c122_row8_col1\" class=\"data row8 col1\" >0</td>\n",
       "      <td id=\"T_2c122_row8_col2\" class=\"data row8 col2\" >60</td>\n",
       "      <td id=\"T_2c122_row8_col3\" class=\"data row8 col3\" >154</td>\n",
       "      <td id=\"T_2c122_row8_col4\" class=\"data row8 col4\" >81</td>\n",
       "      <td id=\"T_2c122_row8_col5\" class=\"data row8 col5\" >135.000000</td>\n",
       "      <td id=\"T_2c122_row8_col6\" class=\"data row8 col6\" >2.350000</td>\n",
       "      <td id=\"T_2c122_row8_col7\" class=\"data row8 col7\" >0.004000</td>\n",
       "      <td id=\"T_2c122_row8_col8\" class=\"data row8 col8\" >negative</td>\n",
       "    </tr>\n",
       "    <tr>\n",
       "      <th id=\"T_2c122_level0_row9\" class=\"row_heading level0 row9\" >9</th>\n",
       "      <td id=\"T_2c122_row9_col0\" class=\"data row9 col0\" >67</td>\n",
       "      <td id=\"T_2c122_row9_col1\" class=\"data row9 col1\" >1</td>\n",
       "      <td id=\"T_2c122_row9_col2\" class=\"data row9 col2\" >61</td>\n",
       "      <td id=\"T_2c122_row9_col3\" class=\"data row9 col3\" >160</td>\n",
       "      <td id=\"T_2c122_row9_col4\" class=\"data row9 col4\" >95</td>\n",
       "      <td id=\"T_2c122_row9_col5\" class=\"data row9 col5\" >100.000000</td>\n",
       "      <td id=\"T_2c122_row9_col6\" class=\"data row9 col6\" >2.840000</td>\n",
       "      <td id=\"T_2c122_row9_col7\" class=\"data row9 col7\" >0.011000</td>\n",
       "      <td id=\"T_2c122_row9_col8\" class=\"data row9 col8\" >negative</td>\n",
       "    </tr>\n",
       "  </tbody>\n",
       "</table>\n"
      ]
     },
     "execution_count": 3,
     "metadata": {},
     "output_type": "execute_result"
    }
   ],
   "execution_count": 3
  },
  {
   "metadata": {
    "ExecuteTime": {
     "end_time": "2025-07-09T17:41:21.385678Z",
     "start_time": "2025-07-09T17:41:21.310134Z"
    }
   },
   "cell_type": "code",
   "source": [
    "#Balkendiagramm Anteil Herzerkrankte\n",
    "\n",
    "# Balkendiagramm OHNE FutureWarning\n",
    "ax = sns.countplot(x='Result', hue='Result', data=df, palette=['#00d9ff', '#ff0000'], legend=False)\n",
    "\n",
    "\n",
    "# Achsentitel\n",
    "plt.title('Anzahl der Patienten mit / ohne Herzkrankheit')\n",
    "plt.xlabel('Herzkrankheit (negative = Nein, positive = Ja)')\n",
    "plt.ylabel('Anzahl der Patienten')\n",
    "\n",
    "# Zahlen über Balken schreiben\n",
    "for p in ax.patches:\n",
    "    height = p.get_height()\n",
    "    ax.annotate(f'{int(height)}',\n",
    "                (p.get_x() + p.get_width() / 2, height),\n",
    "                ha='center', va='bottom',\n",
    "                fontsize=11, fontweight='bold')\n",
    "\n",
    "# Plot anzeigen\n",
    "plt.show()\n",
    "print(f\"Anzahl der Zeilen (Patienten): {df.shape[0]}\")\n",
    "print(f\"Anzahl der Spalten (Features): {df.shape[1]}\")"
   ],
   "id": "596718f0c0062206",
   "outputs": [
    {
     "data": {
      "text/plain": [
       "<Figure size 640x480 with 1 Axes>"
      ],
      "image/png": "[encoded data removed]"
     },
     "metadata": {},
     "output_type": "display_data"
    },
    {
     "name": "stdout",
     "output_type": "stream",
     "text": [
      "Anzahl der Zeilen (Patienten): 1319\n",
      "Anzahl der Spalten (Features): 9\n"
     ]
    }
   ],
   "execution_count": 5
  }
 ],
 "metadata": {
  "kernelspec": {
   "display_name": "Python 3",
   "language": "python",
   "name": "python3"
  },
  "language_info": {
   "codemirror_mode": {
    "name": "ipython",
    "version": 2
   },
   "file_extension": ".py",
   "mimetype": "text/x-python",
   "name": "python",
   "nbconvert_exporter": "python",
   "pygments_lexer": "ipython2",
   "version": "2.7.6"
  }
 },
 "nbformat": 4,
 "nbformat_minor": 5
}
