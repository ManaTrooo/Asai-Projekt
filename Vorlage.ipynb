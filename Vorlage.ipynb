{
 "cells": [
  {
   "cell_type": "code",
   "execution_count": null,
   "id": "initial_id",
   "metadata": {
    "collapsed": true
   },
   "outputs": [],
   "source": [
    "import pandas as pd\n",
    "import matplotlib.pyplot as plt\n",
    "import seaborn as sns"
   ]
  },
  {
   "metadata": {},
   "cell_type": "code",
   "outputs": [],
   "execution_count": null,
   "source": [
    "#Datei einlesen\n",
    "df = pd.read_csv(r\"C:\\Users\\zahri\\anaconda_projects\\AsaiProjekt\\Asai-Projekt\\heart_2020_cleaned.csv\")\n",
    "#df = pd.read_csv(\"/Users/aurelia/Documents/GitHub/Asai-Projekt/heart_2020_cleaned.csv\")\n",
    "df_orginal = df.copy()"
   ],
   "id": "e7e329c72a95f5b7"
  },
  {
   "metadata": {},
   "cell_type": "code",
   "outputs": [],
   "execution_count": null,
   "source": [
    "#DataFrame-Beispiel Daten\n",
    "styled_df = df.head(10).style.set_table_styles([\n",
    "    {'selector': 'thead th', 'props': [('background-color', '#1f77b4'), ('color', 'white'), ('font-weight', 'bold')]},\n",
    "    {'selector': 'tbody td', 'props': [('border', '1px solid #ddd'), ('text-align', 'center')]}\n",
    "]).set_properties(**{'text-align': 'center'})\n",
    "\n",
    "styled_df"
   ],
   "id": "8cab406dc3042155"
  },
  {
   "metadata": {
    "ExecuteTime": {
     "end_time": "2025-07-02T13:04:21.714343Z",
     "start_time": "2025-07-02T13:04:21.331652Z"
    }
   },
   "cell_type": "code",
   "source": [
    "#Balkendiagramm Anteil Herzerkrankte\n",
    "\n",
    "# Balkendiagramm OHNE FutureWarning\n",
    "ax = sns.countplot(x='HeartDisease', hue='HeartDisease', data=df, palette='Set2', legend=False)\n",
    "\n",
    "\n",
    "# Achsentitel\n",
    "plt.title('Anzahl der Patienten mit / ohne Herzkrankheit')\n",
    "plt.xlabel('Herzkrankheit (0 = Nein, 1 = Ja)')\n",
    "plt.ylabel('Anzahl der Patienten')\n",
    "\n",
    "# Zahlen über Balken schreiben\n",
    "for p in ax.patches:\n",
    "    height = p.get_height()\n",
    "    ax.annotate(f'{int(height)}',\n",
    "                (p.get_x() + p.get_width() / 2, height),\n",
    "                ha='center', va='bottom',\n",
    "                fontsize=11, fontweight='bold')\n",
    "\n",
    "# Plot anzeigen\n",
    "\n",
    "plt.show()"
   ],
   "id": "5bcd78d935e227c7",
   "outputs": [
    {
     "ename": "NameError",
     "evalue": "name 'sns' is not defined",
     "output_type": "error",
     "traceback": [
      "\u001B[31m---------------------------------------------------------------------------\u001B[39m",
      "\u001B[31mNameError\u001B[39m                                 Traceback (most recent call last)",
      "\u001B[36mCell\u001B[39m\u001B[36m \u001B[39m\u001B[32mIn[1]\u001B[39m\u001B[32m, line 4\u001B[39m\n\u001B[32m      1\u001B[39m \u001B[38;5;66;03m#Balkendiagramm Anteil Herzerkrankte\u001B[39;00m\n\u001B[32m      2\u001B[39m \n\u001B[32m      3\u001B[39m \u001B[38;5;66;03m# Balkendiagramm OHNE FutureWarning\u001B[39;00m\n\u001B[32m----> \u001B[39m\u001B[32m4\u001B[39m ax = sns.countplot(x=\u001B[33m'\u001B[39m\u001B[33mHeartDisease\u001B[39m\u001B[33m'\u001B[39m, hue=\u001B[33m'\u001B[39m\u001B[33mHeartDisease\u001B[39m\u001B[33m'\u001B[39m, data=df, palette=\u001B[33m'\u001B[39m\u001B[33mSet2\u001B[39m\u001B[33m'\u001B[39m, legend=\u001B[38;5;28;01mFalse\u001B[39;00m)\n\u001B[32m      7\u001B[39m \u001B[38;5;66;03m# Achsentitel\u001B[39;00m\n\u001B[32m      8\u001B[39m plt.title(\u001B[33m'\u001B[39m\u001B[33mAnzahl der Patienten mit / ohne Herzkrankheit\u001B[39m\u001B[33m'\u001B[39m)\n",
      "\u001B[31mNameError\u001B[39m: name 'sns' is not defined"
     ]
    }
   ],
   "execution_count": 1
  },
  {
   "metadata": {},
   "cell_type": "code",
   "outputs": [],
   "execution_count": null,
   "source": [
    "#Daten Vorverarbeitung\n",
    "#Duplikate checken\n",
    "# Alle duplizierten Zeilen (inkl. Erstvorkommen)\n",
    "duplikate_df = df[df.duplicated(keep=False)]\n",
    "\n",
    "# Anzahl und Prozent Duplikate\n",
    "anzahl_duplikate = len(duplikate_df)\n",
    "gesamt = len(df)\n",
    "prozent_duplikate = (anzahl_duplikate / gesamt) * 100\n",
    "\n",
    "# Verteilung HeartDisease in den Duplikaten\n",
    "verteilung_duplikate = duplikate_df['HeartDisease'].value_counts(normalize=True) * 100\n",
    "\n",
    "# Verteilung HeartDisease im gesamten DataFrame\n",
    "verteilung_gesamt = df['HeartDisease'].value_counts(normalize=True) * 100\n",
    "\n",
    "# Ausgabe\n",
    "print(\"Gesamtzeilen:\", gesamt)\n",
    "print(\"Anzahl mehrfach vorkommender Zeilen:\", anzahl_duplikate)\n",
    "print(f\"Prozent mehrfach vorkommend: {prozent_duplikate:.2f}%\\n\")\n",
    "\n",
    "print(\"Verteilung innerhalb der Duplikate HeartDisease:\")\n",
    "for wert, proz in verteilung_duplikate.items():\n",
    "    print(f\"  {wert}: {proz:.2f}%\")\n",
    "\n",
    "print(\"\\nGesamtverteilung HeartDisease:\")\n",
    "for wert, proz in verteilung_gesamt.items():\n",
    "    print(f\"  {wert}: {proz:.2f}%\")"
   ],
   "id": "548107d4b50b4fbd"
  },
  {
   "metadata": {},
   "cell_type": "code",
   "outputs": [],
   "execution_count": null,
   "source": [
    "#Duplikate Entfernen\n",
    "# Alle vollständig doppelten Zeilen entfernen (exkl. erstes Vorkommen)\n",
    "df_clean = df[~df.duplicated()]\n",
    "\n",
    "# Neue Verteilung berechnen\n",
    "verteilung_ohne_duplikate = df_clean['HeartDisease'].value_counts(normalize=True) * 100\n",
    "\n",
    "# Ausgabe\n",
    "print(\"Verteilung nach Entfernen aller doppelten Zeilen:\")\n",
    "for wert, proz in verteilung_ohne_duplikate.items():\n",
    "    print(f\"  {wert}: {proz:.2f}%\")\n"
   ],
   "id": "1874f7ba03604d61"
  },
  {
   "metadata": {},
   "cell_type": "code",
   "outputs": [],
   "execution_count": null,
   "source": "#Formatierung/Typprüfung",
   "id": "94be7c5a4e4077f3"
  },
  {
   "metadata": {},
   "cell_type": "code",
   "outputs": [],
   "execution_count": null,
   "source": "#checken fehlende Werte",
   "id": "83c30efa77337b16"
  },
  {
   "metadata": {},
   "cell_type": "code",
   "outputs": [],
   "execution_count": null,
   "source": "#behandeln fehlende",
   "id": "c378d081d882445c"
  },
  {
   "metadata": {},
   "cell_type": "code",
   "outputs": [],
   "execution_count": null,
   "source": "#checken ob alle spalten Relevant",
   "id": "62c64f274468b339"
  },
  {
   "metadata": {},
   "cell_type": "code",
   "outputs": [],
   "execution_count": null,
   "source": "#Unrealistische Werte, anhand von sinvolligkeit in der Medizin",
   "id": "563f7375c0dc27ea"
  },
  {
   "metadata": {},
   "cell_type": "code",
   "outputs": [],
   "execution_count": null,
   "source": "#Biases Prüfen, bsp. gibt es viel mehr über 50 jährige als unter oder so",
   "id": "661dbbbcd421d953"
  },
  {
   "metadata": {},
   "cell_type": "code",
   "outputs": [],
   "execution_count": null,
   "source": "#Feature Engineering",
   "id": "495579a0cee404a"
  },
  {
   "metadata": {},
   "cell_type": "code",
   "outputs": [],
   "execution_count": null,
   "source": "#Skalierung",
   "id": "cf311d4252d918e3"
  },
  {
   "metadata": {},
   "cell_type": "code",
   "outputs": [],
   "execution_count": null,
   "source": "#One Hot Encoding",
   "id": "9a76e476921da513"
  },
  {
   "metadata": {},
   "cell_type": "code",
   "outputs": [],
   "execution_count": null,
   "source": "#Balancierung",
   "id": "375e6d3b4612273c"
  }
 ],
 "metadata": {
  "kernelspec": {
   "display_name": "Python 3",
   "language": "python",
   "name": "python3"
  },
  "language_info": {
   "codemirror_mode": {
    "name": "ipython",
    "version": 2
   },
   "file_extension": ".py",
   "mimetype": "text/x-python",
   "name": "python",
   "nbconvert_exporter": "python",
   "pygments_lexer": "ipython2",
   "version": "2.7.6"
  }
 },
 "nbformat": 4,
 "nbformat_minor": 5
}
