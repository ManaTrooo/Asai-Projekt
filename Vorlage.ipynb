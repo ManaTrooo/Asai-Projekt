{
 "cells": [
  {
   "cell_type": "code",
   "execution_count": null,
   "id": "initial_id",
   "metadata": {
    "collapsed": true
   },
   "outputs": [],
   "source": [
    "import pandas as pd\n",
    "import matplotlib.pyplot as plt\n",
    "import seaborn as sns"
   ]
  },
  {
   "metadata": {},
   "cell_type": "code",
   "outputs": [],
   "execution_count": null,
   "source": [
    "#Datei einlesen\n",
    "df = pd.read_csv(r\"C:\\Users\\zahri\\anaconda_projects\\AsaiProjekt\\Asai-Projekt\\heart_2020_cleaned.csv\")\n",
    "#df = pd.read_csv(\"/Users/aurelia/Documents/GitHub/Asai-Projekt/heart_2020_cleaned.csv\")\n",
    "df_orginal = df.copy()"
   ],
   "id": "e7e329c72a95f5b7"
  },
  {
   "metadata": {},
   "cell_type": "code",
   "outputs": [],
   "execution_count": null,
   "source": [
    "#DataFrame-Beispiel Daten\n",
    "styled_df = df.head(10).style.set_table_styles([\n",
    "    {'selector': 'thead th', 'props': [('background-color', '#1f77b4'), ('color', 'white'), ('font-weight', 'bold')]},\n",
    "    {'selector': 'tbody td', 'props': [('border', '1px solid #ddd'), ('text-align', 'center')]}\n",
    "]).set_properties(**{'text-align': 'center'})\n",
    "\n",
    "styled_df"
   ],
   "id": "8cab406dc3042155"
  },
  {
   "metadata": {},
   "cell_type": "code",
   "outputs": [],
   "execution_count": null,
   "source": [
    "#Balkendiagramm Anteil Herzerkrankte\n",
    "\n",
    "# Balkendiagramm OHNE FutureWarning\n",
    "ax = sns.countplot(x='HeartDisease', hue='HeartDisease', data=df, palette='Set2', legend=False)\n",
    "\n",
    "\n",
    "# Achsentitel\n",
    "plt.title('Anzahl der Patienten mit / ohne Herzkrankheit')\n",
    "plt.xlabel('Herzkrankheit (0 = Nein, 1 = Ja)')\n",
    "plt.ylabel('Anzahl der Patienten')\n",
    "\n",
    "# Zahlen über Balken schreiben\n",
    "for p in ax.patches:\n",
    "    height = p.get_height()\n",
    "    ax.annotate(f'{int(height)}',\n",
    "                (p.get_x() + p.get_width() / 2, height),\n",
    "                ha='center', va='bottom',\n",
    "                fontsize=11, fontweight='bold')\n",
    "\n",
    "# Plot anzeigen\n",
    "plt.show()"
   ],
   "id": "5bcd78d935e227c7"
  },
  {
   "metadata": {},
   "cell_type": "code",
   "outputs": [],
   "execution_count": null,
   "source": [
    "#Daten Vorverarbeitung\n",
    "#Duplikate checken\n",
    "# Alle duplizierten Zeilen (inkl. Erstvorkommen)\n",
    "duplikate_df = df[df.duplicated(keep=False)]\n",
    "\n",
    "# Anzahl und Prozent Duplikate\n",
    "anzahl_duplikate = len(duplikate_df)\n",
    "gesamt = len(df)\n",
    "prozent_duplikate = (anzahl_duplikate / gesamt) * 100\n",
    "\n",
    "# Verteilung HeartDisease in den Duplikaten\n",
    "verteilung_duplikate = duplikate_df['HeartDisease'].value_counts(normalize=True) * 100\n",
    "\n",
    "# Verteilung HeartDisease im gesamten DataFrame\n",
    "verteilung_gesamt = df['HeartDisease'].value_counts(normalize=True) * 100\n",
    "\n",
    "# Ausgabe\n",
    "print(\"Gesamtzeilen:\", gesamt)\n",
    "print(\"Anzahl mehrfach vorkommender Zeilen:\", anzahl_duplikate)\n",
    "print(f\"Prozent mehrfach vorkommend: {prozent_duplikate:.2f}%\\n\")\n",
    "\n",
    "print(\"Verteilung innerhalb der Duplikate HeartDisease:\")\n",
    "for wert, proz in verteilung_duplikate.items():\n",
    "    print(f\"  {wert}: {proz:.2f}%\")\n",
    "\n",
    "print(\"\\nGesamtverteilung HeartDisease:\")\n",
    "for wert, proz in verteilung_gesamt.items():\n",
    "    print(f\"  {wert}: {proz:.2f}%\")"
   ],
   "id": "548107d4b50b4fbd"
  },
  {
   "metadata": {},
   "cell_type": "code",
   "outputs": [],
   "execution_count": null,
   "source": [
    "#Duplikate Entfernen\n",
    "# Alle vollständig doppelten Zeilen entfernen (exkl. erstes Vorkommen)\n",
    "df_clean = df[~df.duplicated()]\n",
    "\n",
    "# Neue Verteilung berechnen\n",
    "verteilung_ohne_duplikate = df_clean['HeartDisease'].value_counts(normalize=True) * 100\n",
    "\n",
    "# Ausgabe\n",
    "print(\"Verteilung nach Entfernen aller doppelten Zeilen:\")\n",
    "for wert, proz in verteilung_ohne_duplikate.items():\n",
    "    print(f\"  {wert}: {proz:.2f}%\")\n"
   ],
   "id": "1874f7ba03604d61"
  },
  {
   "metadata": {},
   "cell_type": "code",
   "outputs": [],
   "execution_count": null,
   "source": "#Formatierung/Typeprüfung",
   "id": "94be7c5a4e4077f3"
  },
  {
   "metadata": {},
   "cell_type": "code",
   "outputs": [],
   "execution_count": null,
   "source": "#checken fehlende Werte",
   "id": "83c30efa77337b16"
  },
  {
   "metadata": {},
   "cell_type": "code",
   "outputs": [],
   "execution_count": null,
   "source": "#behandeln fehlende",
   "id": "c378d081d882445c"
  },
  {
   "metadata": {},
   "cell_type": "code",
   "outputs": [],
   "execution_count": null,
   "source": "#checken ob alle spalten Relevant",
   "id": "62c64f274468b339"
  },
  {
   "metadata": {},
   "cell_type": "code",
   "outputs": [],
   "execution_count": null,
   "source": "#Unrealistische Werte, anhand von sinvolligkeit in der Medizin",
   "id": "563f7375c0dc27ea"
  },
  {
   "metadata": {},
   "cell_type": "code",
   "outputs": [],
   "execution_count": null,
   "source": "#Biases Prüfen, bsp. gibt es viel mehr über 50 jährige als unter oder so",
   "id": "661dbbbcd421d953"
  },
  {
   "metadata": {},
   "cell_type": "code",
   "outputs": [],
   "execution_count": null,
   "source": "#Feature Engineering",
   "id": "495579a0cee404a"
  },
  {
   "metadata": {},
   "cell_type": "code",
   "outputs": [],
   "execution_count": null,
   "source": "#Skalierung",
   "id": "cf311d4252d918e3"
  },
  {
   "metadata": {},
   "cell_type": "code",
   "outputs": [],
   "execution_count": null,
   "source": "#One Hot Encoding",
   "id": "9a76e476921da513"
  },
  {
   "metadata": {},
   "cell_type": "code",
   "outputs": [],
   "execution_count": null,
   "source": "#Balancierung",
   "id": "375e6d3b4612273c"
  }
 ],
 "metadata": {
  "kernelspec": {
   "display_name": "Python 3",
   "language": "python",
   "name": "python3"
  },
  "language_info": {
   "codemirror_mode": {
    "name": "ipython",
    "version": 2
   },
   "file_extension": ".py",
   "mimetype": "text/x-python",
   "name": "python",
   "nbconvert_exporter": "python",
   "pygments_lexer": "ipython2",
   "version": "2.7.6"
  }
 },
 "nbformat": 4,
 "nbformat_minor": 5
}
